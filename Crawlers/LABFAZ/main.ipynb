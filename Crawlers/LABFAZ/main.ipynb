{
 "cells": [
  {
   "cell_type": "markdown",
   "source": [
    "## Imports"
   ],
   "metadata": {
    "collapsed": false,
    "pycharm": {
     "name": "#%% md\n"
    }
   }
  },
  {
   "cell_type": "code",
   "execution_count": 14,
   "outputs": [],
   "source": [
    "import os\n",
    "import unittest\n",
    "\n",
    "from selenium import webdriver\n",
    "from selenium.webdriver.common.by import By\n",
    "from selenium.webdriver.common.keys import Keys\n",
    "from selenium.webdriver.support.select import Select"
   ],
   "metadata": {
    "collapsed": false,
    "pycharm": {
     "name": "#%%\n"
    }
   }
  },
  {
   "cell_type": "markdown",
   "source": [
    "# Open Web driver"
   ],
   "metadata": {
    "collapsed": false,
    "pycharm": {
     "name": "#%% md\n"
    }
   }
  },
  {
   "cell_type": "code",
   "execution_count": 15,
   "outputs": [],
   "source": [
    "driver = webdriver.Chrome()\n"
   ],
   "metadata": {
    "collapsed": false,
    "pycharm": {
     "name": "#%%\n"
    }
   }
  },
  {
   "cell_type": "code",
   "execution_count": 16,
   "outputs": [],
   "source": [
    "driver.get('https://dev.labfaz.com.br/')\n",
    "\n",
    "driver.maximize_window()\n",
    "\n",
    "driver.find_element(By.XPATH,'/html/body/div[1]/div[2]/div[2]/div[3]/a[2]').click()\n",
    "\n",
    "driver.implicitly_wait(5)\n"
   ],
   "metadata": {
    "collapsed": false,
    "pycharm": {
     "name": "#%%\n"
    }
   }
  },
  {
   "cell_type": "markdown",
   "source": [
    "# Preencher pagina1"
   ],
   "metadata": {
    "collapsed": false,
    "pycharm": {
     "name": "#%% md\n"
    }
   }
  },
  {
   "cell_type": "code",
   "execution_count": 17,
   "outputs": [],
   "source": [
    "\n",
    "\n",
    "# Nome\n",
    "driver.find_element(By.XPATH,'/html/body/div/div[2]/div[3]/div/div/form/div[4]/div/div[1]/div/div[1]/div/div[1]/div/label/input').send_keys('Teste Labfaz')\n",
    "\n",
    "# Nome Social\n",
    "driver.find_element(By.XPATH,'/html/body/div/div[2]/div[3]/div/div/form/div[4]/div/div[1]/div/div[1]/div/div[2]/div/label/input').send_keys('Teste Automatizado Labfaz')\n",
    "\n",
    "# Nome Artístico\n",
    "driver.find_element(By.XPATH,'/html/body/div/div[2]/div[3]/div/div/form/div[4]/div/div[1]/div/div[1]/div/div[3]/div/label/input').send_keys('Testinho labfaz')\n",
    "\n",
    "# CPF\n",
    "driver.find_element(By.XPATH,'/html/body/div/div[2]/div[3]/div/div/form/div[4]/div/div[1]/div/div[1]/div/div[4]/div[1]/div/label').send_keys('38258733079')\n",
    "\n",
    "# Data de Nascimento\n",
    "driver.find_element(By.XPATH,'/html/body/div/div[2]/div[3]/div/div/form/div[4]/div/div[1]/div/div[1]/div/div[4]/div[2]/div/label').send_keys('01011990')\n",
    "\n",
    "# RG\n",
    "driver.find_element(By.XPATH,'/html/body/div/div[2]/div[3]/div/div/form/div[4]/div/div[1]/div/div[1]/div/div[5]/div[1]/div/label/input').send_keys('345080452')\n",
    "\n",
    "# Orgão expedidor\n",
    "driver.find_element(By.XPATH,'/html/body/div/div[2]/div[3]/div/div/form/div[4]/div/div[1]/div/div[1]/div/div[5]/div[2]/div/label/input').send_keys('SSPDF')\n",
    "\n",
    "# Qual sua cidade no DF?\n",
    "grade_dropdown = Select(driver.find_element(By.XPATH,'/html/body/div/div[2]/div[3]/div/div/form/div[4]/div/div[1]/div/div[2]/div/div[2]/label/div/select'))\n",
    "grade_dropdown.select_by_visible_text('Brasília')\n",
    "\n",
    "# CEP\n",
    "driver.find_element(By.XPATH,'/html/body/div/div[2]/div[3]/div/div/form/div[4]/div/div[1]/div/div[2]/div/div[2]/div/div/label').send_keys('72610109')\n",
    "\n",
    "driver.implicitly_wait(3)\n",
    "\n",
    "driver.find_element(By.XPATH,'/html/body/div/div[2]/div[3]/div/div/form/div[4]/div/button').click()\n",
    "\n"
   ],
   "metadata": {
    "collapsed": false,
    "pycharm": {
     "name": "#%%\n"
    }
   }
  },
  {
   "cell_type": "markdown",
   "source": [
    "# Pagina 2"
   ],
   "metadata": {
    "collapsed": false,
    "pycharm": {
     "name": "#%% md\n"
    }
   }
  },
  {
   "cell_type": "code",
   "execution_count": 18,
   "outputs": [],
   "source": [
    "# Etnia\n",
    "driver.find_element(By.XPATH,'/html/body/div/div[2]/div[3]/div/div/form/div[4]/div/div[1]/div/div[1]/div/div[1]/div[1]/div[1]/div/div[2]/label').click()\n",
    "\n",
    "\n",
    "# Genero\n",
    "\n",
    "driver.find_element(By.XPATH,'/html/body/div/div[2]/div[3]/div/div/form/div[4]/div/div[1]/div/div[1]/div/div[1]/div[2]/div[1]/div/div[2]/label').click()\n",
    "\n",
    "\n",
    "# Identidade de Genero\n",
    "driver.find_element(By.XPATH,'/html/body/div/div[2]/div[3]/div/div/form/div[4]/div/div[1]/div/div[1]/div/div[2]/div[1]/div/div[2]/label').click()\n",
    "\n",
    "\n",
    "\n",
    "# Orientação sexual\n",
    "driver.find_element(By.XPATH,'/html/body/div/div[2]/div[3]/div/div/form/div[4]/div/div[1]/div/div[2]/div/div/div[4]/div/div[2]/label').click()\n",
    "\n",
    "\n",
    "\n",
    "# Prox pag\n",
    "driver.find_element(By.XPATH,'/html/body/div/div[2]/div[3]/div/div/form/div[4]/div/button[2]').click()\n",
    "\n"
   ],
   "metadata": {
    "collapsed": false,
    "pycharm": {
     "name": "#%%\n"
    }
   }
  },
  {
   "cell_type": "markdown",
   "source": [
    "# Pagina 3 (email)"
   ],
   "metadata": {
    "collapsed": false,
    "pycharm": {
     "name": "#%% md\n"
    }
   }
  },
  {
   "cell_type": "code",
   "execution_count": 19,
   "outputs": [],
   "source": [
    "# image (file)\n",
    "\n",
    "driver.find_element(By.XPATH,'/html/body/div/div[2]/div[3]/div/div/form/div[4]/div/div[1]/div/div[1]/div/div[2]/input').send_keys(r\"D:\\\\Pessoal\\\\sealchris.png\")\n",
    "\n",
    "\n",
    "# Nome principal (Lista suspensa)\n",
    "grade_dropdown = Select(driver.find_element(By.XPATH,'/html/body/div/div[2]/div[3]/div/div/form/div[4]/div/div[1]/div/div[1]/div/label/div/select'))\n",
    "grade_dropdown.select_by_visible_text('Teste Labfaz')\n"
   ],
   "metadata": {
    "collapsed": false,
    "pycharm": {
     "name": "#%%\n"
    }
   }
  },
  {
   "cell_type": "code",
   "execution_count": 20,
   "outputs": [],
   "source": [
    "from selenium.webdriver import ActionChains\n",
    "from selenium.webdriver.support import expected_conditions as EC\n",
    "from selenium.webdriver.support.ui import WebDriverWait\n",
    "# e-mail\n",
    "\n",
    "\n",
    "windows_before  = driver.current_window_handle\n",
    "\n",
    "driver.execute_script('''window.open(\"https://emailfake.com\",\"_blank\");''')\n",
    "\n",
    "\n",
    "WebDriverWait(driver, 5).until(EC.number_of_windows_to_be(2))\n",
    "\n",
    "\n",
    "new_window = driver.window_handles[1]\n",
    "\n",
    "driver.switch_to.window(new_window)\n",
    "\n",
    "email = driver.find_element(By.XPATH,'/html/body/div[3]/div/div/b/span').get_attribute('innerHTML')\n",
    "\n",
    "\n",
    "old_window = driver.window_handles[0]\n",
    "driver.switch_to.window(old_window)\n",
    "\n",
    "driver.find_element(By.XPATH,'/html/body/div/div[2]/div[3]/div/div/form/div[4]/div/div[1]/div/div[2]/div/div[1]/div/div[1]/label/input').send_keys(email)\n"
   ],
   "metadata": {
    "collapsed": false,
    "pycharm": {
     "name": "#%%\n"
    }
   }
  },
  {
   "cell_type": "code",
   "execution_count": 21,
   "outputs": [],
   "source": [
    "\n",
    "# Avançar botão\n",
    "driver.find_element(By.XPATH,'/html/body/div/div[2]/div[3]/div/div/form/div[4]/div/button[2]').click()\n",
    "\n"
   ],
   "metadata": {
    "collapsed": false,
    "pycharm": {
     "name": "#%%\n"
    }
   }
  },
  {
   "cell_type": "markdown",
   "source": [
    "# Pagina 4"
   ],
   "metadata": {
    "collapsed": false,
    "pycharm": {
     "name": "#%% md\n"
    }
   }
  },
  {
   "cell_type": "code",
   "execution_count": 22,
   "outputs": [],
   "source": [
    "# Pessoa com deficiencia?\n",
    "driver.find_element(By.XPATH,'/html/body/div/div[2]/div[3]/div/div/form/div[4]/div/div[1]/div/div/div/div[1]/div/div[2]/label').click()\n",
    "\n",
    "\n",
    "driver.implicitly_wait(1)\n",
    "\n",
    "# Qual deficiencia? (check box)\n",
    "driver.find_element(By.XPATH,'/html/body/div/div[2]/div[3]/div/div/form/div[4]/div/div[1]/div/div/div[2]/div[2]/div[1]/label/input').click()\n",
    "\n",
    "                                # /html/body/div/div[2]/div[3]/div/div/form/div[4]/div/div[1]/div/div/div[2]/div[2]/div[2]/div/label\n",
    "\n",
    "# Laudo médico (file)\n",
    "driver.find_element(By.XPATH,'/html/body/div/div[2]/div[3]/div/div/form/div[4]/div/div[1]/div/div/div[2]/div[3]/div/input').send_keys(r\"D:\\\\Pessoal\\\\Laudo.pdf\")\n",
    "\n",
    "\n",
    "# Avançar (botão)\n",
    "driver.find_element(By.XPATH,'/html/body/div/div[2]/div[3]/div/div/form/div[4]/div/button[2]').click()\n",
    "\n",
    "# Em caso de possuir deficiências, quais recursos de acessibilidade seriam necessários para você?\n",
    "driver.find_element(By.XPATH,'/html/body/div/div[2]/div[3]/div/div/form/div[4]/div/div[1]/div/div/div/textarea').send_keys(\"Um assento confortavel\")\n",
    "\n",
    "\n",
    "# Avançar (botão)\n",
    "driver.find_element(By.XPATH,'/html/body/div/div[2]/div[3]/div/div/form/div[4]/div/button[2]').click()\n",
    "\n",
    "\n",
    "\n"
   ],
   "metadata": {
    "collapsed": false,
    "pycharm": {
     "name": "#%%\n"
    }
   }
  },
  {
   "cell_type": "code",
   "execution_count": 23,
   "outputs": [],
   "source": [
    "# Você domina outro idioma além do português? (check box)*\n",
    "driver.find_element(By.XPATH,'/html/body/div/div[2]/div[3]/div/div/form/div[4]/div/div[1]/div/div[1]/div/div[1]/label/input').click()\n",
    "\n",
    "# Formação escolar *\n",
    "\n",
    "driver.find_element(By.XPATH,'/html/body/div/div[2]/div[3]/div/div/form/div[4]/div/div[1]/div/div[2]/div/div[6]/div/div[2]/label').click()\n",
    "\n",
    "# Avançar (botão)\n",
    "driver.find_element(By.XPATH,'/html/body/div/div[2]/div[3]/div/div/form/div[4]/div/button[2]').click()"
   ],
   "metadata": {
    "collapsed": false,
    "pycharm": {
     "name": "#%%\n"
    }
   }
  },
  {
   "cell_type": "markdown",
   "source": [
    "# Pagina 5"
   ],
   "metadata": {
    "collapsed": false,
    "pycharm": {
     "name": "#%% md\n"
    }
   }
  },
  {
   "cell_type": "code",
   "execution_count": 24,
   "outputs": [],
   "source": [
    "# O seu trabalho na técnica está ligado à qual dessas áreas? *\n",
    "\n",
    "driver.find_element(By.XPATH,'/html/body/div/div[2]/div[3]/div/div/form/div[4]/div/div[1]/div/div[1]/div/div[1]/div/div[2]/label').click()\n",
    "\n",
    "\n",
    "\n",
    "# Avançar (botão)\n",
    "driver.find_element(By.XPATH,'/html/body/div/div[2]/div[3]/div/div/form/div[4]/div/button[2]').click()\n",
    "\n",
    "# Sobre o meu trabalho: Descreva quais são as atividades e serviços oferecidos por você\n",
    "driver.find_element(By.XPATH,'/html/body/div/div[2]/div[3]/div/div/form/div[4]/div/div[1]/div/div/div/textarea').send_keys(\"Um assento confortavel\")\n",
    "\n",
    "\n",
    "# Avançar (botão)\n",
    "driver.find_element(By.XPATH,'/html/body/div/div[2]/div[3]/div/div/form/div[4]/div/button[2]').click()\n",
    "\n",
    "\n",
    "# Avançar (botão)\n",
    "driver.find_element(By.XPATH,'/html/body/div/div[2]/div[3]/div/div/form/div[4]/div/button[2]').click()\n"
   ],
   "metadata": {
    "collapsed": false,
    "pycharm": {
     "name": "#%%\n"
    }
   }
  },
  {
   "cell_type": "markdown",
   "source": [
    "# Pagina 6"
   ],
   "metadata": {
    "collapsed": false,
    "pycharm": {
     "name": "#%% md\n"
    }
   }
  },
  {
   "cell_type": "code",
   "execution_count": 25,
   "outputs": [],
   "source": [
    "# Você possui Certificação/DRT? *\n",
    "driver.find_element(By.XPATH,'/html/body/div/div[2]/div[3]/div/div/form/div[4]/div/div[1]/div/div[1]/div/div[1]/div[2]/div/div[2]/label').click()\n",
    "\n",
    "\n",
    "# Você possui CEAC? *\n",
    "driver.find_element(By.XPATH,'/html/body/div/div[2]/div[3]/div/div/form/div[4]/div/div[1]/div/div[1]/div/div[2]/div[2]/div/div[2]/label').click()\n",
    "\n",
    "\n",
    "# Você possui CNPJ? *\n",
    "driver.find_element(By.XPATH,'/html/body/div/div[2]/div[3]/div/div/form/div[4]/div/div[1]/div/div[1]/div/div[3]/div[2]/div/div[2]/label').click()\n",
    "\n",
    "# Avançar (botão)\n",
    "driver.find_element(By.XPATH,'/html/body/div/div[2]/div[3]/div/div/form/div[4]/div/button[2]').click()\n",
    "\n",
    "\n"
   ],
   "metadata": {
    "collapsed": false,
    "pycharm": {
     "name": "#%%\n"
    }
   }
  },
  {
   "cell_type": "code",
   "execution_count": 31,
   "outputs": [],
   "source": [
    "# Senha\n",
    "driver.find_element(By.XPATH,'/html/body/div/div[2]/div[3]/div/div/form/div[4]/div/div[1]/div/div/div/div[2]/div/input').send_keys(\"12345678\")\n",
    "\n",
    "# Confirmaar senha\n",
    "driver.find_element(By.XPATH,'/html/body/div/div[2]/div[3]/div/div/form/div[4]/div/div[1]/div/div/div/div[3]/div/input').send_keys(\"12345678\")\n"
   ],
   "metadata": {
    "collapsed": false,
    "pycharm": {
     "name": "#%%\n"
    }
   }
  },
  {
   "cell_type": "code",
   "execution_count": 32,
   "outputs": [],
   "source": [
    "# Li e concordo\n",
    "driver.find_element(By.XPATH,'/html/body/div/div[2]/div[3]/div/div/form/div[4]/div/div[1]/div/div/div/div[4]/label/input').click()\n",
    "\n",
    "# Finalizar (botão)\n",
    "driver.find_element(By.XPATH,'/html/body/div/div[2]/div[3]/div/div/form/div[4]/div/button[2]').click()"
   ],
   "metadata": {
    "collapsed": false,
    "pycharm": {
     "name": "#%%\n"
    }
   }
  },
  {
   "cell_type": "markdown",
   "source": [
    "# Confirmar conta"
   ],
   "metadata": {
    "collapsed": false,
    "pycharm": {
     "name": "#%% md\n"
    }
   }
  },
  {
   "cell_type": "code",
   "execution_count": 28,
   "outputs": [],
   "source": [
    "from selenium.common import ElementClickInterceptedException\n",
    "import time\n",
    "new_window = driver.window_handles[1]\n",
    "driver.switch_to.window(new_window)\n",
    "\n",
    "\n",
    "time.sleep(10)\n",
    "driver.refresh()\n",
    "\n",
    "\n",
    "# WebDriverWait(driver, 20).until(EC.presence_of_element_located((By.XPATH, \"/html/body/div[4]/div/div/div/div[2]/div[2]/div[4]/div[3]/div/p[2]/a\"))).click()\n",
    "# driver.implicitly_wait(10)\n",
    "#\n",
    "\n",
    "confirmation_link = WebDriverWait(driver, 20).until(EC.element_to_be_clickable((By.XPATH, '/html/body/div[4]/div/div/div/div[2]/div[2]/div[4]/div[3]/div/p[2]/a'))).get_attribute('href')\n",
    "driver.execute_script(f'''window.open(\"{confirmation_link}\",\"_blank\");''')\n",
    "\n",
    "# try:\n",
    "#     WebDriverWait(driver, 20).until(EC.element_to_be_clickable((By.XPATH, '/html/body/div[4]/div/div/div/div[2]/div[2]/div[4]/div[3]/div/p[2]/a'))).click()\n",
    "# except ElementClickInterceptedException:\n",
    "#     time.sleep(5)\n",
    "#     WebDriverWait(driver, 20).until(EC.element_to_be_clickable((By.XPATH, '/html/body/div[4]/div/div/div/div[2]/div[2]/div[4]/div[3]/div/p[2]/a'))).click()\n",
    "#\n",
    "# try:\n",
    "#     WebDriverWait(driver, 20).until(EC.element_to_be_clickable((By.XPATH, '/html/body/div[4]/div/div/div/div[2]/div[2]/div[4]/div[3]/div/p[2]/a'))).click()\n",
    "# except ElementClickInterceptedException:\n",
    "#     time.sleep(5)\n",
    "#     WebDriverWait(driver, 20).until(EC.element_to_be_clickable((By.XPATH, '/html/body/div[4]/div/div/div/div[2]/div[2]/div[4]/div[3]/div/p[2]/a'))).click()\n",
    "\n",
    "\n",
    "# old_window = driver.window_handles[0]\n",
    "# driver.switch_to.window(old_window)\n"
   ],
   "metadata": {
    "collapsed": false,
    "pycharm": {
     "name": "#%%\n"
    }
   }
  },
  {
   "cell_type": "markdown",
   "source": [
    "# Login"
   ],
   "metadata": {
    "collapsed": false,
    "pycharm": {
     "name": "#%% md\n"
    }
   }
  },
  {
   "cell_type": "code",
   "execution_count": 37,
   "outputs": [],
   "source": [
    "# Usuário\n",
    "WebDriverWait(driver, 5).until(EC.number_of_windows_to_be(3))\n",
    "new_window = driver.window_handles[2]\n",
    "\n",
    "driver.switch_to.window(new_window)\n",
    "\n",
    "# WebDriverWait(driver, 20).until(EC.presence_of_element_located((By.XPATH, \"/html/body/div/div[2]/div[3]/div/div[1]/div/div[1]/img\")))\n",
    "driver.find_element(By.XPATH,'/html/body/div/div[2]/div[3]/div/div/div/a').click()\n",
    "\n",
    "driver.find_element(By.XPATH,'/html/body/div/div[2]/div[3]/div/div[1]/div/div[2]/form/div[1]/div[1]/label/input').send_keys(email)\n",
    "\n",
    "# Senha\n",
    "driver.find_element(By.XPATH,'/html/body/div/div[2]/div[3]/div/div[1]/div/div[2]/form/div[1]/div[2]/input').send_keys(\"12345678\")\n",
    "\n",
    "# Entrar (Botão)\n",
    "driver.find_element(By.XPATH,'/html/body/div/div[2]/div[3]/div/div[1]/div/div[2]/form/div[3]/button').click()\n"
   ],
   "metadata": {
    "collapsed": false,
    "pycharm": {
     "name": "#%%\n"
    }
   }
  },
  {
   "cell_type": "markdown",
   "source": [
    "# Ver perfil"
   ],
   "metadata": {
    "collapsed": false,
    "pycharm": {
     "name": "#%% md\n"
    }
   }
  },
  {
   "cell_type": "code",
   "execution_count": 36,
   "outputs": [],
   "source": [
    "# Perfil\n",
    "WebDriverWait(driver, 20).until(EC.element_to_be_clickable((By.XPATH, '/html/body/div/div[2]/div[2]/div[3]/a'))).click()\n"
   ],
   "metadata": {
    "collapsed": false,
    "pycharm": {
     "name": "#%%\n"
    }
   }
  }
 ],
 "metadata": {
  "kernelspec": {
   "display_name": "Python 3",
   "language": "python",
   "name": "python3"
  },
  "language_info": {
   "codemirror_mode": {
    "name": "ipython",
    "version": 2
   },
   "file_extension": ".py",
   "mimetype": "text/x-python",
   "name": "python",
   "nbconvert_exporter": "python",
   "pygments_lexer": "ipython2",
   "version": "2.7.6"
  }
 },
 "nbformat": 4,
 "nbformat_minor": 0
}