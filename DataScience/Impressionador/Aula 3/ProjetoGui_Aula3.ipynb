{
 "cells": [
  {
   "cell_type": "markdown",
   "metadata": {
    "pycharm": {
     "name": "#%% md\n"
    }
   },
   "source": [
    "# Automação Web e Busca de Informações com Python\n",
    "\n",
    "#### Desafio: \n",
    "\n",
    "Trabalhamos em uma importadora e o preço dos nossos produtos é vinculado a cotação de:\n",
    "- Dólar\n",
    "- Euro\n",
    "- Ouro\n",
    "\n",
    "Precisamos pegar na internet, de forma automática, a cotação desses 3 itens e saber quanto devemos cobrar pelos nossos produtos, considerando uma margem de contribuição que temos na nossa base de dados.\n",
    "\n",
    "Base de Dados: https://drive.google.com/drive/folders/1KmAdo593nD8J9QBaZxPOG1yxHZua4Rtv?usp=sharing\n",
    "\n",
    "Para isso, vamos criar uma automação web:\n",
    "\n",
    "- Usaremos o selenium\n",
    "- Importante: baixar o webdriver"
   ]
  },
  {
   "cell_type": "code",
   "execution_count": 172,
   "metadata": {
    "pycharm": {
     "name": "#%%\n"
    }
   },
   "outputs": [],
   "source": [
    "from selenium import webdriver\n",
    "\n",
    "from selenium.webdriver.common.by import By\n",
    "from selenium.webdriver.common.keys import Keys\n",
    "from selenium.common import NoSuchElementException\n",
    "from datetime import datetime\n"
   ]
  },
  {
   "cell_type": "code",
   "execution_count": 173,
   "outputs": [],
   "source": [
    "navegador = webdriver.Chrome()\n",
    "\n"
   ],
   "metadata": {
    "collapsed": false,
    "pycharm": {
     "name": "#%%\n"
    }
   }
  },
  {
   "cell_type": "markdown",
   "source": [
    "### Buscando a cotação do Dólar"
   ],
   "metadata": {
    "collapsed": false,
    "pycharm": {
     "name": "#%% md\n"
    }
   }
  },
  {
   "cell_type": "code",
   "execution_count": 174,
   "outputs": [
    {
     "data": {
      "text/plain": "5.2231"
     },
     "execution_count": 174,
     "metadata": {},
     "output_type": "execute_result"
    }
   ],
   "source": [
    "\n",
    "\n",
    "navegador.get('https://www.google.com/')\n",
    "\n",
    "navegador.find_element(By.XPATH,'/html/body/div[1]/div[3]/form/div[1]/div[1]/div[1]/div/div[2]/input').send_keys('cotação dólar')\n",
    "\n",
    "navegador.find_element(By.XPATH,'/html/body/div[1]/div[3]/form/div[1]/div[1]/div[1]/div/div[2]/input').send_keys(Keys.ENTER)\n",
    "try:\n",
    "    cotacao_dolar = navegador.find_element(By.XPATH, '/html/body/div[7]/div/div[10]/div/div[2]/div[2]/div/div/div[1]/div/div/div/div/div/div/div/div[3]/div[1]/div[1]/div[2]/span[1]').get_attribute('data-value')\n",
    "except NoSuchElementException:\n",
    "    cotacao_dolar = navegador.find_element(By.XPATH, '/html/body/div[7]/div/div[11]/div[1]/div[2]/div[2]/div/div/div[1]/div/div/div/div/div/div/div/div[3]/div[1]/div[1]/div[2]/span[1]').get_attribute('data-value')\n",
    "\n",
    "cotacao_dolar = float(cotacao_dolar.replace(',', '.'))\n",
    "cotacao_dolar\n"
   ],
   "metadata": {
    "collapsed": false,
    "pycharm": {
     "name": "#%%\n"
    }
   }
  },
  {
   "cell_type": "markdown",
   "source": [
    "### Buscando a cotação do Euro"
   ],
   "metadata": {
    "collapsed": false,
    "pycharm": {
     "name": "#%% md\n"
    }
   }
  },
  {
   "cell_type": "code",
   "execution_count": 175,
   "outputs": [],
   "source": [
    "navegador.get('https://www.google.com/')\n",
    "navegador.find_element(By.XPATH,'/html/body/div[1]/div[3]/form/div[1]/div[1]/div[1]/div/div[2]/input').send_keys('cotação euro')\n",
    "\n",
    "navegador.find_element(By.XPATH,'/html/body/div[1]/div[3]/form/div[1]/div[1]/div[1]/div/div[2]/input').send_keys(Keys.ENTER)\n",
    "\n",
    "try:\n",
    "    cotacao_euro = navegador.find_element(By.XPATH, '/html/body/div[7]/div/div[10]/div/div[2]/div[2]/div/div/div[1]/div/div/div/div/div/div/div/div[3]/div[1]/div[1]/div[2]/span[1]').get_attribute('data-value')\n",
    "except NoSuchElementException:\n",
    "    cotacao_euro = navegador.find_element(By.XPATH, '/html/body/div[7]/div/div[11]/div[1]/div[2]/div[2]/div/div/div[1]/div/div/div/div/div/div/div/div[3]/div[1]/div[1]/div[2]/span[1]').get_attribute('data-value')\n",
    "\n",
    "cotacao_euro = float(cotacao_euro.replace(',', '.'))"
   ],
   "metadata": {
    "collapsed": false,
    "pycharm": {
     "name": "#%%\n"
    }
   }
  },
  {
   "cell_type": "markdown",
   "source": [
    "### Buscando a cotação do Ouro"
   ],
   "metadata": {
    "collapsed": false,
    "pycharm": {
     "name": "#%% md\n"
    }
   }
  },
  {
   "cell_type": "code",
   "execution_count": 176,
   "outputs": [
    {
     "data": {
      "text/plain": "288.75"
     },
     "execution_count": 176,
     "metadata": {},
     "output_type": "execute_result"
    }
   ],
   "source": [
    "navegador.get('https://www.melhorcambio.com/ouro-hoje')\n",
    "cotacao_ouro = navegador.find_element(By.XPATH, '/html/body/div[5]/div[1]/div/div/input[2]').get_attribute('value')\n",
    "\n",
    "cotacao_ouro = float(cotacao_ouro.replace(',', '.'))\n",
    "cotacao_ouro"
   ],
   "metadata": {
    "collapsed": false,
    "pycharm": {
     "name": "#%%\n"
    }
   }
  },
  {
   "cell_type": "markdown",
   "source": [
    "### Finalizando a busca e atualizando a base de dados"
   ],
   "metadata": {
    "collapsed": false,
    "pycharm": {
     "name": "#%% md\n"
    }
   }
  },
  {
   "cell_type": "code",
   "execution_count": 177,
   "outputs": [],
   "source": [
    "import pandas as pd\n",
    "navegador.quit()\n"
   ],
   "metadata": {
    "collapsed": false,
    "pycharm": {
     "name": "#%%\n"
    }
   }
  },
  {
   "cell_type": "code",
   "execution_count": 187,
   "outputs": [
    {
     "name": "stdout",
     "output_type": "stream",
     "text": [
      "Cotacoes atualizadas em:  03:20:20\n"
     ]
    },
    {
     "data": {
      "text/plain": "   Moeda   Cotação\n0  Dólar    5.2231\n1   Euro    5.1111\n2   Ouro  288.7500",
      "text/html": "<div>\n<style scoped>\n    .dataframe tbody tr th:only-of-type {\n        vertical-align: middle;\n    }\n\n    .dataframe tbody tr th {\n        vertical-align: top;\n    }\n\n    .dataframe thead th {\n        text-align: right;\n    }\n</style>\n<table border=\"1\" class=\"dataframe\">\n  <thead>\n    <tr style=\"text-align: right;\">\n      <th></th>\n      <th>Moeda</th>\n      <th>Cotação</th>\n    </tr>\n  </thead>\n  <tbody>\n    <tr>\n      <th>0</th>\n      <td>Dólar</td>\n      <td>5.2231</td>\n    </tr>\n    <tr>\n      <th>1</th>\n      <td>Euro</td>\n      <td>5.1111</td>\n    </tr>\n    <tr>\n      <th>2</th>\n      <td>Ouro</td>\n      <td>288.7500</td>\n    </tr>\n  </tbody>\n</table>\n</div>"
     },
     "execution_count": 187,
     "metadata": {},
     "output_type": "execute_result"
    }
   ],
   "source": [
    "cotacoes = pd.DataFrame({\n",
    "    'Moeda': ['Dólar', 'Euro', 'Ouro'],\n",
    "    'Cotação': [cotacao_dolar, cotacao_euro, cotacao_ouro]\n",
    "})\n",
    "print(\"Cotacoes atualizadas em: \", datetime.now().strftime('%H:%M:%S'))\n",
    "cotacoes"
   ],
   "metadata": {
    "collapsed": false,
    "pycharm": {
     "name": "#%%\n"
    }
   }
  },
  {
   "cell_type": "markdown",
   "source": [
    "### Agora vamos atualizar a nossa base de preços com as novas cotações"
   ],
   "metadata": {
    "collapsed": false,
    "pycharm": {
     "name": "#%% md\n"
    }
   }
  },
  {
   "cell_type": "markdown",
   "metadata": {
    "pycharm": {
     "name": "#%% md\n"
    }
   },
   "source": [
    "- Importando a base de dados"
   ]
  },
  {
   "cell_type": "code",
   "execution_count": 180,
   "metadata": {
    "scrolled": true,
    "pycharm": {
     "name": "#%%\n"
    }
   },
   "outputs": [
    {
     "data": {
      "text/plain": "         Produtos  Preço Original  Moeda     Cotação  Preço de Compra  Margem  \\\n0    Câmera Canon          999.99  Dólar    5.222300      5222.247777    1.40   \n1   Carro Renault         4500.00   Euro    5.109263     22991.684922    2.00   \n2   Notebook Dell          899.99  Dólar    5.222300      4700.017777    1.70   \n3          IPhone          799.00  Dólar    5.222300      4172.617700    1.70   \n4      Carro Fiat         3000.00   Euro    5.109263     15327.789948    1.90   \n5  Celular Xiaomi          480.48  Dólar    5.222300      2509.210704    2.00   \n6        Joia 20g           20.00   Ouro  288.750000      5775.000000    1.15   \n\n   Preço de Venda  \n0     7311.146888  \n1    45983.369844  \n2     7990.030221  \n3     7093.450090  \n4    29122.800901  \n5     5018.421408  \n6     6641.250000  ",
      "text/html": "<div>\n<style scoped>\n    .dataframe tbody tr th:only-of-type {\n        vertical-align: middle;\n    }\n\n    .dataframe tbody tr th {\n        vertical-align: top;\n    }\n\n    .dataframe thead th {\n        text-align: right;\n    }\n</style>\n<table border=\"1\" class=\"dataframe\">\n  <thead>\n    <tr style=\"text-align: right;\">\n      <th></th>\n      <th>Produtos</th>\n      <th>Preço Original</th>\n      <th>Moeda</th>\n      <th>Cotação</th>\n      <th>Preço de Compra</th>\n      <th>Margem</th>\n      <th>Preço de Venda</th>\n    </tr>\n  </thead>\n  <tbody>\n    <tr>\n      <th>0</th>\n      <td>Câmera Canon</td>\n      <td>999.99</td>\n      <td>Dólar</td>\n      <td>5.222300</td>\n      <td>5222.247777</td>\n      <td>1.40</td>\n      <td>7311.146888</td>\n    </tr>\n    <tr>\n      <th>1</th>\n      <td>Carro Renault</td>\n      <td>4500.00</td>\n      <td>Euro</td>\n      <td>5.109263</td>\n      <td>22991.684922</td>\n      <td>2.00</td>\n      <td>45983.369844</td>\n    </tr>\n    <tr>\n      <th>2</th>\n      <td>Notebook Dell</td>\n      <td>899.99</td>\n      <td>Dólar</td>\n      <td>5.222300</td>\n      <td>4700.017777</td>\n      <td>1.70</td>\n      <td>7990.030221</td>\n    </tr>\n    <tr>\n      <th>3</th>\n      <td>IPhone</td>\n      <td>799.00</td>\n      <td>Dólar</td>\n      <td>5.222300</td>\n      <td>4172.617700</td>\n      <td>1.70</td>\n      <td>7093.450090</td>\n    </tr>\n    <tr>\n      <th>4</th>\n      <td>Carro Fiat</td>\n      <td>3000.00</td>\n      <td>Euro</td>\n      <td>5.109263</td>\n      <td>15327.789948</td>\n      <td>1.90</td>\n      <td>29122.800901</td>\n    </tr>\n    <tr>\n      <th>5</th>\n      <td>Celular Xiaomi</td>\n      <td>480.48</td>\n      <td>Dólar</td>\n      <td>5.222300</td>\n      <td>2509.210704</td>\n      <td>2.00</td>\n      <td>5018.421408</td>\n    </tr>\n    <tr>\n      <th>6</th>\n      <td>Joia 20g</td>\n      <td>20.00</td>\n      <td>Ouro</td>\n      <td>288.750000</td>\n      <td>5775.000000</td>\n      <td>1.15</td>\n      <td>6641.250000</td>\n    </tr>\n  </tbody>\n</table>\n</div>"
     },
     "execution_count": 180,
     "metadata": {},
     "output_type": "execute_result"
    }
   ],
   "source": [
    "produtos = pd.read_excel('Produtos.xlsx')\n",
    "produtos"
   ]
  },
  {
   "cell_type": "code",
   "execution_count": 181,
   "outputs": [
    {
     "data": {
      "text/plain": "         Produtos  Preço Original  Moeda   Cotação  Preço de Compra  Margem  \\\n0    Câmera Canon          999.99  Dólar    5.2231      5222.247777    1.40   \n1   Carro Renault         4500.00   Euro    5.1111     22991.684922    2.00   \n2   Notebook Dell          899.99  Dólar    5.2231      4700.017777    1.70   \n3          IPhone          799.00  Dólar    5.2231      4172.617700    1.70   \n4      Carro Fiat         3000.00   Euro    5.1111     15327.789948    1.90   \n5  Celular Xiaomi          480.48  Dólar    5.2231      2509.210704    2.00   \n6        Joia 20g           20.00   Ouro  288.7500      5775.000000    1.15   \n\n   Preço de Venda  \n0     7311.146888  \n1    45983.369844  \n2     7990.030221  \n3     7093.450090  \n4    29122.800901  \n5     5018.421408  \n6     6641.250000  ",
      "text/html": "<div>\n<style scoped>\n    .dataframe tbody tr th:only-of-type {\n        vertical-align: middle;\n    }\n\n    .dataframe tbody tr th {\n        vertical-align: top;\n    }\n\n    .dataframe thead th {\n        text-align: right;\n    }\n</style>\n<table border=\"1\" class=\"dataframe\">\n  <thead>\n    <tr style=\"text-align: right;\">\n      <th></th>\n      <th>Produtos</th>\n      <th>Preço Original</th>\n      <th>Moeda</th>\n      <th>Cotação</th>\n      <th>Preço de Compra</th>\n      <th>Margem</th>\n      <th>Preço de Venda</th>\n    </tr>\n  </thead>\n  <tbody>\n    <tr>\n      <th>0</th>\n      <td>Câmera Canon</td>\n      <td>999.99</td>\n      <td>Dólar</td>\n      <td>5.2231</td>\n      <td>5222.247777</td>\n      <td>1.40</td>\n      <td>7311.146888</td>\n    </tr>\n    <tr>\n      <th>1</th>\n      <td>Carro Renault</td>\n      <td>4500.00</td>\n      <td>Euro</td>\n      <td>5.1111</td>\n      <td>22991.684922</td>\n      <td>2.00</td>\n      <td>45983.369844</td>\n    </tr>\n    <tr>\n      <th>2</th>\n      <td>Notebook Dell</td>\n      <td>899.99</td>\n      <td>Dólar</td>\n      <td>5.2231</td>\n      <td>4700.017777</td>\n      <td>1.70</td>\n      <td>7990.030221</td>\n    </tr>\n    <tr>\n      <th>3</th>\n      <td>IPhone</td>\n      <td>799.00</td>\n      <td>Dólar</td>\n      <td>5.2231</td>\n      <td>4172.617700</td>\n      <td>1.70</td>\n      <td>7093.450090</td>\n    </tr>\n    <tr>\n      <th>4</th>\n      <td>Carro Fiat</td>\n      <td>3000.00</td>\n      <td>Euro</td>\n      <td>5.1111</td>\n      <td>15327.789948</td>\n      <td>1.90</td>\n      <td>29122.800901</td>\n    </tr>\n    <tr>\n      <th>5</th>\n      <td>Celular Xiaomi</td>\n      <td>480.48</td>\n      <td>Dólar</td>\n      <td>5.2231</td>\n      <td>2509.210704</td>\n      <td>2.00</td>\n      <td>5018.421408</td>\n    </tr>\n    <tr>\n      <th>6</th>\n      <td>Joia 20g</td>\n      <td>20.00</td>\n      <td>Ouro</td>\n      <td>288.7500</td>\n      <td>5775.000000</td>\n      <td>1.15</td>\n      <td>6641.250000</td>\n    </tr>\n  </tbody>\n</table>\n</div>"
     },
     "execution_count": 181,
     "metadata": {},
     "output_type": "execute_result"
    }
   ],
   "source": [
    "produtos.loc[produtos['Moeda'] == 'Dólar','Cotação'] = cotacao_dolar\n",
    "produtos.loc[produtos['Moeda'] == 'Euro','Cotação'] = cotacao_euro\n",
    "produtos.loc[produtos['Moeda'] == 'Ouro','Cotação'] = cotacao_ouro\n",
    "produtos"
   ],
   "metadata": {
    "collapsed": false,
    "pycharm": {
     "name": "#%%\n"
    }
   }
  },
  {
   "cell_type": "code",
   "execution_count": 182,
   "outputs": [
    {
     "data": {
      "text/plain": "         Produtos  Preço Original  Moeda   Cotação  Preço de Compra  Margem  \\\n0    Câmera Canon          999.99  Dólar    5.2231      5223.047769    1.40   \n1   Carro Renault         4500.00   Euro    5.1111     22999.950000    2.00   \n2   Notebook Dell          899.99  Dólar    5.2231      4700.737769    1.70   \n3          IPhone          799.00  Dólar    5.2231      4173.256900    1.70   \n4      Carro Fiat         3000.00   Euro    5.1111     15333.300000    1.90   \n5  Celular Xiaomi          480.48  Dólar    5.2231      2509.595088    2.00   \n6        Joia 20g           20.00   Ouro  288.7500      5775.000000    1.15   \n\n   Preço de Venda  \n0     7312.266877  \n1    45999.900000  \n2     7991.254207  \n3     7094.536730  \n4    29133.270000  \n5     5019.190176  \n6     6641.250000  ",
      "text/html": "<div>\n<style scoped>\n    .dataframe tbody tr th:only-of-type {\n        vertical-align: middle;\n    }\n\n    .dataframe tbody tr th {\n        vertical-align: top;\n    }\n\n    .dataframe thead th {\n        text-align: right;\n    }\n</style>\n<table border=\"1\" class=\"dataframe\">\n  <thead>\n    <tr style=\"text-align: right;\">\n      <th></th>\n      <th>Produtos</th>\n      <th>Preço Original</th>\n      <th>Moeda</th>\n      <th>Cotação</th>\n      <th>Preço de Compra</th>\n      <th>Margem</th>\n      <th>Preço de Venda</th>\n    </tr>\n  </thead>\n  <tbody>\n    <tr>\n      <th>0</th>\n      <td>Câmera Canon</td>\n      <td>999.99</td>\n      <td>Dólar</td>\n      <td>5.2231</td>\n      <td>5223.047769</td>\n      <td>1.40</td>\n      <td>7312.266877</td>\n    </tr>\n    <tr>\n      <th>1</th>\n      <td>Carro Renault</td>\n      <td>4500.00</td>\n      <td>Euro</td>\n      <td>5.1111</td>\n      <td>22999.950000</td>\n      <td>2.00</td>\n      <td>45999.900000</td>\n    </tr>\n    <tr>\n      <th>2</th>\n      <td>Notebook Dell</td>\n      <td>899.99</td>\n      <td>Dólar</td>\n      <td>5.2231</td>\n      <td>4700.737769</td>\n      <td>1.70</td>\n      <td>7991.254207</td>\n    </tr>\n    <tr>\n      <th>3</th>\n      <td>IPhone</td>\n      <td>799.00</td>\n      <td>Dólar</td>\n      <td>5.2231</td>\n      <td>4173.256900</td>\n      <td>1.70</td>\n      <td>7094.536730</td>\n    </tr>\n    <tr>\n      <th>4</th>\n      <td>Carro Fiat</td>\n      <td>3000.00</td>\n      <td>Euro</td>\n      <td>5.1111</td>\n      <td>15333.300000</td>\n      <td>1.90</td>\n      <td>29133.270000</td>\n    </tr>\n    <tr>\n      <th>5</th>\n      <td>Celular Xiaomi</td>\n      <td>480.48</td>\n      <td>Dólar</td>\n      <td>5.2231</td>\n      <td>2509.595088</td>\n      <td>2.00</td>\n      <td>5019.190176</td>\n    </tr>\n    <tr>\n      <th>6</th>\n      <td>Joia 20g</td>\n      <td>20.00</td>\n      <td>Ouro</td>\n      <td>288.7500</td>\n      <td>5775.000000</td>\n      <td>1.15</td>\n      <td>6641.250000</td>\n    </tr>\n  </tbody>\n</table>\n</div>"
     },
     "metadata": {},
     "output_type": "display_data"
    }
   ],
   "source": [
    "produtos[\"Preço de Compra\"] = produtos[\"Preço Original\"] * produtos[\"Cotação\"]\n",
    "produtos[\"Preço de Venda\"] = produtos[\"Preço de Compra\"] * produtos[\"Margem\"]\n",
    "display(produtos)"
   ],
   "metadata": {
    "collapsed": false,
    "pycharm": {
     "name": "#%%\n"
    }
   }
  },
  {
   "cell_type": "code",
   "execution_count": 183,
   "outputs": [
    {
     "name": "stdout",
     "output_type": "stream",
     "text": [
      "Planilha atualizada às 03:18:53\n"
     ]
    }
   ],
   "source": [
    "produtos.to_excel('Produtos.xlsx', index=False)\n",
    "\n",
    "print(\"Planilha atualizada às\", datetime.now().strftime('%H:%M:%S'))"
   ],
   "metadata": {
    "collapsed": false,
    "pycharm": {
     "name": "#%%\n"
    }
   }
  },
  {
   "cell_type": "markdown",
   "metadata": {
    "pycharm": {
     "name": "#%% md\n"
    }
   },
   "source": [
    "- Atualizando os preços e o cálculo do Preço Final"
   ]
  },
  {
   "cell_type": "code",
   "execution_count": 183,
   "metadata": {
    "pycharm": {
     "name": "#%%\n"
    }
   },
   "outputs": [],
   "source": []
  },
  {
   "cell_type": "markdown",
   "metadata": {
    "pycharm": {
     "name": "#%% md\n"
    }
   },
   "source": [
    "### Agora vamos exportar a nova base de preços atualizada"
   ]
  },
  {
   "cell_type": "code",
   "execution_count": 183,
   "metadata": {
    "pycharm": {
     "name": "#%%\n"
    }
   },
   "outputs": [],
   "source": []
  }
 ],
 "metadata": {
  "kernelspec": {
   "display_name": "Python 3",
   "language": "python",
   "name": "python3"
  },
  "language_info": {
   "codemirror_mode": {
    "name": "ipython",
    "version": 3
   },
   "file_extension": ".py",
   "mimetype": "text/x-python",
   "name": "python",
   "nbconvert_exporter": "python",
   "pygments_lexer": "ipython3",
   "version": "3.8.8"
  }
 },
 "nbformat": 4,
 "nbformat_minor": 4
}