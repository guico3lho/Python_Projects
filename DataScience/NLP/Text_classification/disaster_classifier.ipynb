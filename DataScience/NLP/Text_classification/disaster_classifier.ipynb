{
 "cells": [
  {
   "cell_type": "markdown",
   "source": [
    "### Imports"
   ],
   "metadata": {
    "collapsed": false
   }
  },
  {
   "cell_type": "code",
   "execution_count": 28,
   "outputs": [],
   "source": [
    "import keras.losses\n",
    "import pandas as pd\n",
    "import os"
   ],
   "metadata": {
    "collapsed": false
   }
  },
  {
   "cell_type": "code",
   "execution_count": 29,
   "outputs": [
    {
     "data": {
      "text/plain": "<module 'My_PythonPackage.nlp_utils' from 'C:\\\\Users\\\\guimi\\\\Documents\\\\Python_Projects\\\\My_PythonPackage\\\\nlp_utils.py'>"
     },
     "execution_count": 29,
     "metadata": {},
     "output_type": "execute_result"
    }
   ],
   "source": [
    "import importlib\n",
    "import My_PythonPackage.nlp_utils as nlp_utils\n",
    "importlib.reload(nlp_utils)"
   ],
   "metadata": {
    "collapsed": false
   }
  },
  {
   "cell_type": "code",
   "execution_count": 30,
   "outputs": [
    {
     "data": {
      "text/plain": "'C:\\\\Users\\\\guimi\\\\Documents\\\\Python_Projects\\\\DataScience\\\\NLP\\\\Text_classification'"
     },
     "execution_count": 30,
     "metadata": {},
     "output_type": "execute_result"
    }
   ],
   "source": [
    "os.getcwd()"
   ],
   "metadata": {
    "collapsed": false
   }
  },
  {
   "cell_type": "markdown",
   "source": [],
   "metadata": {
    "collapsed": false
   }
  },
  {
   "cell_type": "markdown",
   "source": [
    "### Importing datasets"
   ],
   "metadata": {
    "collapsed": false
   }
  },
  {
   "cell_type": "code",
   "execution_count": 31,
   "outputs": [],
   "source": [
    "df_train_raw = pd.read_csv('../../Datasets/nlp-getting-started/train.csv')\n",
    "df_test_raw = pd.read_csv('../../Datasets/nlp-getting-started/test.csv')"
   ],
   "metadata": {
    "collapsed": false
   }
  },
  {
   "cell_type": "code",
   "execution_count": 32,
   "outputs": [
    {
     "data": {
      "text/plain": "         id             keyword                    location  \\\n2809   4041            disaster                 Calgary, AB   \n5476   7815          quarantine                         NaN   \n5493   7839          quarantine                      London   \n5144   7335   nuclear%20reactor                       World   \n4905   6981            massacre                         NaN   \n6819   9766             trapped         central chazifornia   \n912    1319              bloody                          PH   \n840    1219            blizzard              Ontario Canada   \n1093   1579              bombed             Dundas, Ontario   \n4924   7013              mayhem               Lynchburg, VA   \n6105   8717             sinking               Michigan, USA   \n6171   8801              sirens                  Nomad, USA   \n1469   2117         catastrophe                         NaN   \n3823   5439  first%20responders               Aberdeenshire   \n6694   9591             thunder                         NaN   \n4215   5988           hazardous                         USA   \n1852   2663               crush                         NaN   \n7460  10676              wounds  ?Gangsta OC / MV RP; 18+.?   \n778    1126           blew%20up         wherever the $$$ at   \n525     759           avalanche                          UK   \n\n                                                   text  target  \n2809  The @rbcinsurance quote website = disaster. Tr...       0  \n5476  Reddit Will Now Quarantine Offensive Content h...       0  \n5493  Reddit updates content policy promises to quar...       0  \n5144  Finnish ministers: Fennovoima nuclear reactor ...       1  \n4905  Sousse beach massacre linked to Tunis museum a...       1  \n6819  salute to all the kids still trapped in adult ...       0  \n912   Friday supposed to be a happy day but it's a b...       0  \n840                    @TCGReno just hard reset my Xbox       0  \n1093  Jays rocking #MLB @JoeyBats19 just bombed one ...       0  \n4924  Anyone else think that Stephen sounds like And...       0  \n6105  Û¢Û¢If your lost &amp; alone or your sinking...       0  \n6171                         Fuck Sleeping With Sirens.       0  \n1469  @gemmahentsch @megynkelly @DLoesch I can not e...       0  \n3823  US wants future first responders to be more hi...       0  \n6694        My brother is crying cause the thunder lmao       0  \n4215  #Taiwan Grace: expect that large rocks trees m...       1  \n1852  Being bestfriends with your high school crush?...       0  \n7460  @IcyMagistrate ÛÓher upper armÛÒ those /frig...       1  \n778                          Bitch done blew my shit up       0  \n525   Musician Kalle Mattson Recreates 34 Classic Al...       0  ",
      "text/html": "<div>\n<style scoped>\n    .dataframe tbody tr th:only-of-type {\n        vertical-align: middle;\n    }\n\n    .dataframe tbody tr th {\n        vertical-align: top;\n    }\n\n    .dataframe thead th {\n        text-align: right;\n    }\n</style>\n<table border=\"1\" class=\"dataframe\">\n  <thead>\n    <tr style=\"text-align: right;\">\n      <th></th>\n      <th>id</th>\n      <th>keyword</th>\n      <th>location</th>\n      <th>text</th>\n      <th>target</th>\n    </tr>\n  </thead>\n  <tbody>\n    <tr>\n      <th>2809</th>\n      <td>4041</td>\n      <td>disaster</td>\n      <td>Calgary, AB</td>\n      <td>The @rbcinsurance quote website = disaster. Tr...</td>\n      <td>0</td>\n    </tr>\n    <tr>\n      <th>5476</th>\n      <td>7815</td>\n      <td>quarantine</td>\n      <td>NaN</td>\n      <td>Reddit Will Now Quarantine Offensive Content h...</td>\n      <td>0</td>\n    </tr>\n    <tr>\n      <th>5493</th>\n      <td>7839</td>\n      <td>quarantine</td>\n      <td>London</td>\n      <td>Reddit updates content policy promises to quar...</td>\n      <td>0</td>\n    </tr>\n    <tr>\n      <th>5144</th>\n      <td>7335</td>\n      <td>nuclear%20reactor</td>\n      <td>World</td>\n      <td>Finnish ministers: Fennovoima nuclear reactor ...</td>\n      <td>1</td>\n    </tr>\n    <tr>\n      <th>4905</th>\n      <td>6981</td>\n      <td>massacre</td>\n      <td>NaN</td>\n      <td>Sousse beach massacre linked to Tunis museum a...</td>\n      <td>1</td>\n    </tr>\n    <tr>\n      <th>6819</th>\n      <td>9766</td>\n      <td>trapped</td>\n      <td>central chazifornia</td>\n      <td>salute to all the kids still trapped in adult ...</td>\n      <td>0</td>\n    </tr>\n    <tr>\n      <th>912</th>\n      <td>1319</td>\n      <td>bloody</td>\n      <td>PH</td>\n      <td>Friday supposed to be a happy day but it's a b...</td>\n      <td>0</td>\n    </tr>\n    <tr>\n      <th>840</th>\n      <td>1219</td>\n      <td>blizzard</td>\n      <td>Ontario Canada</td>\n      <td>@TCGReno just hard reset my Xbox</td>\n      <td>0</td>\n    </tr>\n    <tr>\n      <th>1093</th>\n      <td>1579</td>\n      <td>bombed</td>\n      <td>Dundas, Ontario</td>\n      <td>Jays rocking #MLB @JoeyBats19 just bombed one ...</td>\n      <td>0</td>\n    </tr>\n    <tr>\n      <th>4924</th>\n      <td>7013</td>\n      <td>mayhem</td>\n      <td>Lynchburg, VA</td>\n      <td>Anyone else think that Stephen sounds like And...</td>\n      <td>0</td>\n    </tr>\n    <tr>\n      <th>6105</th>\n      <td>8717</td>\n      <td>sinking</td>\n      <td>Michigan, USA</td>\n      <td>Û¢Û¢If your lost &amp;amp; alone or your sinking...</td>\n      <td>0</td>\n    </tr>\n    <tr>\n      <th>6171</th>\n      <td>8801</td>\n      <td>sirens</td>\n      <td>Nomad, USA</td>\n      <td>Fuck Sleeping With Sirens.</td>\n      <td>0</td>\n    </tr>\n    <tr>\n      <th>1469</th>\n      <td>2117</td>\n      <td>catastrophe</td>\n      <td>NaN</td>\n      <td>@gemmahentsch @megynkelly @DLoesch I can not e...</td>\n      <td>0</td>\n    </tr>\n    <tr>\n      <th>3823</th>\n      <td>5439</td>\n      <td>first%20responders</td>\n      <td>Aberdeenshire</td>\n      <td>US wants future first responders to be more hi...</td>\n      <td>0</td>\n    </tr>\n    <tr>\n      <th>6694</th>\n      <td>9591</td>\n      <td>thunder</td>\n      <td>NaN</td>\n      <td>My brother is crying cause the thunder lmao</td>\n      <td>0</td>\n    </tr>\n    <tr>\n      <th>4215</th>\n      <td>5988</td>\n      <td>hazardous</td>\n      <td>USA</td>\n      <td>#Taiwan Grace: expect that large rocks trees m...</td>\n      <td>1</td>\n    </tr>\n    <tr>\n      <th>1852</th>\n      <td>2663</td>\n      <td>crush</td>\n      <td>NaN</td>\n      <td>Being bestfriends with your high school crush?...</td>\n      <td>0</td>\n    </tr>\n    <tr>\n      <th>7460</th>\n      <td>10676</td>\n      <td>wounds</td>\n      <td>?Gangsta OC / MV RP; 18+.?</td>\n      <td>@IcyMagistrate ÛÓher upper armÛÒ those /frig...</td>\n      <td>1</td>\n    </tr>\n    <tr>\n      <th>778</th>\n      <td>1126</td>\n      <td>blew%20up</td>\n      <td>wherever the $$$ at</td>\n      <td>Bitch done blew my shit up</td>\n      <td>0</td>\n    </tr>\n    <tr>\n      <th>525</th>\n      <td>759</td>\n      <td>avalanche</td>\n      <td>UK</td>\n      <td>Musician Kalle Mattson Recreates 34 Classic Al...</td>\n      <td>0</td>\n    </tr>\n  </tbody>\n</table>\n</div>"
     },
     "execution_count": 32,
     "metadata": {},
     "output_type": "execute_result"
    }
   ],
   "source": [
    "df_train_raw.sample(20)"
   ],
   "metadata": {
    "collapsed": false
   }
  },
  {
   "cell_type": "code",
   "execution_count": 33,
   "outputs": [
    {
     "name": "stdout",
     "output_type": "stream",
     "text": [
      "3271\n",
      "4342\n"
     ]
    }
   ],
   "source": [
    "print((df_train_raw.target == 1).sum())\n",
    "print((df_train_raw.target == 0).sum())"
   ],
   "metadata": {
    "collapsed": false
   }
  },
  {
   "cell_type": "markdown",
   "source": [
    "### Data Preprocessing"
   ],
   "metadata": {
    "collapsed": false
   }
  },
  {
   "cell_type": "code",
   "execution_count": 34,
   "outputs": [],
   "source": [
    "import re\n",
    "import string\n",
    "\n",
    "def remove_URL(text):\n",
    "    url = re.compile(r'https?://\\S+|www\\.\\S+')\n",
    "    return url.sub(r'',text)\n",
    "\n",
    "def remove_punct(text):\n",
    "    table = str.maketrans('','',string.punctuation)\n",
    "    return text.translate(table)\n"
   ],
   "metadata": {
    "collapsed": false
   }
  },
  {
   "cell_type": "code",
   "execution_count": 35,
   "outputs": [],
   "source": [
    "df_train = df_train_raw.copy()\n",
    "df_test = df_test_raw.copy()\n",
    "\n",
    "df_train['text'] = df_train['text'].map(lambda x: remove_URL(x))\n",
    "df_train['text'] = df_train['text'].map(lambda x: remove_punct(x))\n",
    "df_train['text'] = df_train['text'].map(lambda x: x.lower())\n",
    "\n",
    "df_test['text'] = df_test['text'].map(lambda x: remove_URL(x))\n",
    "df_test['text'] = df_test['text'].map(lambda x: remove_punct(x))\n",
    "df_test['text'] = df_test['text'].map(lambda x: x.lower())"
   ],
   "metadata": {
    "collapsed": false
   }
  },
  {
   "cell_type": "code",
   "execution_count": 36,
   "outputs": [
    {
     "data": {
      "text/plain": "         id keyword location  \\\n7593  10848     NaN      NaN   \n7594  10849     NaN      NaN   \n7595  10850     NaN      NaN   \n7596  10851     NaN      NaN   \n7597  10852     NaN      NaN   \n7598  10853     NaN      NaN   \n7599  10854     NaN      NaN   \n7600  10855     NaN      NaN   \n7601  10859     NaN      NaN   \n7602  10860     NaN      NaN   \n7603  10862     NaN      NaN   \n7604  10863     NaN      NaN   \n7605  10864     NaN      NaN   \n7606  10866     NaN      NaN   \n7607  10867     NaN      NaN   \n7608  10869     NaN      NaN   \n7609  10870     NaN      NaN   \n7610  10871     NaN      NaN   \n7611  10872     NaN      NaN   \n7612  10873     NaN      NaN   \n\n                                                   text  target  \n7593  i just heard a really loud bang and everyone i...       0  \n7594  a gas thing just exploded and i heard screams ...       1  \n7595  nws flash flood warning continued for shelby c...       1  \n7596  rt livingsafely nws issues severe thunderstorm...       1  \n7597      mh370 aircraft debris found on la reunion ...       1  \n7598  fatherofthree lost control of car after overta...       1  \n7599  13 earthquake in 9km ssw of anza california ip...       1  \n7600    evacuation order lifted for town of roosevelt         1  \n7601  breaking la refugio oil spill may have been co...       1  \n7602  a siren just went off and it wasnt the forney ...       1  \n7603  officials say a quarantine is in place at an a...       1  \n7604  worldnews fallen powerlines on glink tram upda...       1  \n7605  on the flip side im at walmart and there is a ...       1  \n7606  suicide bomber kills 15 in saudi security site...       1  \n7607  stormchase violent record breaking ef5 el reno...       1  \n7608  two giant cranes holding a bridge collapse int...       1  \n7609  ariaahrary thetawniest the out of control wild...       1  \n7610              m194 0104 utc5km s of volcano hawaii        1  \n7611  police investigating after an ebike collided w...       1  \n7612  the latest more homes razed by northern califo...       1  ",
      "text/html": "<div>\n<style scoped>\n    .dataframe tbody tr th:only-of-type {\n        vertical-align: middle;\n    }\n\n    .dataframe tbody tr th {\n        vertical-align: top;\n    }\n\n    .dataframe thead th {\n        text-align: right;\n    }\n</style>\n<table border=\"1\" class=\"dataframe\">\n  <thead>\n    <tr style=\"text-align: right;\">\n      <th></th>\n      <th>id</th>\n      <th>keyword</th>\n      <th>location</th>\n      <th>text</th>\n      <th>target</th>\n    </tr>\n  </thead>\n  <tbody>\n    <tr>\n      <th>7593</th>\n      <td>10848</td>\n      <td>NaN</td>\n      <td>NaN</td>\n      <td>i just heard a really loud bang and everyone i...</td>\n      <td>0</td>\n    </tr>\n    <tr>\n      <th>7594</th>\n      <td>10849</td>\n      <td>NaN</td>\n      <td>NaN</td>\n      <td>a gas thing just exploded and i heard screams ...</td>\n      <td>1</td>\n    </tr>\n    <tr>\n      <th>7595</th>\n      <td>10850</td>\n      <td>NaN</td>\n      <td>NaN</td>\n      <td>nws flash flood warning continued for shelby c...</td>\n      <td>1</td>\n    </tr>\n    <tr>\n      <th>7596</th>\n      <td>10851</td>\n      <td>NaN</td>\n      <td>NaN</td>\n      <td>rt livingsafely nws issues severe thunderstorm...</td>\n      <td>1</td>\n    </tr>\n    <tr>\n      <th>7597</th>\n      <td>10852</td>\n      <td>NaN</td>\n      <td>NaN</td>\n      <td>mh370 aircraft debris found on la reunion ...</td>\n      <td>1</td>\n    </tr>\n    <tr>\n      <th>7598</th>\n      <td>10853</td>\n      <td>NaN</td>\n      <td>NaN</td>\n      <td>fatherofthree lost control of car after overta...</td>\n      <td>1</td>\n    </tr>\n    <tr>\n      <th>7599</th>\n      <td>10854</td>\n      <td>NaN</td>\n      <td>NaN</td>\n      <td>13 earthquake in 9km ssw of anza california ip...</td>\n      <td>1</td>\n    </tr>\n    <tr>\n      <th>7600</th>\n      <td>10855</td>\n      <td>NaN</td>\n      <td>NaN</td>\n      <td>evacuation order lifted for town of roosevelt</td>\n      <td>1</td>\n    </tr>\n    <tr>\n      <th>7601</th>\n      <td>10859</td>\n      <td>NaN</td>\n      <td>NaN</td>\n      <td>breaking la refugio oil spill may have been co...</td>\n      <td>1</td>\n    </tr>\n    <tr>\n      <th>7602</th>\n      <td>10860</td>\n      <td>NaN</td>\n      <td>NaN</td>\n      <td>a siren just went off and it wasnt the forney ...</td>\n      <td>1</td>\n    </tr>\n    <tr>\n      <th>7603</th>\n      <td>10862</td>\n      <td>NaN</td>\n      <td>NaN</td>\n      <td>officials say a quarantine is in place at an a...</td>\n      <td>1</td>\n    </tr>\n    <tr>\n      <th>7604</th>\n      <td>10863</td>\n      <td>NaN</td>\n      <td>NaN</td>\n      <td>worldnews fallen powerlines on glink tram upda...</td>\n      <td>1</td>\n    </tr>\n    <tr>\n      <th>7605</th>\n      <td>10864</td>\n      <td>NaN</td>\n      <td>NaN</td>\n      <td>on the flip side im at walmart and there is a ...</td>\n      <td>1</td>\n    </tr>\n    <tr>\n      <th>7606</th>\n      <td>10866</td>\n      <td>NaN</td>\n      <td>NaN</td>\n      <td>suicide bomber kills 15 in saudi security site...</td>\n      <td>1</td>\n    </tr>\n    <tr>\n      <th>7607</th>\n      <td>10867</td>\n      <td>NaN</td>\n      <td>NaN</td>\n      <td>stormchase violent record breaking ef5 el reno...</td>\n      <td>1</td>\n    </tr>\n    <tr>\n      <th>7608</th>\n      <td>10869</td>\n      <td>NaN</td>\n      <td>NaN</td>\n      <td>two giant cranes holding a bridge collapse int...</td>\n      <td>1</td>\n    </tr>\n    <tr>\n      <th>7609</th>\n      <td>10870</td>\n      <td>NaN</td>\n      <td>NaN</td>\n      <td>ariaahrary thetawniest the out of control wild...</td>\n      <td>1</td>\n    </tr>\n    <tr>\n      <th>7610</th>\n      <td>10871</td>\n      <td>NaN</td>\n      <td>NaN</td>\n      <td>m194 0104 utc5km s of volcano hawaii</td>\n      <td>1</td>\n    </tr>\n    <tr>\n      <th>7611</th>\n      <td>10872</td>\n      <td>NaN</td>\n      <td>NaN</td>\n      <td>police investigating after an ebike collided w...</td>\n      <td>1</td>\n    </tr>\n    <tr>\n      <th>7612</th>\n      <td>10873</td>\n      <td>NaN</td>\n      <td>NaN</td>\n      <td>the latest more homes razed by northern califo...</td>\n      <td>1</td>\n    </tr>\n  </tbody>\n</table>\n</div>"
     },
     "execution_count": 36,
     "metadata": {},
     "output_type": "execute_result"
    }
   ],
   "source": [
    "df_train.tail(20)"
   ],
   "metadata": {
    "collapsed": false
   }
  },
  {
   "cell_type": "markdown",
   "source": [],
   "metadata": {
    "collapsed": false
   }
  },
  {
   "cell_type": "code",
   "execution_count": 37,
   "outputs": [
    {
     "name": "stderr",
     "output_type": "stream",
     "text": [
      "[nltk_data] Downloading package stopwords to\n",
      "[nltk_data]     C:\\Users\\guimi\\AppData\\Roaming\\nltk_data...\n",
      "[nltk_data]   Package stopwords is already up-to-date!\n"
     ]
    }
   ],
   "source": [
    "stop_words = nlp_utils.usingStopwords('en')\n",
    "df_train['text'] = df_train['text'].map(lambda x: nlp_utils.removeStopwords(x,stop_words))\n",
    "df_test['text'] = df_test['text'].map(lambda x: nlp_utils.removeStopwords(x,stop_words))\n"
   ],
   "metadata": {
    "collapsed": false
   }
  },
  {
   "cell_type": "code",
   "execution_count": 38,
   "outputs": [
    {
     "data": {
      "text/plain": "         id keyword location  \\\n7593  10848     NaN      NaN   \n7594  10849     NaN      NaN   \n7595  10850     NaN      NaN   \n7596  10851     NaN      NaN   \n7597  10852     NaN      NaN   \n7598  10853     NaN      NaN   \n7599  10854     NaN      NaN   \n7600  10855     NaN      NaN   \n7601  10859     NaN      NaN   \n7602  10860     NaN      NaN   \n7603  10862     NaN      NaN   \n7604  10863     NaN      NaN   \n7605  10864     NaN      NaN   \n7606  10866     NaN      NaN   \n7607  10867     NaN      NaN   \n7608  10869     NaN      NaN   \n7609  10870     NaN      NaN   \n7610  10871     NaN      NaN   \n7611  10872     NaN      NaN   \n7612  10873     NaN      NaN   \n\n                                                   text  target  \n7593       heard really loud bang everyone asleep great       0  \n7594  gas thing exploded heard screams whole street ...       1  \n7595  nws flash flood warning continued shelby count...       1  \n7596  rt livingsafely nws issues severe thunderstorm...       1  \n7597  mh370 aircraft debris found la reunion missing...       1  \n7598  fatherofthree lost control car overtaking coll...       1  \n7599  13 earthquake 9km ssw anza california iphone u...       1  \n7600             evacuation order lifted town roosevelt       1  \n7601  breaking la refugio oil spill may costlier big...       1  \n7602            siren went wasnt forney tornado warning       1  \n7603  officials say quarantine place alabama home po...       1  \n7604  worldnews fallen powerlines glink tram update ...       1  \n7605  flip side im walmart bomb everyone evacuate st...       1  \n7606  suicide bomber kills 15 saudi security site mo...       1  \n7607  stormchase violent record breaking ef5 el reno...       1  \n7608  two giant cranes holding bridge collapse nearb...       1  \n7609  ariaahrary thetawniest control wild fires cali...       1  \n7610                    m194 0104 utc5km volcano hawaii       1  \n7611  police investigating ebike collided car little...       1  \n7612  latest homes razed northern california wildfir...       1  ",
      "text/html": "<div>\n<style scoped>\n    .dataframe tbody tr th:only-of-type {\n        vertical-align: middle;\n    }\n\n    .dataframe tbody tr th {\n        vertical-align: top;\n    }\n\n    .dataframe thead th {\n        text-align: right;\n    }\n</style>\n<table border=\"1\" class=\"dataframe\">\n  <thead>\n    <tr style=\"text-align: right;\">\n      <th></th>\n      <th>id</th>\n      <th>keyword</th>\n      <th>location</th>\n      <th>text</th>\n      <th>target</th>\n    </tr>\n  </thead>\n  <tbody>\n    <tr>\n      <th>7593</th>\n      <td>10848</td>\n      <td>NaN</td>\n      <td>NaN</td>\n      <td>heard really loud bang everyone asleep great</td>\n      <td>0</td>\n    </tr>\n    <tr>\n      <th>7594</th>\n      <td>10849</td>\n      <td>NaN</td>\n      <td>NaN</td>\n      <td>gas thing exploded heard screams whole street ...</td>\n      <td>1</td>\n    </tr>\n    <tr>\n      <th>7595</th>\n      <td>10850</td>\n      <td>NaN</td>\n      <td>NaN</td>\n      <td>nws flash flood warning continued shelby count...</td>\n      <td>1</td>\n    </tr>\n    <tr>\n      <th>7596</th>\n      <td>10851</td>\n      <td>NaN</td>\n      <td>NaN</td>\n      <td>rt livingsafely nws issues severe thunderstorm...</td>\n      <td>1</td>\n    </tr>\n    <tr>\n      <th>7597</th>\n      <td>10852</td>\n      <td>NaN</td>\n      <td>NaN</td>\n      <td>mh370 aircraft debris found la reunion missing...</td>\n      <td>1</td>\n    </tr>\n    <tr>\n      <th>7598</th>\n      <td>10853</td>\n      <td>NaN</td>\n      <td>NaN</td>\n      <td>fatherofthree lost control car overtaking coll...</td>\n      <td>1</td>\n    </tr>\n    <tr>\n      <th>7599</th>\n      <td>10854</td>\n      <td>NaN</td>\n      <td>NaN</td>\n      <td>13 earthquake 9km ssw anza california iphone u...</td>\n      <td>1</td>\n    </tr>\n    <tr>\n      <th>7600</th>\n      <td>10855</td>\n      <td>NaN</td>\n      <td>NaN</td>\n      <td>evacuation order lifted town roosevelt</td>\n      <td>1</td>\n    </tr>\n    <tr>\n      <th>7601</th>\n      <td>10859</td>\n      <td>NaN</td>\n      <td>NaN</td>\n      <td>breaking la refugio oil spill may costlier big...</td>\n      <td>1</td>\n    </tr>\n    <tr>\n      <th>7602</th>\n      <td>10860</td>\n      <td>NaN</td>\n      <td>NaN</td>\n      <td>siren went wasnt forney tornado warning</td>\n      <td>1</td>\n    </tr>\n    <tr>\n      <th>7603</th>\n      <td>10862</td>\n      <td>NaN</td>\n      <td>NaN</td>\n      <td>officials say quarantine place alabama home po...</td>\n      <td>1</td>\n    </tr>\n    <tr>\n      <th>7604</th>\n      <td>10863</td>\n      <td>NaN</td>\n      <td>NaN</td>\n      <td>worldnews fallen powerlines glink tram update ...</td>\n      <td>1</td>\n    </tr>\n    <tr>\n      <th>7605</th>\n      <td>10864</td>\n      <td>NaN</td>\n      <td>NaN</td>\n      <td>flip side im walmart bomb everyone evacuate st...</td>\n      <td>1</td>\n    </tr>\n    <tr>\n      <th>7606</th>\n      <td>10866</td>\n      <td>NaN</td>\n      <td>NaN</td>\n      <td>suicide bomber kills 15 saudi security site mo...</td>\n      <td>1</td>\n    </tr>\n    <tr>\n      <th>7607</th>\n      <td>10867</td>\n      <td>NaN</td>\n      <td>NaN</td>\n      <td>stormchase violent record breaking ef5 el reno...</td>\n      <td>1</td>\n    </tr>\n    <tr>\n      <th>7608</th>\n      <td>10869</td>\n      <td>NaN</td>\n      <td>NaN</td>\n      <td>two giant cranes holding bridge collapse nearb...</td>\n      <td>1</td>\n    </tr>\n    <tr>\n      <th>7609</th>\n      <td>10870</td>\n      <td>NaN</td>\n      <td>NaN</td>\n      <td>ariaahrary thetawniest control wild fires cali...</td>\n      <td>1</td>\n    </tr>\n    <tr>\n      <th>7610</th>\n      <td>10871</td>\n      <td>NaN</td>\n      <td>NaN</td>\n      <td>m194 0104 utc5km volcano hawaii</td>\n      <td>1</td>\n    </tr>\n    <tr>\n      <th>7611</th>\n      <td>10872</td>\n      <td>NaN</td>\n      <td>NaN</td>\n      <td>police investigating ebike collided car little...</td>\n      <td>1</td>\n    </tr>\n    <tr>\n      <th>7612</th>\n      <td>10873</td>\n      <td>NaN</td>\n      <td>NaN</td>\n      <td>latest homes razed northern california wildfir...</td>\n      <td>1</td>\n    </tr>\n  </tbody>\n</table>\n</div>"
     },
     "execution_count": 38,
     "metadata": {},
     "output_type": "execute_result"
    }
   ],
   "source": [
    "df_train.tail(20)"
   ],
   "metadata": {
    "collapsed": false
   }
  },
  {
   "cell_type": "markdown",
   "source": [],
   "metadata": {
    "collapsed": false
   }
  },
  {
   "cell_type": "markdown",
   "source": [
    "### Selecting variables for model"
   ],
   "metadata": {
    "collapsed": false
   }
  },
  {
   "cell_type": "code",
   "execution_count": 39,
   "outputs": [],
   "source": [
    "X = df_train.text\n",
    "y = df_train.target"
   ],
   "metadata": {
    "collapsed": false
   }
  },
  {
   "cell_type": "markdown",
   "source": [
    "### Splitting data into train and test"
   ],
   "metadata": {
    "collapsed": false
   }
  },
  {
   "cell_type": "code",
   "execution_count": 40,
   "outputs": [],
   "source": [
    "from sklearn.model_selection import train_test_split\n",
    "X_train, X_val, y_train, y_val = train_test_split(X, y, train_size=0.8, random_state=42)"
   ],
   "metadata": {
    "collapsed": false
   }
  },
  {
   "cell_type": "markdown",
   "source": [
    "### Vocabulary"
   ],
   "metadata": {
    "collapsed": false
   }
  },
  {
   "cell_type": "code",
   "execution_count": 41,
   "outputs": [
    {
     "data": {
      "text/plain": "17971"
     },
     "execution_count": 41,
     "metadata": {},
     "output_type": "execute_result"
    }
   ],
   "source": [
    "tokens = []\n",
    "termos = {}\n",
    "for text in X:\n",
    "    for token in text.split():\n",
    "        tokens.append(token)\n",
    "        if token in termos:\n",
    "            termos[token] += 1\n",
    "        else:\n",
    "            termos[token] = 1\n",
    "vocab_size = len(termos)\n",
    "vocab_size"
   ],
   "metadata": {
    "collapsed": false
   }
  },
  {
   "cell_type": "code",
   "execution_count": 42,
   "outputs": [
    {
     "data": {
      "text/plain": "[('like', 345), ('im', 299), ('amp', 298), ('fire', 250), ('get', 229)]"
     },
     "execution_count": 42,
     "metadata": {},
     "output_type": "execute_result"
    }
   ],
   "source": [
    "# get 5 words with highest frequency from termos\n",
    "sorted(termos.items(), key=lambda x: x[1], reverse=True)[:5]"
   ],
   "metadata": {
    "collapsed": false
   }
  },
  {
   "cell_type": "markdown",
   "source": [
    "### Train Numericalização"
   ],
   "metadata": {
    "collapsed": false
   }
  },
  {
   "cell_type": "code",
   "execution_count": 43,
   "outputs": [],
   "source": [
    "from keras.preprocessing.text import Tokenizer\n",
    "from keras_preprocessing.sequence import pad_sequences"
   ],
   "metadata": {
    "collapsed": false
   }
  },
  {
   "cell_type": "code",
   "execution_count": 44,
   "outputs": [],
   "source": [
    "tokenizer = Tokenizer(num_words=vocab_size)\n",
    "tokenizer.fit_on_texts(X_train)\n",
    "word2index = tokenizer.word_index\n",
    "train_sequences = tokenizer.texts_to_sequences(X_train)"
   ],
   "metadata": {
    "collapsed": false
   }
  },
  {
   "cell_type": "code",
   "execution_count": 45,
   "outputs": [
    {
     "data": {
      "text/plain": "25"
     },
     "execution_count": 45,
     "metadata": {},
     "output_type": "execute_result"
    }
   ],
   "source": [
    "max_len = nlp_utils.findMaxLen(train_sequences)\n",
    "max_len"
   ],
   "metadata": {
    "collapsed": false
   }
  },
  {
   "cell_type": "markdown",
   "source": [
    "### Train padding"
   ],
   "metadata": {
    "collapsed": false
   }
  },
  {
   "cell_type": "code",
   "execution_count": 46,
   "outputs": [],
   "source": [
    "train_padded = pad_sequences(train_sequences, maxlen=max_len, padding='post', truncating='post')"
   ],
   "metadata": {
    "collapsed": false
   }
  },
  {
   "cell_type": "markdown",
   "source": [
    "### Validation Numericalization and Padding"
   ],
   "metadata": {
    "collapsed": false
   }
  },
  {
   "cell_type": "code",
   "execution_count": 47,
   "outputs": [],
   "source": [
    "val_sequences = tokenizer.texts_to_sequences(X_val)\n",
    "val_padded = pad_sequences(val_sequences, maxlen=max_len, padding='post', truncating='post')"
   ],
   "metadata": {
    "collapsed": false
   }
  },
  {
   "cell_type": "code",
   "execution_count": 48,
   "outputs": [
    {
     "name": "stdout",
     "output_type": "stream",
     "text": [
      "[5625, 3710, 2254, 76, 339, 127, 50, 1908, 3711, 1016, 149, 3712, 3713]\n",
      "[5625 3710 2254   76  339  127   50 1908 3711 1016  149 3712 3713    0\n",
      "    0    0    0    0    0    0    0    0    0    0    0]\n"
     ]
    }
   ],
   "source": [
    "# print(X_train[0])\n",
    "print(train_sequences[0])\n",
    "print(train_padded[0])"
   ],
   "metadata": {
    "collapsed": false
   }
  },
  {
   "cell_type": "markdown",
   "source": [
    "### RNN model"
   ],
   "metadata": {
    "collapsed": false
   }
  },
  {
   "cell_type": "code",
   "execution_count": 49,
   "outputs": [],
   "source": [
    "from keras.models import Sequential\n",
    "from keras.layers import Embedding, LSTM, Dense, Dropout, Bidirectional\n",
    "from keras.optimizers import Adam\n",
    "from keras.losses import BinaryCrossentropy\n"
   ],
   "metadata": {
    "collapsed": false
   }
  },
  {
   "cell_type": "code",
   "execution_count": 50,
   "outputs": [
    {
     "name": "stdout",
     "output_type": "stream",
     "text": [
      "Model: \"sequential_1\"\n",
      "_________________________________________________________________\n",
      " Layer (type)                Output Shape              Param #   \n",
      "=================================================================\n",
      " embedding_1 (Embedding)     (None, 25, 32)            575072    \n",
      "                                                                 \n",
      " lstm_1 (LSTM)               (None, 64)                24832     \n",
      "                                                                 \n",
      " dense_1 (Dense)             (None, 1)                 65        \n",
      "                                                                 \n",
      "=================================================================\n",
      "Total params: 599,969\n",
      "Trainable params: 599,969\n",
      "Non-trainable params: 0\n",
      "_________________________________________________________________\n"
     ]
    }
   ],
   "source": [
    "model = Sequential([\n",
    "    Embedding(input_dim=vocab_size, output_dim=32, input_length=max_len),\n",
    "    LSTM(64, dropout=0.1),\n",
    "    Dense(1, activation='sigmoid')\n",
    "])\n",
    "model.summary()"
   ],
   "metadata": {
    "collapsed": false
   }
  },
  {
   "cell_type": "code",
   "execution_count": 51,
   "outputs": [
    {
     "name": "stdout",
     "output_type": "stream",
     "text": [
      "Epoch 1/20\n",
      "191/191 - 6s - loss: 0.5671 - accuracy: 0.6941 - val_loss: 0.4531 - val_accuracy: 0.7997 - 6s/epoch - 33ms/step\n",
      "Epoch 2/20\n",
      "191/191 - 4s - loss: 0.3044 - accuracy: 0.8829 - val_loss: 0.5010 - val_accuracy: 0.7919 - 4s/epoch - 21ms/step\n",
      "Epoch 3/20\n",
      "191/191 - 4s - loss: 0.1586 - accuracy: 0.9466 - val_loss: 0.6691 - val_accuracy: 0.7623 - 4s/epoch - 21ms/step\n",
      "Epoch 4/20\n",
      "191/191 - 4s - loss: 0.1088 - accuracy: 0.9662 - val_loss: 0.7811 - val_accuracy: 0.7643 - 4s/epoch - 20ms/step\n",
      "Epoch 5/20\n",
      "191/191 - 4s - loss: 0.0832 - accuracy: 0.9772 - val_loss: 0.6429 - val_accuracy: 0.7610 - 4s/epoch - 19ms/step\n",
      "Epoch 6/20\n",
      "191/191 - 4s - loss: 0.0725 - accuracy: 0.9810 - val_loss: 0.7756 - val_accuracy: 0.7754 - 4s/epoch - 19ms/step\n",
      "Epoch 7/20\n",
      "191/191 - 4s - loss: 0.0624 - accuracy: 0.9811 - val_loss: 0.6420 - val_accuracy: 0.7623 - 4s/epoch - 19ms/step\n",
      "Epoch 8/20\n",
      "191/191 - 3s - loss: 0.0539 - accuracy: 0.9828 - val_loss: 0.9388 - val_accuracy: 0.7754 - 3s/epoch - 18ms/step\n",
      "Epoch 9/20\n",
      "191/191 - 4s - loss: 0.0472 - accuracy: 0.9831 - val_loss: 1.2760 - val_accuracy: 0.7623 - 4s/epoch - 19ms/step\n",
      "Epoch 10/20\n",
      "191/191 - 4s - loss: 0.0429 - accuracy: 0.9828 - val_loss: 1.2099 - val_accuracy: 0.7656 - 4s/epoch - 19ms/step\n",
      "Epoch 11/20\n",
      "191/191 - 4s - loss: 0.0312 - accuracy: 0.9849 - val_loss: 1.5939 - val_accuracy: 0.7656 - 4s/epoch - 19ms/step\n",
      "Epoch 12/20\n",
      "191/191 - 4s - loss: 0.0322 - accuracy: 0.9852 - val_loss: 1.1323 - val_accuracy: 0.7623 - 4s/epoch - 21ms/step\n",
      "Epoch 13/20\n",
      "191/191 - 4s - loss: 0.0300 - accuracy: 0.9857 - val_loss: 1.1861 - val_accuracy: 0.7748 - 4s/epoch - 19ms/step\n",
      "Epoch 14/20\n",
      "191/191 - 4s - loss: 0.0256 - accuracy: 0.9856 - val_loss: 1.6101 - val_accuracy: 0.7603 - 4s/epoch - 19ms/step\n",
      "Epoch 15/20\n",
      "191/191 - 4s - loss: 0.0263 - accuracy: 0.9865 - val_loss: 1.3313 - val_accuracy: 0.7557 - 4s/epoch - 18ms/step\n",
      "Epoch 16/20\n",
      "191/191 - 4s - loss: 0.0282 - accuracy: 0.9854 - val_loss: 1.1788 - val_accuracy: 0.7636 - 4s/epoch - 19ms/step\n",
      "Epoch 17/20\n",
      "191/191 - 4s - loss: 0.0336 - accuracy: 0.9854 - val_loss: 1.3080 - val_accuracy: 0.7630 - 4s/epoch - 19ms/step\n",
      "Epoch 18/20\n",
      "191/191 - 4s - loss: 0.0284 - accuracy: 0.9842 - val_loss: 1.1630 - val_accuracy: 0.7479 - 4s/epoch - 19ms/step\n",
      "Epoch 19/20\n",
      "191/191 - 4s - loss: 0.0306 - accuracy: 0.9837 - val_loss: 1.4057 - val_accuracy: 0.7571 - 4s/epoch - 19ms/step\n",
      "Epoch 20/20\n",
      "191/191 - 4s - loss: 0.0276 - accuracy: 0.9867 - val_loss: 1.5638 - val_accuracy: 0.7393 - 4s/epoch - 19ms/step\n"
     ]
    },
    {
     "data": {
      "text/plain": "<keras.callbacks.History at 0x1cde6fbc6d0>"
     },
     "execution_count": 51,
     "metadata": {},
     "output_type": "execute_result"
    }
   ],
   "source": [
    "loss = BinaryCrossentropy(from_logits=False)\n",
    "optim = Adam(learning_rate=0.001)\n",
    "metrics = ['accuracy']\n",
    "model.compile(loss=loss, optimizer=optim, metrics=metrics)\n",
    "model.fit(train_padded, y_train, epochs=20, validation_data=(val_padded, y_val),verbose=2)"
   ],
   "metadata": {
    "collapsed": false
   }
  },
  {
   "cell_type": "markdown",
   "source": [
    "### Predictions"
   ],
   "metadata": {
    "collapsed": false
   }
  },
  {
   "cell_type": "code",
   "execution_count": 87,
   "outputs": [],
   "source": [
    "X_test = df_test.text\n",
    "test_sequences = tokenizer.texts_to_sequences(X_test)\n",
    "test_padded = pad_sequences(test_sequences, maxlen=max_len, padding='post', truncating='post')"
   ],
   "metadata": {
    "collapsed": false
   }
  },
  {
   "cell_type": "code",
   "execution_count": 89,
   "outputs": [
    {
     "data": {
      "text/plain": "['happened', 'terrible', 'car', 'crash']"
     },
     "execution_count": 89,
     "metadata": {},
     "output_type": "execute_result"
    }
   ],
   "source": [
    "index2word = {}\n",
    "for key in word2index:\n",
    "    index2word[word2index[key]] = key\n",
    "\n",
    "text = []\n",
    "for index in test_sequences[0]:\n",
    "    text.append(index2word[index])\n",
    "    # type(index)\n",
    "text"
   ],
   "metadata": {
    "collapsed": false
   }
  },
  {
   "cell_type": "code",
   "execution_count": 90,
   "outputs": [
    {
     "name": "stdout",
     "output_type": "stream",
     "text": [
      "102/102 [==============================] - 0s 5ms/step\n"
     ]
    }
   ],
   "source": [
    "predictions = model.predict(test_padded)"
   ],
   "metadata": {
    "collapsed": false
   }
  },
  {
   "cell_type": "code",
   "execution_count": 91,
   "outputs": [
    {
     "data": {
      "text/plain": "array([[0.23070061],\n       [0.9997521 ],\n       [0.9997464 ],\n       ...,\n       [0.99978197],\n       [0.0514433 ],\n       [0.9997755 ]], dtype=float32)"
     },
     "execution_count": 91,
     "metadata": {},
     "output_type": "execute_result"
    }
   ],
   "source": [
    "predictions"
   ],
   "metadata": {
    "collapsed": false
   }
  },
  {
   "cell_type": "markdown",
   "source": [],
   "metadata": {
    "collapsed": false
   }
  },
  {
   "cell_type": "markdown",
   "source": [
    "### Pre Processing"
   ],
   "metadata": {
    "collapsed": false
   }
  },
  {
   "cell_type": "code",
   "execution_count": 53,
   "outputs": [],
   "source": [
    "# pattern = re.compile(r'https?://\\S+|www\\.\\S+')\n",
    "# for t in df_train.text:\n",
    "#     matches = pattern.findall(t)\n",
    "#     for match in matches:\n",
    "#         print(t)\n",
    "#         print(match)\n",
    "#         print(pattern.sub())\n"
   ],
   "metadata": {
    "collapsed": false
   }
  }
 ],
 "metadata": {
  "kernelspec": {
   "display_name": "Python 3",
   "language": "python",
   "name": "python3"
  },
  "language_info": {
   "codemirror_mode": {
    "name": "ipython",
    "version": 2
   },
   "file_extension": ".py",
   "mimetype": "text/x-python",
   "name": "python",
   "nbconvert_exporter": "python",
   "pygments_lexer": "ipython2",
   "version": "2.7.6"
  }
 },
 "nbformat": 4,
 "nbformat_minor": 0
}
