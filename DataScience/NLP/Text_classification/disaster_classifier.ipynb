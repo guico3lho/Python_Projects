{
 "cells": [
  {
   "cell_type": "markdown",
   "source": [
    "### Imports"
   ],
   "metadata": {
    "collapsed": false
   }
  },
  {
   "cell_type": "code",
   "execution_count": 488,
   "outputs": [],
   "source": [
    "import keras.losses\n",
    "import numpy as np\n",
    "import pandas as pd\n",
    "import os"
   ],
   "metadata": {
    "collapsed": false
   }
  },
  {
   "cell_type": "code",
   "execution_count": 489,
   "outputs": [
    {
     "data": {
      "text/plain": "<module 'My_PythonPackage.nlp_utils' from 'C:\\\\Users\\\\guimi\\\\Documents\\\\Python_Projects\\\\My_PythonPackage\\\\nlp_utils.py'>"
     },
     "execution_count": 489,
     "metadata": {},
     "output_type": "execute_result"
    }
   ],
   "source": [
    "import importlib\n",
    "import My_PythonPackage.nlp_utils as nlp_utils\n",
    "importlib.reload(nlp_utils)"
   ],
   "metadata": {
    "collapsed": false
   }
  },
  {
   "cell_type": "markdown",
   "source": [
    "### Importing datasets"
   ],
   "metadata": {
    "collapsed": false
   }
  },
  {
   "cell_type": "code",
   "execution_count": 490,
   "outputs": [],
   "source": [
    "df_train_raw = pd.read_csv('../../Datasets/nlp-getting-started/train.csv')\n",
    "df_test_raw = pd.read_csv('../../Datasets/nlp-getting-started/test.csv')"
   ],
   "metadata": {
    "collapsed": false
   }
  },
  {
   "cell_type": "code",
   "execution_count": 491,
   "outputs": [
    {
     "data": {
      "text/plain": "         id                keyword                   location  \\\n10       16                    NaN                        NaN   \n7181  10290                 weapon                        NaN   \n583     842              bioterror              Manhattan, NY   \n4174   5929                   harm                        NaN   \n4222   5997              hazardous                        NaN   \n5980   8540              screaming                  nap queen   \n2252   3225                deluged             Clearwater, FL   \n4546   6463                injured                        NaN   \n2679   3841               detonate              Morioh, Japan   \n979    1418             body%20bag                   New York   \n4372   6211               hijacker                        NaN   \n3483   4980              explosion                        NaN   \n7395  10582              windstorm  Home is where we park it!   \n4075   5793                   hail              United States   \n5543   7908  radiation%20emergency              #MayGodHelpUS   \n4789   6813            loud%20bang                      Kenya   \n5043   7191               mudslide                        NaN   \n364     522                   army                        NaN   \n2310   3318             demolished                        NaN   \n3950   5617               flooding                        USA   \n\n                                                   text  target  \n10          Three people died from the heat wave so far       1  \n7181  Fur Leather Coats sprite &amp; weapon of choic...       0  \n583   #frontpage: #Bioterror lab faced secret sancti...       0  \n4174  @TasteMyCupCakee lmfaooo  hell nawh ?? yo ass ...       0  \n4222  #what #tribal Olap #world pres: http://t.co/Jw...       0  \n5980  like little boy you better sit your ass down s...       0  \n2252  @LisaToddSutton The reason I bring this up  bc...       0  \n4546  @michaelgbaron how come scott rice doesn't get...       0  \n2679  @TinyJecht Are you another Stand-user? If you ...       0  \n979   genuine Leather man Bag Messenger fit iPad min...       0  \n4372  Governor allows parole for California school b...       0  \n3483  Big Data and Social Information explosion: The...       0  \n7395  @rangerkaitimay had major windstorm thunder an...       1  \n4075  LZK issues Severe Thunderstorm Warning [wind: ...       1  \n5543  #CCOT #TCOT #radiation Nuclear Emergency Track...       0  \n4789  tianta_: Breaking news! Unconfirmed! I just he...       1  \n5043  When bae soak you in mudslide at backroom???? ...       0  \n364   Beyonce Is my pick for http://t.co/nnMQlz91o9 ...       0  \n2310  Got my first gamer troll I just demolished a k...       1  \n3950  Severe Thunderstorms and Flash Flooding Possib...       1  ",
      "text/html": "<div>\n<style scoped>\n    .dataframe tbody tr th:only-of-type {\n        vertical-align: middle;\n    }\n\n    .dataframe tbody tr th {\n        vertical-align: top;\n    }\n\n    .dataframe thead th {\n        text-align: right;\n    }\n</style>\n<table border=\"1\" class=\"dataframe\">\n  <thead>\n    <tr style=\"text-align: right;\">\n      <th></th>\n      <th>id</th>\n      <th>keyword</th>\n      <th>location</th>\n      <th>text</th>\n      <th>target</th>\n    </tr>\n  </thead>\n  <tbody>\n    <tr>\n      <th>10</th>\n      <td>16</td>\n      <td>NaN</td>\n      <td>NaN</td>\n      <td>Three people died from the heat wave so far</td>\n      <td>1</td>\n    </tr>\n    <tr>\n      <th>7181</th>\n      <td>10290</td>\n      <td>weapon</td>\n      <td>NaN</td>\n      <td>Fur Leather Coats sprite &amp;amp; weapon of choic...</td>\n      <td>0</td>\n    </tr>\n    <tr>\n      <th>583</th>\n      <td>842</td>\n      <td>bioterror</td>\n      <td>Manhattan, NY</td>\n      <td>#frontpage: #Bioterror lab faced secret sancti...</td>\n      <td>0</td>\n    </tr>\n    <tr>\n      <th>4174</th>\n      <td>5929</td>\n      <td>harm</td>\n      <td>NaN</td>\n      <td>@TasteMyCupCakee lmfaooo  hell nawh ?? yo ass ...</td>\n      <td>0</td>\n    </tr>\n    <tr>\n      <th>4222</th>\n      <td>5997</td>\n      <td>hazardous</td>\n      <td>NaN</td>\n      <td>#what #tribal Olap #world pres: http://t.co/Jw...</td>\n      <td>0</td>\n    </tr>\n    <tr>\n      <th>5980</th>\n      <td>8540</td>\n      <td>screaming</td>\n      <td>nap queen</td>\n      <td>like little boy you better sit your ass down s...</td>\n      <td>0</td>\n    </tr>\n    <tr>\n      <th>2252</th>\n      <td>3225</td>\n      <td>deluged</td>\n      <td>Clearwater, FL</td>\n      <td>@LisaToddSutton The reason I bring this up  bc...</td>\n      <td>0</td>\n    </tr>\n    <tr>\n      <th>4546</th>\n      <td>6463</td>\n      <td>injured</td>\n      <td>NaN</td>\n      <td>@michaelgbaron how come scott rice doesn't get...</td>\n      <td>0</td>\n    </tr>\n    <tr>\n      <th>2679</th>\n      <td>3841</td>\n      <td>detonate</td>\n      <td>Morioh, Japan</td>\n      <td>@TinyJecht Are you another Stand-user? If you ...</td>\n      <td>0</td>\n    </tr>\n    <tr>\n      <th>979</th>\n      <td>1418</td>\n      <td>body%20bag</td>\n      <td>New York</td>\n      <td>genuine Leather man Bag Messenger fit iPad min...</td>\n      <td>0</td>\n    </tr>\n    <tr>\n      <th>4372</th>\n      <td>6211</td>\n      <td>hijacker</td>\n      <td>NaN</td>\n      <td>Governor allows parole for California school b...</td>\n      <td>0</td>\n    </tr>\n    <tr>\n      <th>3483</th>\n      <td>4980</td>\n      <td>explosion</td>\n      <td>NaN</td>\n      <td>Big Data and Social Information explosion: The...</td>\n      <td>0</td>\n    </tr>\n    <tr>\n      <th>7395</th>\n      <td>10582</td>\n      <td>windstorm</td>\n      <td>Home is where we park it!</td>\n      <td>@rangerkaitimay had major windstorm thunder an...</td>\n      <td>1</td>\n    </tr>\n    <tr>\n      <th>4075</th>\n      <td>5793</td>\n      <td>hail</td>\n      <td>United States</td>\n      <td>LZK issues Severe Thunderstorm Warning [wind: ...</td>\n      <td>1</td>\n    </tr>\n    <tr>\n      <th>5543</th>\n      <td>7908</td>\n      <td>radiation%20emergency</td>\n      <td>#MayGodHelpUS</td>\n      <td>#CCOT #TCOT #radiation Nuclear Emergency Track...</td>\n      <td>0</td>\n    </tr>\n    <tr>\n      <th>4789</th>\n      <td>6813</td>\n      <td>loud%20bang</td>\n      <td>Kenya</td>\n      <td>tianta_: Breaking news! Unconfirmed! I just he...</td>\n      <td>1</td>\n    </tr>\n    <tr>\n      <th>5043</th>\n      <td>7191</td>\n      <td>mudslide</td>\n      <td>NaN</td>\n      <td>When bae soak you in mudslide at backroom???? ...</td>\n      <td>0</td>\n    </tr>\n    <tr>\n      <th>364</th>\n      <td>522</td>\n      <td>army</td>\n      <td>NaN</td>\n      <td>Beyonce Is my pick for http://t.co/nnMQlz91o9 ...</td>\n      <td>0</td>\n    </tr>\n    <tr>\n      <th>2310</th>\n      <td>3318</td>\n      <td>demolished</td>\n      <td>NaN</td>\n      <td>Got my first gamer troll I just demolished a k...</td>\n      <td>1</td>\n    </tr>\n    <tr>\n      <th>3950</th>\n      <td>5617</td>\n      <td>flooding</td>\n      <td>USA</td>\n      <td>Severe Thunderstorms and Flash Flooding Possib...</td>\n      <td>1</td>\n    </tr>\n  </tbody>\n</table>\n</div>"
     },
     "execution_count": 491,
     "metadata": {},
     "output_type": "execute_result"
    }
   ],
   "source": [
    "df_train_raw.sample(20)"
   ],
   "metadata": {
    "collapsed": false
   }
  },
  {
   "cell_type": "code",
   "execution_count": 492,
   "outputs": [
    {
     "name": "stdout",
     "output_type": "stream",
     "text": [
      "3271\n",
      "4342\n"
     ]
    }
   ],
   "source": [
    "print((df_train_raw.target == 1).sum())\n",
    "print((df_train_raw.target == 0).sum())"
   ],
   "metadata": {
    "collapsed": false
   }
  },
  {
   "cell_type": "markdown",
   "source": [
    "### Data Preprocessing"
   ],
   "metadata": {
    "collapsed": false
   }
  },
  {
   "cell_type": "code",
   "execution_count": 493,
   "outputs": [
    {
     "name": "stderr",
     "output_type": "stream",
     "text": [
      "[nltk_data] Downloading package stopwords to\n",
      "[nltk_data]     C:\\Users\\guimi\\AppData\\Roaming\\nltk_data...\n",
      "[nltk_data]   Package stopwords is already up-to-date!\n"
     ]
    }
   ],
   "source": [
    "stop_words = nlp_utils.usingStopwords('en')\n",
    "df_train = df_train_raw.copy()\n",
    "\n",
    "## Train data Preprocessing\n",
    "df_train['text'] = df_train['text'].map(lambda x: nlp_utils.remove_URL(x))\n",
    "df_train['text'] = df_train['text'].map(lambda x: nlp_utils.remove_punct(x))\n",
    "df_train['text'] = df_train['text'].map(lambda x: x.lower())\n",
    "df_train['text'] = df_train['text'].map(lambda x: nlp_utils.removeStopwords(x,stop_words))\n",
    "\n",
    "## Test data preprocessing\n",
    "df_test = df_test_raw.copy()\n",
    "df_test['text'] = df_test['text'].map(lambda x: nlp_utils.remove_URL(x))\n",
    "df_test['text'] = df_test['text'].map(lambda x: nlp_utils.remove_punct(x))\n",
    "df_test['text'] = df_test['text'].map(lambda x: x.lower())\n",
    "df_test['text'] = df_test['text'].map(lambda x: nlp_utils.removeStopwords(x,stop_words))\n",
    "\n",
    "\n"
   ],
   "metadata": {
    "collapsed": false
   }
  },
  {
   "cell_type": "code",
   "execution_count": 494,
   "outputs": [
    {
     "data": {
      "text/plain": "         id keyword location  \\\n7593  10848     NaN      NaN   \n7594  10849     NaN      NaN   \n7595  10850     NaN      NaN   \n7596  10851     NaN      NaN   \n7597  10852     NaN      NaN   \n7598  10853     NaN      NaN   \n7599  10854     NaN      NaN   \n7600  10855     NaN      NaN   \n7601  10859     NaN      NaN   \n7602  10860     NaN      NaN   \n7603  10862     NaN      NaN   \n7604  10863     NaN      NaN   \n7605  10864     NaN      NaN   \n7606  10866     NaN      NaN   \n7607  10867     NaN      NaN   \n7608  10869     NaN      NaN   \n7609  10870     NaN      NaN   \n7610  10871     NaN      NaN   \n7611  10872     NaN      NaN   \n7612  10873     NaN      NaN   \n\n                                                   text  target  \n7593       heard really loud bang everyone asleep great       0  \n7594  gas thing exploded heard screams whole street ...       1  \n7595  nws flash flood warning continued shelby count...       1  \n7596  rt livingsafely nws issues severe thunderstorm...       1  \n7597  mh370 aircraft debris found la reunion missing...       1  \n7598  fatherofthree lost control car overtaking coll...       1  \n7599  13 earthquake 9km ssw anza california iphone u...       1  \n7600             evacuation order lifted town roosevelt       1  \n7601  breaking la refugio oil spill may costlier big...       1  \n7602            siren went wasnt forney tornado warning       1  \n7603  officials say quarantine place alabama home po...       1  \n7604  worldnews fallen powerlines glink tram update ...       1  \n7605  flip side im walmart bomb everyone evacuate st...       1  \n7606  suicide bomber kills 15 saudi security site mo...       1  \n7607  stormchase violent record breaking ef5 el reno...       1  \n7608  two giant cranes holding bridge collapse nearb...       1  \n7609  ariaahrary thetawniest control wild fires cali...       1  \n7610                    m194 0104 utc5km volcano hawaii       1  \n7611  police investigating ebike collided car little...       1  \n7612  latest homes razed northern california wildfir...       1  ",
      "text/html": "<div>\n<style scoped>\n    .dataframe tbody tr th:only-of-type {\n        vertical-align: middle;\n    }\n\n    .dataframe tbody tr th {\n        vertical-align: top;\n    }\n\n    .dataframe thead th {\n        text-align: right;\n    }\n</style>\n<table border=\"1\" class=\"dataframe\">\n  <thead>\n    <tr style=\"text-align: right;\">\n      <th></th>\n      <th>id</th>\n      <th>keyword</th>\n      <th>location</th>\n      <th>text</th>\n      <th>target</th>\n    </tr>\n  </thead>\n  <tbody>\n    <tr>\n      <th>7593</th>\n      <td>10848</td>\n      <td>NaN</td>\n      <td>NaN</td>\n      <td>heard really loud bang everyone asleep great</td>\n      <td>0</td>\n    </tr>\n    <tr>\n      <th>7594</th>\n      <td>10849</td>\n      <td>NaN</td>\n      <td>NaN</td>\n      <td>gas thing exploded heard screams whole street ...</td>\n      <td>1</td>\n    </tr>\n    <tr>\n      <th>7595</th>\n      <td>10850</td>\n      <td>NaN</td>\n      <td>NaN</td>\n      <td>nws flash flood warning continued shelby count...</td>\n      <td>1</td>\n    </tr>\n    <tr>\n      <th>7596</th>\n      <td>10851</td>\n      <td>NaN</td>\n      <td>NaN</td>\n      <td>rt livingsafely nws issues severe thunderstorm...</td>\n      <td>1</td>\n    </tr>\n    <tr>\n      <th>7597</th>\n      <td>10852</td>\n      <td>NaN</td>\n      <td>NaN</td>\n      <td>mh370 aircraft debris found la reunion missing...</td>\n      <td>1</td>\n    </tr>\n    <tr>\n      <th>7598</th>\n      <td>10853</td>\n      <td>NaN</td>\n      <td>NaN</td>\n      <td>fatherofthree lost control car overtaking coll...</td>\n      <td>1</td>\n    </tr>\n    <tr>\n      <th>7599</th>\n      <td>10854</td>\n      <td>NaN</td>\n      <td>NaN</td>\n      <td>13 earthquake 9km ssw anza california iphone u...</td>\n      <td>1</td>\n    </tr>\n    <tr>\n      <th>7600</th>\n      <td>10855</td>\n      <td>NaN</td>\n      <td>NaN</td>\n      <td>evacuation order lifted town roosevelt</td>\n      <td>1</td>\n    </tr>\n    <tr>\n      <th>7601</th>\n      <td>10859</td>\n      <td>NaN</td>\n      <td>NaN</td>\n      <td>breaking la refugio oil spill may costlier big...</td>\n      <td>1</td>\n    </tr>\n    <tr>\n      <th>7602</th>\n      <td>10860</td>\n      <td>NaN</td>\n      <td>NaN</td>\n      <td>siren went wasnt forney tornado warning</td>\n      <td>1</td>\n    </tr>\n    <tr>\n      <th>7603</th>\n      <td>10862</td>\n      <td>NaN</td>\n      <td>NaN</td>\n      <td>officials say quarantine place alabama home po...</td>\n      <td>1</td>\n    </tr>\n    <tr>\n      <th>7604</th>\n      <td>10863</td>\n      <td>NaN</td>\n      <td>NaN</td>\n      <td>worldnews fallen powerlines glink tram update ...</td>\n      <td>1</td>\n    </tr>\n    <tr>\n      <th>7605</th>\n      <td>10864</td>\n      <td>NaN</td>\n      <td>NaN</td>\n      <td>flip side im walmart bomb everyone evacuate st...</td>\n      <td>1</td>\n    </tr>\n    <tr>\n      <th>7606</th>\n      <td>10866</td>\n      <td>NaN</td>\n      <td>NaN</td>\n      <td>suicide bomber kills 15 saudi security site mo...</td>\n      <td>1</td>\n    </tr>\n    <tr>\n      <th>7607</th>\n      <td>10867</td>\n      <td>NaN</td>\n      <td>NaN</td>\n      <td>stormchase violent record breaking ef5 el reno...</td>\n      <td>1</td>\n    </tr>\n    <tr>\n      <th>7608</th>\n      <td>10869</td>\n      <td>NaN</td>\n      <td>NaN</td>\n      <td>two giant cranes holding bridge collapse nearb...</td>\n      <td>1</td>\n    </tr>\n    <tr>\n      <th>7609</th>\n      <td>10870</td>\n      <td>NaN</td>\n      <td>NaN</td>\n      <td>ariaahrary thetawniest control wild fires cali...</td>\n      <td>1</td>\n    </tr>\n    <tr>\n      <th>7610</th>\n      <td>10871</td>\n      <td>NaN</td>\n      <td>NaN</td>\n      <td>m194 0104 utc5km volcano hawaii</td>\n      <td>1</td>\n    </tr>\n    <tr>\n      <th>7611</th>\n      <td>10872</td>\n      <td>NaN</td>\n      <td>NaN</td>\n      <td>police investigating ebike collided car little...</td>\n      <td>1</td>\n    </tr>\n    <tr>\n      <th>7612</th>\n      <td>10873</td>\n      <td>NaN</td>\n      <td>NaN</td>\n      <td>latest homes razed northern california wildfir...</td>\n      <td>1</td>\n    </tr>\n  </tbody>\n</table>\n</div>"
     },
     "execution_count": 494,
     "metadata": {},
     "output_type": "execute_result"
    }
   ],
   "source": [
    "df_train.tail(20)"
   ],
   "metadata": {
    "collapsed": false
   }
  },
  {
   "cell_type": "markdown",
   "source": [],
   "metadata": {
    "collapsed": false
   }
  },
  {
   "cell_type": "markdown",
   "source": [
    "### Selecting variables for model"
   ],
   "metadata": {
    "collapsed": false
   }
  },
  {
   "cell_type": "code",
   "execution_count": 495,
   "outputs": [],
   "source": [
    "X = df_train.text\n",
    "y = df_train.target"
   ],
   "metadata": {
    "collapsed": false
   }
  },
  {
   "cell_type": "markdown",
   "source": [
    "### Splitting data into train and test"
   ],
   "metadata": {
    "collapsed": false
   }
  },
  {
   "cell_type": "code",
   "execution_count": 496,
   "outputs": [],
   "source": [
    "# OBS: Using df_traing for train, validation and test splitting\n",
    "from sklearn.model_selection import train_test_split\n",
    "\n",
    "X_train, X_test, y_train, y_test = train_test_split(X, y, train_size=0.8, random_state=42)\n",
    "\n",
    "X_train, X_val, y_train, y_val = train_test_split(X_train,y_train, train_size=0.8,random_state=42)\n",
    "\n"
   ],
   "metadata": {
    "collapsed": false
   }
  },
  {
   "cell_type": "markdown",
   "source": [
    "### Vocabulary"
   ],
   "metadata": {
    "collapsed": false
   }
  },
  {
   "cell_type": "code",
   "execution_count": 497,
   "outputs": [],
   "source": [
    "tokens, vocab, vocab_size = nlp_utils.createVocabulary(X_train)"
   ],
   "metadata": {
    "collapsed": false
   }
  },
  {
   "cell_type": "code",
   "execution_count": 498,
   "outputs": [
    {
     "data": {
      "text/plain": "[('like', 223), ('amp', 191), ('im', 187), ('fire', 156), ('get', 154)]"
     },
     "execution_count": 498,
     "metadata": {},
     "output_type": "execute_result"
    }
   ],
   "source": [
    "# get 5 words with highest frequency from vocab\n",
    "ranking = nlp_utils.getWordsHigherFrequencyCorpus(vocab,5)\n",
    "ranking"
   ],
   "metadata": {
    "collapsed": false
   }
  },
  {
   "cell_type": "markdown",
   "source": [
    "### Train Numericalização"
   ],
   "metadata": {
    "collapsed": false
   }
  },
  {
   "cell_type": "code",
   "execution_count": 499,
   "outputs": [],
   "source": [
    "from keras.preprocessing.text import Tokenizer\n",
    "from keras_preprocessing.sequence import pad_sequences"
   ],
   "metadata": {
    "collapsed": false
   }
  },
  {
   "cell_type": "code",
   "execution_count": 500,
   "outputs": [],
   "source": [
    "tokenizer = Tokenizer(num_words=vocab_size,oov_token='<OOV>')\n",
    "tokenizer.fit_on_texts(X_train)\n",
    "word_index = tokenizer.word_index\n",
    "train_sequences = tokenizer.texts_to_sequences(X_train)"
   ],
   "metadata": {
    "collapsed": false
   }
  },
  {
   "cell_type": "code",
   "execution_count": 501,
   "outputs": [
    {
     "data": {
      "text/plain": "25"
     },
     "execution_count": 501,
     "metadata": {},
     "output_type": "execute_result"
    }
   ],
   "source": [
    "max_len = nlp_utils.findMaxLen(train_sequences)\n",
    "max_len"
   ],
   "metadata": {
    "collapsed": false
   }
  },
  {
   "cell_type": "markdown",
   "source": [
    "### Train padding"
   ],
   "metadata": {
    "collapsed": false
   }
  },
  {
   "cell_type": "code",
   "execution_count": 502,
   "outputs": [],
   "source": [
    "train_padded = pad_sequences(train_sequences, maxlen=max_len, padding='post', truncating='post')"
   ],
   "metadata": {
    "collapsed": false
   }
  },
  {
   "cell_type": "markdown",
   "source": [
    "### Validation Numericalization and Padding"
   ],
   "metadata": {
    "collapsed": false
   }
  },
  {
   "cell_type": "code",
   "execution_count": 503,
   "outputs": [],
   "source": [
    "val_sequences = tokenizer.texts_to_sequences(X_val)\n",
    "val_padded = pad_sequences(val_sequences, maxlen=max_len, padding='post', truncating='post')"
   ],
   "metadata": {
    "collapsed": false
   }
  },
  {
   "cell_type": "markdown",
   "source": [
    "### RNN model"
   ],
   "metadata": {
    "collapsed": false
   }
  },
  {
   "cell_type": "code",
   "execution_count": 504,
   "outputs": [],
   "source": [
    "from keras.models import Sequential\n",
    "from keras.layers import Embedding, LSTM, Dense, Dropout, Bidirectional\n",
    "from keras.optimizers import Adam\n",
    "from keras.losses import BinaryCrossentropy\n"
   ],
   "metadata": {
    "collapsed": false
   }
  },
  {
   "cell_type": "code",
   "execution_count": 505,
   "outputs": [
    {
     "name": "stdout",
     "output_type": "stream",
     "text": [
      "Model: \"sequential_14\"\n",
      "_________________________________________________________________\n",
      " Layer (type)                Output Shape              Param #   \n",
      "=================================================================\n",
      " embedding_14 (Embedding)    (None, 25, 32)            429920    \n",
      "                                                                 \n",
      " lstm_14 (LSTM)              (None, 64)                24832     \n",
      "                                                                 \n",
      " dense_14 (Dense)            (None, 1)                 65        \n",
      "                                                                 \n",
      "=================================================================\n",
      "Total params: 454,817\n",
      "Trainable params: 454,817\n",
      "Non-trainable params: 0\n",
      "_________________________________________________________________\n"
     ]
    }
   ],
   "source": [
    "model = Sequential([\n",
    "    Embedding(input_dim=vocab_size+1, output_dim=32, input_length=max_len),\n",
    "    LSTM(64, dropout=0.1),\n",
    "    Dense(1, activation='sigmoid')\n",
    "])\n",
    "model.summary()"
   ],
   "metadata": {
    "collapsed": false
   }
  },
  {
   "cell_type": "code",
   "execution_count": 506,
   "outputs": [
    {
     "name": "stdout",
     "output_type": "stream",
     "text": [
      "Epoch 1/20\n",
      "153/153 - 7s - loss: 0.5765 - accuracy: 0.6851 - val_loss: 0.6044 - val_accuracy: 0.7274 - 7s/epoch - 45ms/step\n",
      "Epoch 2/20\n",
      "153/153 - 3s - loss: 0.2883 - accuracy: 0.8894 - val_loss: 0.5513 - val_accuracy: 0.7143 - 3s/epoch - 20ms/step\n",
      "Epoch 3/20\n",
      "153/153 - 3s - loss: 0.1474 - accuracy: 0.9536 - val_loss: 1.2623 - val_accuracy: 0.6174 - 3s/epoch - 21ms/step\n",
      "Epoch 4/20\n",
      "153/153 - 4s - loss: 0.0926 - accuracy: 0.9737 - val_loss: 1.0345 - val_accuracy: 0.6634 - 4s/epoch - 26ms/step\n",
      "Epoch 5/20\n",
      "153/153 - 3s - loss: 0.0812 - accuracy: 0.9770 - val_loss: 1.8960 - val_accuracy: 0.6264 - 3s/epoch - 18ms/step\n",
      "Epoch 6/20\n",
      "153/153 - 3s - loss: 0.0633 - accuracy: 0.9830 - val_loss: 1.5362 - val_accuracy: 0.6149 - 3s/epoch - 21ms/step\n",
      "Epoch 7/20\n",
      "153/153 - 3s - loss: 0.0590 - accuracy: 0.9834 - val_loss: 1.4246 - val_accuracy: 0.6289 - 3s/epoch - 19ms/step\n",
      "Epoch 8/20\n",
      "153/153 - 4s - loss: 0.0523 - accuracy: 0.9840 - val_loss: 1.7532 - val_accuracy: 0.6363 - 4s/epoch - 27ms/step\n",
      "Epoch 9/20\n",
      "153/153 - 3s - loss: 0.0431 - accuracy: 0.9844 - val_loss: 2.0275 - val_accuracy: 0.6158 - 3s/epoch - 19ms/step\n",
      "Epoch 10/20\n",
      "153/153 - 3s - loss: 0.0322 - accuracy: 0.9858 - val_loss: 1.7909 - val_accuracy: 0.6470 - 3s/epoch - 19ms/step\n",
      "Epoch 11/20\n",
      "153/153 - 3s - loss: 0.0317 - accuracy: 0.9854 - val_loss: 2.0240 - val_accuracy: 0.6420 - 3s/epoch - 19ms/step\n",
      "Epoch 12/20\n",
      "153/153 - 3s - loss: 0.0289 - accuracy: 0.9858 - val_loss: 2.3146 - val_accuracy: 0.6314 - 3s/epoch - 19ms/step\n",
      "Epoch 13/20\n",
      "153/153 - 3s - loss: 0.0222 - accuracy: 0.9885 - val_loss: 2.6674 - val_accuracy: 0.6281 - 3s/epoch - 18ms/step\n",
      "Epoch 14/20\n",
      "153/153 - 4s - loss: 0.0248 - accuracy: 0.9877 - val_loss: 2.5484 - val_accuracy: 0.6470 - 4s/epoch - 27ms/step\n",
      "Epoch 15/20\n",
      "153/153 - 3s - loss: 0.0289 - accuracy: 0.9860 - val_loss: 2.4491 - val_accuracy: 0.5961 - 3s/epoch - 20ms/step\n",
      "Epoch 16/20\n",
      "153/153 - 3s - loss: 0.0261 - accuracy: 0.9871 - val_loss: 1.7770 - val_accuracy: 0.6305 - 3s/epoch - 21ms/step\n",
      "Epoch 17/20\n",
      "153/153 - 3s - loss: 0.0221 - accuracy: 0.9871 - val_loss: 3.1262 - val_accuracy: 0.5616 - 3s/epoch - 21ms/step\n",
      "Epoch 18/20\n",
      "153/153 - 3s - loss: 0.0244 - accuracy: 0.9869 - val_loss: 2.6704 - val_accuracy: 0.6207 - 3s/epoch - 18ms/step\n",
      "Epoch 19/20\n",
      "153/153 - 3s - loss: 0.0274 - accuracy: 0.9867 - val_loss: 2.4819 - val_accuracy: 0.6248 - 3s/epoch - 19ms/step\n",
      "Epoch 20/20\n",
      "153/153 - 3s - loss: 0.0281 - accuracy: 0.9873 - val_loss: 2.9444 - val_accuracy: 0.5969 - 3s/epoch - 18ms/step\n"
     ]
    }
   ],
   "source": [
    "loss = BinaryCrossentropy(from_logits=False)\n",
    "optim = Adam(learning_rate=0.001)\n",
    "metrics = ['accuracy']\n",
    "model.compile(loss=loss, optimizer=optim, metrics=metrics)\n",
    "history = model.fit(train_padded, y_train, epochs=20, validation_data=(val_padded, y_val),verbose=2)"
   ],
   "metadata": {
    "collapsed": false
   }
  },
  {
   "cell_type": "code",
   "execution_count": 507,
   "outputs": [],
   "source": [
    "import matplotlib.pyplot as plt"
   ],
   "metadata": {
    "collapsed": false
   }
  },
  {
   "cell_type": "code",
   "execution_count": 520,
   "outputs": [
    {
     "data": {
      "text/plain": "<Figure size 1500x500 with 2 Axes>",
      "image/png": "[encoded data removed]"
     },
     "metadata": {},
     "output_type": "display_data"
    }
   ],
   "source": [
    "fig, (ax1, ax2) = plt.subplots(1, 2, figsize=(15, 5))\n",
    "ax1.plot(history.history['accuracy'])\n",
    "ax1.plot(history.history['val_accuracy'])\n",
    "ax1.set_title('Model Accuracy')\n",
    "ax1.set_ylabel('Accuracy')\n",
    "ax1.set_xlabel('Epoch')\n",
    "ax1.legend(['Train', 'Validation'], loc='upper left')\n",
    "\n",
    "ax2.plot(history.history['loss'])\n",
    "ax2.plot(history.history['val_loss'])\n",
    "ax2.set_title('Model Loss')\n",
    "ax2.set_ylabel('Loss')\n",
    "ax2.set_xlabel('Epoch')\n",
    "ax2.legend(['Train', 'Validation'], loc='upper left')\n",
    "plt.show()"
   ],
   "metadata": {
    "collapsed": false
   }
  },
  {
   "cell_type": "markdown",
   "source": [
    "### Predictions"
   ],
   "metadata": {
    "collapsed": false
   }
  },
  {
   "cell_type": "code",
   "execution_count": 509,
   "outputs": [],
   "source": [
    "test_sequences = tokenizer.texts_to_sequences(X_test)\n",
    "test_padded = pad_sequences(test_sequences, maxlen=max_len, padding='post', truncating='post')"
   ],
   "metadata": {
    "collapsed": false
   }
  },
  {
   "cell_type": "code",
   "execution_count": 510,
   "outputs": [],
   "source": [
    "index_word = nlp_utils.index2word(word_index)"
   ],
   "metadata": {
    "collapsed": false
   }
  },
  {
   "cell_type": "code",
   "execution_count": 511,
   "outputs": [
    {
     "name": "stdout",
     "output_type": "stream",
     "text": [
      "48/48 [==============================] - 1s 5ms/step\n"
     ]
    }
   ],
   "source": [
    "pred_prob = model.predict(test_padded)"
   ],
   "metadata": {
    "collapsed": false
   }
  },
  {
   "cell_type": "code",
   "execution_count": 512,
   "outputs": [],
   "source": [
    "y_pred = [1 if p > 0.5 else 0 for p in pred_prob]"
   ],
   "metadata": {
    "collapsed": false
   }
  },
  {
   "cell_type": "code",
   "execution_count": 513,
   "outputs": [
    {
     "data": {
      "text/plain": "                                               sequence  \\\n0                                 [8, 165, 230, 1, 317]   \n1        [1, 273, 1, 31, 1, 257, 38, 1, 1, 2783, 10664]   \n2         [1, 1, 52, 1, 5323, 11508, 37, 4342, 1, 1, 1]   \n3     [749, 27, 72, 1680, 109, 59, 305, 134, 409, 45...   \n4       [1153, 291, 496, 1, 8505, 1, 659, 12, 1, 1, 41]   \n...                                                 ...   \n1518                              [1, 1, 260, 44, 2984]   \n1519  [992, 226, 993, 762, 892, 1102, 534, 757, 7, 9...   \n1520           [29, 298, 94, 23, 159, 1, 4052, 1, 7, 1]   \n1521  [5242, 422, 173, 3277, 864, 444, 1157, 5243, 1...   \n1522     [109, 772, 1, 6942, 27, 3856, 1, 3857, 293, 1]   \n\n                                                 X_test  \\\n0             new weapon cause unimaginable destruction   \n1     famping things gishwhes got soaked deluge goin...   \n2     dt georgegalloway rt galloway4mayor ûïthe col...   \n3     aftershock back school kick great want thank e...   \n4     response trauma children addicts develop defen...   \n...                                                 ...   \n1518                    smusx16475 skype crashed u host   \n1519  christian attacked muslims temple mount waving...   \n1520  man charged fatal crash near dubbo refused bai...   \n1521  usnwsgov severe weather statement issued augus...   \n1522  great british ltbgtbakeltbgt offs back dorrets...   \n\n                                               seq2text  y_pred  y_true  \n0              [new, weapon, cause, <OOV>, destruction]       0       1  \n1     [<OOV>, things, <OOV>, got, <OOV>, deluge, goi...       1       0  \n2     [<OOV>, <OOV>, rt, <OOV>, ûïthe, col, police,...       1       1  \n3     [aftershock, back, school, kick, great, want, ...       0       0  \n4     [response, trauma, children, <OOV>, develop, <...       1       0  \n...                                                 ...     ...     ...  \n1518                   [<OOV>, <OOV>, crashed, u, host]       1       0  \n1519  [christian, attacked, muslims, temple, mount, ...       1       1  \n1520  [man, charged, fatal, crash, near, <OOV>, refu...       1       1  \n1521  [usnwsgov, severe, weather, statement, issued,...       1       1  \n1522  [great, british, <OOV>, offs, back, dorrets, <...       1       0  \n\n[1523 rows x 5 columns]",
      "text/html": "<div>\n<style scoped>\n    .dataframe tbody tr th:only-of-type {\n        vertical-align: middle;\n    }\n\n    .dataframe tbody tr th {\n        vertical-align: top;\n    }\n\n    .dataframe thead th {\n        text-align: right;\n    }\n</style>\n<table border=\"1\" class=\"dataframe\">\n  <thead>\n    <tr style=\"text-align: right;\">\n      <th></th>\n      <th>sequence</th>\n      <th>X_test</th>\n      <th>seq2text</th>\n      <th>y_pred</th>\n      <th>y_true</th>\n    </tr>\n  </thead>\n  <tbody>\n    <tr>\n      <th>0</th>\n      <td>[8, 165, 230, 1, 317]</td>\n      <td>new weapon cause unimaginable destruction</td>\n      <td>[new, weapon, cause, &lt;OOV&gt;, destruction]</td>\n      <td>0</td>\n      <td>1</td>\n    </tr>\n    <tr>\n      <th>1</th>\n      <td>[1, 273, 1, 31, 1, 257, 38, 1, 1, 2783, 10664]</td>\n      <td>famping things gishwhes got soaked deluge goin...</td>\n      <td>[&lt;OOV&gt;, things, &lt;OOV&gt;, got, &lt;OOV&gt;, deluge, goi...</td>\n      <td>1</td>\n      <td>0</td>\n    </tr>\n    <tr>\n      <th>2</th>\n      <td>[1, 1, 52, 1, 5323, 11508, 37, 4342, 1, 1, 1]</td>\n      <td>dt georgegalloway rt galloway4mayor ûïthe col...</td>\n      <td>[&lt;OOV&gt;, &lt;OOV&gt;, rt, &lt;OOV&gt;, ûïthe, col, police,...</td>\n      <td>1</td>\n      <td>1</td>\n    </tr>\n    <tr>\n      <th>3</th>\n      <td>[749, 27, 72, 1680, 109, 59, 305, 134, 409, 45...</td>\n      <td>aftershock back school kick great want thank e...</td>\n      <td>[aftershock, back, school, kick, great, want, ...</td>\n      <td>0</td>\n      <td>0</td>\n    </tr>\n    <tr>\n      <th>4</th>\n      <td>[1153, 291, 496, 1, 8505, 1, 659, 12, 1, 1, 41]</td>\n      <td>response trauma children addicts develop defen...</td>\n      <td>[response, trauma, children, &lt;OOV&gt;, develop, &lt;...</td>\n      <td>1</td>\n      <td>0</td>\n    </tr>\n    <tr>\n      <th>...</th>\n      <td>...</td>\n      <td>...</td>\n      <td>...</td>\n      <td>...</td>\n      <td>...</td>\n    </tr>\n    <tr>\n      <th>1518</th>\n      <td>[1, 1, 260, 44, 2984]</td>\n      <td>smusx16475 skype crashed u host</td>\n      <td>[&lt;OOV&gt;, &lt;OOV&gt;, crashed, u, host]</td>\n      <td>1</td>\n      <td>0</td>\n    </tr>\n    <tr>\n      <th>1519</th>\n      <td>[992, 226, 993, 762, 892, 1102, 534, 757, 7, 9...</td>\n      <td>christian attacked muslims temple mount waving...</td>\n      <td>[christian, attacked, muslims, temple, mount, ...</td>\n      <td>1</td>\n      <td>1</td>\n    </tr>\n    <tr>\n      <th>1520</th>\n      <td>[29, 298, 94, 23, 159, 1, 4052, 1, 7, 1]</td>\n      <td>man charged fatal crash near dubbo refused bai...</td>\n      <td>[man, charged, fatal, crash, near, &lt;OOV&gt;, refu...</td>\n      <td>1</td>\n      <td>1</td>\n    </tr>\n    <tr>\n      <th>1521</th>\n      <td>[5242, 422, 173, 3277, 864, 444, 1157, 5243, 1...</td>\n      <td>usnwsgov severe weather statement issued augus...</td>\n      <td>[usnwsgov, severe, weather, statement, issued,...</td>\n      <td>1</td>\n      <td>1</td>\n    </tr>\n    <tr>\n      <th>1522</th>\n      <td>[109, 772, 1, 6942, 27, 3856, 1, 3857, 293, 1]</td>\n      <td>great british ltbgtbakeltbgt offs back dorrets...</td>\n      <td>[great, british, &lt;OOV&gt;, offs, back, dorrets, &lt;...</td>\n      <td>1</td>\n      <td>0</td>\n    </tr>\n  </tbody>\n</table>\n<p>1523 rows × 5 columns</p>\n</div>"
     },
     "execution_count": 513,
     "metadata": {},
     "output_type": "execute_result"
    }
   ],
   "source": [
    "df_results = pd.DataFrame()\n",
    "X_test = list(X_test)\n",
    "y_test = list(y_test)\n",
    "df_results['sequence'] = test_sequences\n",
    "df_results['X_test'] = X_test\n",
    "df_results['seq2text'] = df_results['sequence'].apply(lambda x: nlp_utils.seq2text(x, index_word))\n",
    "df_results['y_pred'] = y_pred\n",
    "df_results['y_true'] = y_test\n",
    "df_results"
   ],
   "metadata": {
    "collapsed": false
   }
  },
  {
   "cell_type": "markdown",
   "source": [
    "### Evaluating Model"
   ],
   "metadata": {
    "collapsed": false
   }
  },
  {
   "cell_type": "code",
   "execution_count": 514,
   "outputs": [],
   "source": [
    "from sklearn.metrics import accuracy_score, precision_score, recall_score, f1_score, confusion_matrix, classification_report\n",
    "import matplotlib.pyplot as plt\n",
    "import seaborn as sns"
   ],
   "metadata": {
    "collapsed": false
   }
  },
  {
   "cell_type": "code",
   "execution_count": 515,
   "outputs": [],
   "source": [
    "accuracy = accuracy_score(y_test,y_pred)\n",
    "precision = precision_score(y_test,y_pred)\n",
    "recall = recall_score(y_test,y_pred)\n",
    "f1score = f1_score(y_test,y_pred)\n",
    "cm = confusion_matrix(y_test,y_pred)\n"
   ],
   "metadata": {
    "collapsed": false
   }
  },
  {
   "cell_type": "code",
   "execution_count": 516,
   "outputs": [],
   "source": [
    "def show_confusion_matrix(cm):\n",
    "        print(\"Confusion Matrix\")\n",
    "        plt.figure(figsize=(10, 7))\n",
    "\n",
    "        sns.heatmap(cm, annot=True, fmt='d', cmap='Blues', xticklabels=['Negative', 'Positive'],\n",
    "                    yticklabels=['Negative', 'Positive'])\n",
    "        plt.xlabel('Predicted')\n",
    "        plt.ylabel('Truth')\n",
    "        plt.title('Confusion Matrix')\n",
    "        plt.show()"
   ],
   "metadata": {
    "collapsed": false
   }
  },
  {
   "cell_type": "code",
   "execution_count": 517,
   "outputs": [
    {
     "name": "stdout",
     "output_type": "stream",
     "text": [
      "              precision    recall  f1-score   support\n",
      "\n",
      "           0       0.82      0.38      0.52       874\n",
      "           1       0.52      0.88      0.65       649\n",
      "\n",
      "    accuracy                           0.60      1523\n",
      "   macro avg       0.67      0.63      0.59      1523\n",
      "weighted avg       0.69      0.60      0.58      1523\n",
      "\n",
      "Confusion Matrix\n"
     ]
    },
    {
     "data": {
      "text/plain": "<Figure size 1000x700 with 2 Axes>",
      "image/png": "[encoded data removed]"
     },
     "metadata": {},
     "output_type": "display_data"
    }
   ],
   "source": [
    "print(classification_report(y_test,y_pred))\n",
    "show_confusion_matrix(cm)"
   ],
   "metadata": {
    "collapsed": false
   }
  },
  {
   "cell_type": "code",
   "execution_count": 518,
   "outputs": [],
   "source": [
    "# pattern = re.compile(r'https?://\\S+|www\\.\\S+')\n",
    "# for t in df_train.text:\n",
    "#     matches = pattern.findall(t)\n",
    "#     for match in matches:\n",
    "#         print(t)\n",
    "#         print(match)\n",
    "#         print(pattern.sub())\n"
   ],
   "metadata": {
    "collapsed": false
   }
  }
 ],
 "metadata": {
  "kernelspec": {
   "display_name": "Python 3",
   "language": "python",
   "name": "python3"
  },
  "language_info": {
   "codemirror_mode": {
    "name": "ipython",
    "version": 2
   },
   "file_extension": ".py",
   "mimetype": "text/x-python",
   "name": "python",
   "nbconvert_exporter": "python",
   "pygments_lexer": "ipython2",
   "version": "2.7.6"
  }
 },
 "nbformat": 4,
 "nbformat_minor": 0
}
