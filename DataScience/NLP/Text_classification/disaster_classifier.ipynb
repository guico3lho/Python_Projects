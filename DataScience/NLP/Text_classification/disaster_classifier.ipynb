{
 "cells": [
  {
   "cell_type": "markdown",
   "source": [
    "### Imports"
   ],
   "metadata": {
    "collapsed": false
   }
  },
  {
   "cell_type": "code",
   "execution_count": 455,
   "outputs": [],
   "source": [
    "import keras.losses\n",
    "import numpy as np\n",
    "import pandas as pd\n",
    "import os"
   ],
   "metadata": {
    "collapsed": false
   }
  },
  {
   "cell_type": "code",
   "execution_count": 456,
   "outputs": [
    {
     "data": {
      "text/plain": "<module 'My_PythonPackage.nlp_utils' from 'C:\\\\Users\\\\guimi\\\\Documents\\\\Python_Projects\\\\My_PythonPackage\\\\nlp_utils.py'>"
     },
     "execution_count": 456,
     "metadata": {},
     "output_type": "execute_result"
    }
   ],
   "source": [
    "import importlib\n",
    "import My_PythonPackage.nlp_utils as nlp_utils\n",
    "importlib.reload(nlp_utils)"
   ],
   "metadata": {
    "collapsed": false
   }
  },
  {
   "cell_type": "markdown",
   "source": [
    "### Importing datasets"
   ],
   "metadata": {
    "collapsed": false
   }
  },
  {
   "cell_type": "code",
   "execution_count": 457,
   "outputs": [],
   "source": [
    "df_train_raw = pd.read_csv('../../Datasets/nlp-getting-started/train.csv')\n",
    "df_test_raw = pd.read_csv('../../Datasets/nlp-getting-started/test.csv')"
   ],
   "metadata": {
    "collapsed": false
   }
  },
  {
   "cell_type": "code",
   "execution_count": 458,
   "outputs": [
    {
     "data": {
      "text/plain": "         id      keyword                               location  \\\n73      105     accident                              Australia   \n2548   3656      destroy                               Honduras   \n3946   5611     flooding                       Rock Springs, WY   \n7336  10502     wildfire                                    NaN   \n1711   2467     collided                  Eau Claire, Wisconsin   \n2131   3059       deaths           AsunciÌ_n-PY / TÌ_bingen-GER   \n2768   3979  devastation                                  ITALY   \n4659   6625    inundated  UK, Republic of Ireland and Australia   \n4929   7023       mayhem          ?? Made in the Philippines ??   \n400     577        arson                        Los Angeles, CA   \n4132   5875    hailstorm                               far away   \n740    1071     bleeding                                    NaN   \n6032   8622      seismic                                    NaN   \n2839   4084    displaced                                 Manila   \n6308   9016    stretcher                                    NaN   \n6102   8712      sinking                                    NaN   \n6498   9290         sunk                                    NaN   \n2571   3686      destroy                           Some pum pum   \n4410   6269    hijacking                                    NaN   \n1976   2843      cyclone                              Melbourne   \n\n                                                   text  target  \n73                  BigRigRadio Live Accident Awareness       1  \n2548  Black Ops 3 SEARCH AND DESTROY GAMEPLAY! (Hunt...       0  \n3946  ROCK SPRINGS ÛÒ Residents living off Elk Stre...       1  \n7336  #IDFire Parker Ridge Fact Sheet Aug 6 2015 (Pa...       1  \n1711  An Eau Claire man who police said was drunk wh...       1  \n2131  Breast milk is the original #superfood but rat...       0  \n2768  #Thorium Radioactive Weapons. Scandals murders...       1  \n4659  Inundated with employee holiday request paperw...       0  \n4929  _\\r\\n?????RETWEET\\r\\n???????\\r\\n?????FOLLOW AL...       0  \n400   Owner of Chicago-Area Gay Bar Admits to Arson ...       0  \n4132  Calgary news weather and traffic for August 5 ...       0  \n740   @tammy_w1997 @ElijahMallari bleeding wild thin...       0  \n6032  On Thursday at 00:25 we updated our #kml of 2D...       0  \n2839  Philippines Must Protect Internally Displaced ...       1  \n6308  The '1pack 2pack 3pack' line is on fleek if St...       0  \n6102  The Sinking Ship (@sinkingshipindy): Scarlet L...       0  \n6498  The Seven Seas - Wreck of the Giannis D. sunk ...       1  \n2571     Twitter is just here to destroy your childhood       0  \n4410  Vehicle Hijacking in  Vosloorus Gauteng on 201...       1  \n1976  @cyclone_reizei If I may ask Cyclone-sama have...       0  ",
      "text/html": "<div>\n<style scoped>\n    .dataframe tbody tr th:only-of-type {\n        vertical-align: middle;\n    }\n\n    .dataframe tbody tr th {\n        vertical-align: top;\n    }\n\n    .dataframe thead th {\n        text-align: right;\n    }\n</style>\n<table border=\"1\" class=\"dataframe\">\n  <thead>\n    <tr style=\"text-align: right;\">\n      <th></th>\n      <th>id</th>\n      <th>keyword</th>\n      <th>location</th>\n      <th>text</th>\n      <th>target</th>\n    </tr>\n  </thead>\n  <tbody>\n    <tr>\n      <th>73</th>\n      <td>105</td>\n      <td>accident</td>\n      <td>Australia</td>\n      <td>BigRigRadio Live Accident Awareness</td>\n      <td>1</td>\n    </tr>\n    <tr>\n      <th>2548</th>\n      <td>3656</td>\n      <td>destroy</td>\n      <td>Honduras</td>\n      <td>Black Ops 3 SEARCH AND DESTROY GAMEPLAY! (Hunt...</td>\n      <td>0</td>\n    </tr>\n    <tr>\n      <th>3946</th>\n      <td>5611</td>\n      <td>flooding</td>\n      <td>Rock Springs, WY</td>\n      <td>ROCK SPRINGS ÛÒ Residents living off Elk Stre...</td>\n      <td>1</td>\n    </tr>\n    <tr>\n      <th>7336</th>\n      <td>10502</td>\n      <td>wildfire</td>\n      <td>NaN</td>\n      <td>#IDFire Parker Ridge Fact Sheet Aug 6 2015 (Pa...</td>\n      <td>1</td>\n    </tr>\n    <tr>\n      <th>1711</th>\n      <td>2467</td>\n      <td>collided</td>\n      <td>Eau Claire, Wisconsin</td>\n      <td>An Eau Claire man who police said was drunk wh...</td>\n      <td>1</td>\n    </tr>\n    <tr>\n      <th>2131</th>\n      <td>3059</td>\n      <td>deaths</td>\n      <td>AsunciÌ_n-PY / TÌ_bingen-GER</td>\n      <td>Breast milk is the original #superfood but rat...</td>\n      <td>0</td>\n    </tr>\n    <tr>\n      <th>2768</th>\n      <td>3979</td>\n      <td>devastation</td>\n      <td>ITALY</td>\n      <td>#Thorium Radioactive Weapons. Scandals murders...</td>\n      <td>1</td>\n    </tr>\n    <tr>\n      <th>4659</th>\n      <td>6625</td>\n      <td>inundated</td>\n      <td>UK, Republic of Ireland and Australia</td>\n      <td>Inundated with employee holiday request paperw...</td>\n      <td>0</td>\n    </tr>\n    <tr>\n      <th>4929</th>\n      <td>7023</td>\n      <td>mayhem</td>\n      <td>?? Made in the Philippines ??</td>\n      <td>_\\r\\n?????RETWEET\\r\\n???????\\r\\n?????FOLLOW AL...</td>\n      <td>0</td>\n    </tr>\n    <tr>\n      <th>400</th>\n      <td>577</td>\n      <td>arson</td>\n      <td>Los Angeles, CA</td>\n      <td>Owner of Chicago-Area Gay Bar Admits to Arson ...</td>\n      <td>0</td>\n    </tr>\n    <tr>\n      <th>4132</th>\n      <td>5875</td>\n      <td>hailstorm</td>\n      <td>far away</td>\n      <td>Calgary news weather and traffic for August 5 ...</td>\n      <td>0</td>\n    </tr>\n    <tr>\n      <th>740</th>\n      <td>1071</td>\n      <td>bleeding</td>\n      <td>NaN</td>\n      <td>@tammy_w1997 @ElijahMallari bleeding wild thin...</td>\n      <td>0</td>\n    </tr>\n    <tr>\n      <th>6032</th>\n      <td>8622</td>\n      <td>seismic</td>\n      <td>NaN</td>\n      <td>On Thursday at 00:25 we updated our #kml of 2D...</td>\n      <td>0</td>\n    </tr>\n    <tr>\n      <th>2839</th>\n      <td>4084</td>\n      <td>displaced</td>\n      <td>Manila</td>\n      <td>Philippines Must Protect Internally Displaced ...</td>\n      <td>1</td>\n    </tr>\n    <tr>\n      <th>6308</th>\n      <td>9016</td>\n      <td>stretcher</td>\n      <td>NaN</td>\n      <td>The '1pack 2pack 3pack' line is on fleek if St...</td>\n      <td>0</td>\n    </tr>\n    <tr>\n      <th>6102</th>\n      <td>8712</td>\n      <td>sinking</td>\n      <td>NaN</td>\n      <td>The Sinking Ship (@sinkingshipindy): Scarlet L...</td>\n      <td>0</td>\n    </tr>\n    <tr>\n      <th>6498</th>\n      <td>9290</td>\n      <td>sunk</td>\n      <td>NaN</td>\n      <td>The Seven Seas - Wreck of the Giannis D. sunk ...</td>\n      <td>1</td>\n    </tr>\n    <tr>\n      <th>2571</th>\n      <td>3686</td>\n      <td>destroy</td>\n      <td>Some pum pum</td>\n      <td>Twitter is just here to destroy your childhood</td>\n      <td>0</td>\n    </tr>\n    <tr>\n      <th>4410</th>\n      <td>6269</td>\n      <td>hijacking</td>\n      <td>NaN</td>\n      <td>Vehicle Hijacking in  Vosloorus Gauteng on 201...</td>\n      <td>1</td>\n    </tr>\n    <tr>\n      <th>1976</th>\n      <td>2843</td>\n      <td>cyclone</td>\n      <td>Melbourne</td>\n      <td>@cyclone_reizei If I may ask Cyclone-sama have...</td>\n      <td>0</td>\n    </tr>\n  </tbody>\n</table>\n</div>"
     },
     "execution_count": 458,
     "metadata": {},
     "output_type": "execute_result"
    }
   ],
   "source": [
    "df_train_raw.sample(20)"
   ],
   "metadata": {
    "collapsed": false
   }
  },
  {
   "cell_type": "code",
   "execution_count": 459,
   "outputs": [
    {
     "name": "stdout",
     "output_type": "stream",
     "text": [
      "3271\n",
      "4342\n"
     ]
    }
   ],
   "source": [
    "print((df_train_raw.target == 1).sum())\n",
    "print((df_train_raw.target == 0).sum())"
   ],
   "metadata": {
    "collapsed": false
   }
  },
  {
   "cell_type": "markdown",
   "source": [
    "### Data Preprocessing"
   ],
   "metadata": {
    "collapsed": false
   }
  },
  {
   "cell_type": "code",
   "execution_count": 460,
   "outputs": [
    {
     "name": "stderr",
     "output_type": "stream",
     "text": [
      "[nltk_data] Downloading package stopwords to\n",
      "[nltk_data]     C:\\Users\\guimi\\AppData\\Roaming\\nltk_data...\n",
      "[nltk_data]   Package stopwords is already up-to-date!\n"
     ]
    }
   ],
   "source": [
    "stop_words = nlp_utils.usingStopwords('en')\n",
    "df_train = df_train_raw.copy()\n",
    "\n",
    "## Train data Preprocessing\n",
    "df_train['text'] = df_train['text'].map(lambda x: nlp_utils.remove_URL(x))\n",
    "df_train['text'] = df_train['text'].map(lambda x: nlp_utils.remove_punct(x))\n",
    "df_train['text'] = df_train['text'].map(lambda x: x.lower())\n",
    "df_train['text'] = df_train['text'].map(lambda x: nlp_utils.removeStopwords(x,stop_words))\n",
    "\n",
    "## Test data preprocessing\n",
    "df_test = df_test_raw.copy()\n",
    "df_test['text'] = df_test['text'].map(lambda x: nlp_utils.remove_URL(x))\n",
    "df_test['text'] = df_test['text'].map(lambda x: nlp_utils.remove_punct(x))\n",
    "df_test['text'] = df_test['text'].map(lambda x: x.lower())\n",
    "df_test['text'] = df_test['text'].map(lambda x: nlp_utils.removeStopwords(x,stop_words))\n",
    "\n",
    "\n"
   ],
   "metadata": {
    "collapsed": false
   }
  },
  {
   "cell_type": "code",
   "execution_count": 461,
   "outputs": [
    {
     "data": {
      "text/plain": "         id keyword location  \\\n7593  10848     NaN      NaN   \n7594  10849     NaN      NaN   \n7595  10850     NaN      NaN   \n7596  10851     NaN      NaN   \n7597  10852     NaN      NaN   \n7598  10853     NaN      NaN   \n7599  10854     NaN      NaN   \n7600  10855     NaN      NaN   \n7601  10859     NaN      NaN   \n7602  10860     NaN      NaN   \n7603  10862     NaN      NaN   \n7604  10863     NaN      NaN   \n7605  10864     NaN      NaN   \n7606  10866     NaN      NaN   \n7607  10867     NaN      NaN   \n7608  10869     NaN      NaN   \n7609  10870     NaN      NaN   \n7610  10871     NaN      NaN   \n7611  10872     NaN      NaN   \n7612  10873     NaN      NaN   \n\n                                                   text  target  \n7593       heard really loud bang everyone asleep great       0  \n7594  gas thing exploded heard screams whole street ...       1  \n7595  nws flash flood warning continued shelby count...       1  \n7596  rt livingsafely nws issues severe thunderstorm...       1  \n7597  mh370 aircraft debris found la reunion missing...       1  \n7598  fatherofthree lost control car overtaking coll...       1  \n7599  13 earthquake 9km ssw anza california iphone u...       1  \n7600             evacuation order lifted town roosevelt       1  \n7601  breaking la refugio oil spill may costlier big...       1  \n7602            siren went wasnt forney tornado warning       1  \n7603  officials say quarantine place alabama home po...       1  \n7604  worldnews fallen powerlines glink tram update ...       1  \n7605  flip side im walmart bomb everyone evacuate st...       1  \n7606  suicide bomber kills 15 saudi security site mo...       1  \n7607  stormchase violent record breaking ef5 el reno...       1  \n7608  two giant cranes holding bridge collapse nearb...       1  \n7609  ariaahrary thetawniest control wild fires cali...       1  \n7610                    m194 0104 utc5km volcano hawaii       1  \n7611  police investigating ebike collided car little...       1  \n7612  latest homes razed northern california wildfir...       1  ",
      "text/html": "<div>\n<style scoped>\n    .dataframe tbody tr th:only-of-type {\n        vertical-align: middle;\n    }\n\n    .dataframe tbody tr th {\n        vertical-align: top;\n    }\n\n    .dataframe thead th {\n        text-align: right;\n    }\n</style>\n<table border=\"1\" class=\"dataframe\">\n  <thead>\n    <tr style=\"text-align: right;\">\n      <th></th>\n      <th>id</th>\n      <th>keyword</th>\n      <th>location</th>\n      <th>text</th>\n      <th>target</th>\n    </tr>\n  </thead>\n  <tbody>\n    <tr>\n      <th>7593</th>\n      <td>10848</td>\n      <td>NaN</td>\n      <td>NaN</td>\n      <td>heard really loud bang everyone asleep great</td>\n      <td>0</td>\n    </tr>\n    <tr>\n      <th>7594</th>\n      <td>10849</td>\n      <td>NaN</td>\n      <td>NaN</td>\n      <td>gas thing exploded heard screams whole street ...</td>\n      <td>1</td>\n    </tr>\n    <tr>\n      <th>7595</th>\n      <td>10850</td>\n      <td>NaN</td>\n      <td>NaN</td>\n      <td>nws flash flood warning continued shelby count...</td>\n      <td>1</td>\n    </tr>\n    <tr>\n      <th>7596</th>\n      <td>10851</td>\n      <td>NaN</td>\n      <td>NaN</td>\n      <td>rt livingsafely nws issues severe thunderstorm...</td>\n      <td>1</td>\n    </tr>\n    <tr>\n      <th>7597</th>\n      <td>10852</td>\n      <td>NaN</td>\n      <td>NaN</td>\n      <td>mh370 aircraft debris found la reunion missing...</td>\n      <td>1</td>\n    </tr>\n    <tr>\n      <th>7598</th>\n      <td>10853</td>\n      <td>NaN</td>\n      <td>NaN</td>\n      <td>fatherofthree lost control car overtaking coll...</td>\n      <td>1</td>\n    </tr>\n    <tr>\n      <th>7599</th>\n      <td>10854</td>\n      <td>NaN</td>\n      <td>NaN</td>\n      <td>13 earthquake 9km ssw anza california iphone u...</td>\n      <td>1</td>\n    </tr>\n    <tr>\n      <th>7600</th>\n      <td>10855</td>\n      <td>NaN</td>\n      <td>NaN</td>\n      <td>evacuation order lifted town roosevelt</td>\n      <td>1</td>\n    </tr>\n    <tr>\n      <th>7601</th>\n      <td>10859</td>\n      <td>NaN</td>\n      <td>NaN</td>\n      <td>breaking la refugio oil spill may costlier big...</td>\n      <td>1</td>\n    </tr>\n    <tr>\n      <th>7602</th>\n      <td>10860</td>\n      <td>NaN</td>\n      <td>NaN</td>\n      <td>siren went wasnt forney tornado warning</td>\n      <td>1</td>\n    </tr>\n    <tr>\n      <th>7603</th>\n      <td>10862</td>\n      <td>NaN</td>\n      <td>NaN</td>\n      <td>officials say quarantine place alabama home po...</td>\n      <td>1</td>\n    </tr>\n    <tr>\n      <th>7604</th>\n      <td>10863</td>\n      <td>NaN</td>\n      <td>NaN</td>\n      <td>worldnews fallen powerlines glink tram update ...</td>\n      <td>1</td>\n    </tr>\n    <tr>\n      <th>7605</th>\n      <td>10864</td>\n      <td>NaN</td>\n      <td>NaN</td>\n      <td>flip side im walmart bomb everyone evacuate st...</td>\n      <td>1</td>\n    </tr>\n    <tr>\n      <th>7606</th>\n      <td>10866</td>\n      <td>NaN</td>\n      <td>NaN</td>\n      <td>suicide bomber kills 15 saudi security site mo...</td>\n      <td>1</td>\n    </tr>\n    <tr>\n      <th>7607</th>\n      <td>10867</td>\n      <td>NaN</td>\n      <td>NaN</td>\n      <td>stormchase violent record breaking ef5 el reno...</td>\n      <td>1</td>\n    </tr>\n    <tr>\n      <th>7608</th>\n      <td>10869</td>\n      <td>NaN</td>\n      <td>NaN</td>\n      <td>two giant cranes holding bridge collapse nearb...</td>\n      <td>1</td>\n    </tr>\n    <tr>\n      <th>7609</th>\n      <td>10870</td>\n      <td>NaN</td>\n      <td>NaN</td>\n      <td>ariaahrary thetawniest control wild fires cali...</td>\n      <td>1</td>\n    </tr>\n    <tr>\n      <th>7610</th>\n      <td>10871</td>\n      <td>NaN</td>\n      <td>NaN</td>\n      <td>m194 0104 utc5km volcano hawaii</td>\n      <td>1</td>\n    </tr>\n    <tr>\n      <th>7611</th>\n      <td>10872</td>\n      <td>NaN</td>\n      <td>NaN</td>\n      <td>police investigating ebike collided car little...</td>\n      <td>1</td>\n    </tr>\n    <tr>\n      <th>7612</th>\n      <td>10873</td>\n      <td>NaN</td>\n      <td>NaN</td>\n      <td>latest homes razed northern california wildfir...</td>\n      <td>1</td>\n    </tr>\n  </tbody>\n</table>\n</div>"
     },
     "execution_count": 461,
     "metadata": {},
     "output_type": "execute_result"
    }
   ],
   "source": [
    "df_train.tail(20)"
   ],
   "metadata": {
    "collapsed": false
   }
  },
  {
   "cell_type": "markdown",
   "source": [],
   "metadata": {
    "collapsed": false
   }
  },
  {
   "cell_type": "markdown",
   "source": [
    "### Selecting variables for model"
   ],
   "metadata": {
    "collapsed": false
   }
  },
  {
   "cell_type": "code",
   "execution_count": 462,
   "outputs": [],
   "source": [
    "X = df_train.text\n",
    "y = df_train.target"
   ],
   "metadata": {
    "collapsed": false
   }
  },
  {
   "cell_type": "markdown",
   "source": [
    "### Splitting data into train and test"
   ],
   "metadata": {
    "collapsed": false
   }
  },
  {
   "cell_type": "code",
   "execution_count": 463,
   "outputs": [],
   "source": [
    "# OBS: Using df_traing for train, validation and test splitting\n",
    "from sklearn.model_selection import train_test_split\n",
    "\n",
    "X_train, X_test, y_train, y_test = train_test_split(X, y, train_size=0.8, random_state=42)\n",
    "\n",
    "X_train, X_val, y_train, y_val = train_test_split(X_train,y_train, train_size=0.8,random_state=42)\n",
    "\n"
   ],
   "metadata": {
    "collapsed": false
   }
  },
  {
   "cell_type": "markdown",
   "source": [
    "### Vocabulary"
   ],
   "metadata": {
    "collapsed": false
   }
  },
  {
   "cell_type": "code",
   "execution_count": 464,
   "outputs": [],
   "source": [
    "tokens, vocab, vocab_size = nlp_utils.createVocabulary(X_train)"
   ],
   "metadata": {
    "collapsed": false
   }
  },
  {
   "cell_type": "code",
   "execution_count": 465,
   "outputs": [
    {
     "data": {
      "text/plain": "[('like', 223), ('amp', 191), ('im', 187), ('fire', 156), ('get', 154)]"
     },
     "execution_count": 465,
     "metadata": {},
     "output_type": "execute_result"
    }
   ],
   "source": [
    "# get 5 words with highest frequency from vocab\n",
    "ranking = nlp_utils.getWordsHigherFrequencyCorpus(vocab,5)\n",
    "ranking"
   ],
   "metadata": {
    "collapsed": false
   }
  },
  {
   "cell_type": "markdown",
   "source": [
    "### Train Numericalização"
   ],
   "metadata": {
    "collapsed": false
   }
  },
  {
   "cell_type": "code",
   "execution_count": 466,
   "outputs": [],
   "source": [
    "from keras.preprocessing.text import Tokenizer\n",
    "from keras_preprocessing.sequence import pad_sequences"
   ],
   "metadata": {
    "collapsed": false
   }
  },
  {
   "cell_type": "code",
   "execution_count": 467,
   "outputs": [],
   "source": [
    "tokenizer = Tokenizer(num_words=vocab_size,oov_token='<OOV>')\n",
    "tokenizer.fit_on_texts(X_train)\n",
    "word_index = tokenizer.word_index\n",
    "train_sequences = tokenizer.texts_to_sequences(X_train)"
   ],
   "metadata": {
    "collapsed": false
   }
  },
  {
   "cell_type": "code",
   "execution_count": 468,
   "outputs": [
    {
     "data": {
      "text/plain": "25"
     },
     "execution_count": 468,
     "metadata": {},
     "output_type": "execute_result"
    }
   ],
   "source": [
    "max_len = nlp_utils.findMaxLen(train_sequences)\n",
    "max_len"
   ],
   "metadata": {
    "collapsed": false
   }
  },
  {
   "cell_type": "markdown",
   "source": [
    "### Train padding"
   ],
   "metadata": {
    "collapsed": false
   }
  },
  {
   "cell_type": "code",
   "execution_count": 469,
   "outputs": [],
   "source": [
    "train_padded = pad_sequences(train_sequences, maxlen=max_len, padding='post', truncating='post')"
   ],
   "metadata": {
    "collapsed": false
   }
  },
  {
   "cell_type": "markdown",
   "source": [
    "### Validation Numericalization and Padding"
   ],
   "metadata": {
    "collapsed": false
   }
  },
  {
   "cell_type": "code",
   "execution_count": 470,
   "outputs": [],
   "source": [
    "val_sequences = tokenizer.texts_to_sequences(X_val)\n",
    "val_padded = pad_sequences(val_sequences, maxlen=max_len, padding='post', truncating='post')"
   ],
   "metadata": {
    "collapsed": false
   }
  },
  {
   "cell_type": "markdown",
   "source": [
    "### RNN model"
   ],
   "metadata": {
    "collapsed": false
   }
  },
  {
   "cell_type": "code",
   "execution_count": 471,
   "outputs": [],
   "source": [
    "from keras.models import Sequential\n",
    "from keras.layers import Embedding, LSTM, Dense, Dropout, Bidirectional\n",
    "from keras.optimizers import Adam\n",
    "from keras.losses import BinaryCrossentropy\n"
   ],
   "metadata": {
    "collapsed": false
   }
  },
  {
   "cell_type": "code",
   "execution_count": 472,
   "outputs": [
    {
     "name": "stdout",
     "output_type": "stream",
     "text": [
      "Model: \"sequential_13\"\n",
      "_________________________________________________________________\n",
      " Layer (type)                Output Shape              Param #   \n",
      "=================================================================\n",
      " embedding_13 (Embedding)    (None, 25, 32)            429920    \n",
      "                                                                 \n",
      " lstm_13 (LSTM)              (None, 64)                24832     \n",
      "                                                                 \n",
      " dense_13 (Dense)            (None, 1)                 65        \n",
      "                                                                 \n",
      "=================================================================\n",
      "Total params: 454,817\n",
      "Trainable params: 454,817\n",
      "Non-trainable params: 0\n",
      "_________________________________________________________________\n"
     ]
    }
   ],
   "source": [
    "model = Sequential([\n",
    "    Embedding(input_dim=vocab_size+1, output_dim=32, input_length=max_len),\n",
    "    LSTM(64, dropout=0.1),\n",
    "    Dense(1, activation='sigmoid')\n",
    "])\n",
    "model.summary()"
   ],
   "metadata": {
    "collapsed": false
   }
  },
  {
   "cell_type": "code",
   "execution_count": 473,
   "outputs": [
    {
     "name": "stdout",
     "output_type": "stream",
     "text": [
      "Epoch 1/20\n",
      "153/153 - 9s - loss: 0.5966 - accuracy: 0.6716 - val_loss: 0.5380 - val_accuracy: 0.7381 - 9s/epoch - 60ms/step\n",
      "Epoch 2/20\n",
      "153/153 - 4s - loss: 0.3071 - accuracy: 0.8822 - val_loss: 0.6588 - val_accuracy: 0.7020 - 4s/epoch - 24ms/step\n",
      "Epoch 3/20\n",
      "153/153 - 3s - loss: 0.1660 - accuracy: 0.9436 - val_loss: 0.7471 - val_accuracy: 0.7102 - 3s/epoch - 21ms/step\n",
      "Epoch 4/20\n",
      "153/153 - 3s - loss: 0.0973 - accuracy: 0.9674 - val_loss: 1.0050 - val_accuracy: 0.6962 - 3s/epoch - 20ms/step\n",
      "Epoch 5/20\n",
      "153/153 - 4s - loss: 0.0699 - accuracy: 0.9789 - val_loss: 1.3210 - val_accuracy: 0.6502 - 4s/epoch - 23ms/step\n",
      "Epoch 6/20\n",
      "153/153 - 4s - loss: 0.0588 - accuracy: 0.9844 - val_loss: 1.2744 - val_accuracy: 0.6609 - 4s/epoch - 24ms/step\n",
      "Epoch 7/20\n",
      "153/153 - 3s - loss: 0.0502 - accuracy: 0.9848 - val_loss: 1.3301 - val_accuracy: 0.6814 - 3s/epoch - 21ms/step\n",
      "Epoch 8/20\n",
      "153/153 - 3s - loss: 0.0415 - accuracy: 0.9844 - val_loss: 1.3774 - val_accuracy: 0.6995 - 3s/epoch - 21ms/step\n",
      "Epoch 9/20\n",
      "153/153 - 3s - loss: 0.0340 - accuracy: 0.9869 - val_loss: 1.4381 - val_accuracy: 0.6708 - 3s/epoch - 19ms/step\n",
      "Epoch 10/20\n",
      "153/153 - 3s - loss: 0.0331 - accuracy: 0.9844 - val_loss: 1.5896 - val_accuracy: 0.6765 - 3s/epoch - 20ms/step\n",
      "Epoch 11/20\n",
      "153/153 - 3s - loss: 0.0281 - accuracy: 0.9873 - val_loss: 1.3394 - val_accuracy: 0.6617 - 3s/epoch - 21ms/step\n",
      "Epoch 12/20\n",
      "153/153 - 3s - loss: 0.0248 - accuracy: 0.9883 - val_loss: 1.6561 - val_accuracy: 0.6741 - 3s/epoch - 19ms/step\n",
      "Epoch 13/20\n",
      "153/153 - 3s - loss: 0.0228 - accuracy: 0.9875 - val_loss: 1.7900 - val_accuracy: 0.6700 - 3s/epoch - 19ms/step\n",
      "Epoch 14/20\n",
      "153/153 - 3s - loss: 0.0306 - accuracy: 0.9867 - val_loss: 1.8080 - val_accuracy: 0.6650 - 3s/epoch - 19ms/step\n",
      "Epoch 15/20\n",
      "153/153 - 3s - loss: 0.0323 - accuracy: 0.9842 - val_loss: 1.3341 - val_accuracy: 0.6363 - 3s/epoch - 18ms/step\n",
      "Epoch 16/20\n",
      "153/153 - 3s - loss: 0.0307 - accuracy: 0.9865 - val_loss: 1.4378 - val_accuracy: 0.6839 - 3s/epoch - 19ms/step\n",
      "Epoch 17/20\n",
      "153/153 - 3s - loss: 0.0247 - accuracy: 0.9873 - val_loss: 1.6186 - val_accuracy: 0.6814 - 3s/epoch - 20ms/step\n",
      "Epoch 18/20\n",
      "153/153 - 3s - loss: 0.0264 - accuracy: 0.9873 - val_loss: 1.8246 - val_accuracy: 0.6790 - 3s/epoch - 21ms/step\n",
      "Epoch 19/20\n",
      "153/153 - 3s - loss: 0.0284 - accuracy: 0.9871 - val_loss: 1.8702 - val_accuracy: 0.6741 - 3s/epoch - 21ms/step\n",
      "Epoch 20/20\n",
      "153/153 - 3s - loss: 0.0205 - accuracy: 0.9879 - val_loss: 2.0266 - val_accuracy: 0.6708 - 3s/epoch - 19ms/step\n"
     ]
    },
    {
     "data": {
      "text/plain": "<keras.callbacks.History at 0x1cd83245bb0>"
     },
     "execution_count": 473,
     "metadata": {},
     "output_type": "execute_result"
    }
   ],
   "source": [
    "loss = BinaryCrossentropy(from_logits=False)\n",
    "optim = Adam(learning_rate=0.001)\n",
    "metrics = ['accuracy']\n",
    "model.compile(loss=loss, optimizer=optim, metrics=metrics)\n",
    "model.fit(train_padded, y_train, epochs=20, validation_data=(val_padded, y_val),verbose=2)"
   ],
   "metadata": {
    "collapsed": false
   }
  },
  {
   "cell_type": "markdown",
   "source": [
    "### Predictions"
   ],
   "metadata": {
    "collapsed": false
   }
  },
  {
   "cell_type": "code",
   "execution_count": 474,
   "outputs": [],
   "source": [
    "test_sequences = tokenizer.texts_to_sequences(X_test)\n",
    "test_padded = pad_sequences(test_sequences, maxlen=max_len, padding='post', truncating='post')"
   ],
   "metadata": {
    "collapsed": false
   }
  },
  {
   "cell_type": "code",
   "execution_count": 475,
   "outputs": [],
   "source": [
    "index_word = nlp_utils.index2word(word_index)"
   ],
   "metadata": {
    "collapsed": false
   }
  },
  {
   "cell_type": "code",
   "execution_count": 476,
   "outputs": [
    {
     "name": "stdout",
     "output_type": "stream",
     "text": [
      "48/48 [==============================] - 1s 8ms/step\n"
     ]
    }
   ],
   "source": [
    "pred_prob = model.predict(test_padded)"
   ],
   "metadata": {
    "collapsed": false
   }
  },
  {
   "cell_type": "code",
   "execution_count": 477,
   "outputs": [],
   "source": [
    "y_pred = [1 if p > 0.5 else 0 for p in pred_prob]"
   ],
   "metadata": {
    "collapsed": false
   }
  },
  {
   "cell_type": "code",
   "execution_count": 478,
   "outputs": [
    {
     "data": {
      "text/plain": "                                               sequence  \\\n0                                 [8, 165, 230, 1, 317]   \n1        [1, 273, 1, 31, 1, 257, 38, 1, 1, 2783, 10664]   \n2         [1, 1, 52, 1, 5323, 11508, 37, 4342, 1, 1, 1]   \n3     [749, 27, 72, 1680, 109, 59, 305, 134, 409, 45...   \n4       [1153, 291, 496, 1, 8505, 1, 659, 12, 1, 1, 41]   \n...                                                 ...   \n1518                              [1, 1, 260, 44, 2984]   \n1519  [992, 226, 993, 762, 892, 1102, 534, 757, 7, 9...   \n1520           [29, 298, 94, 23, 159, 1, 4052, 1, 7, 1]   \n1521  [5242, 422, 173, 3277, 864, 444, 1157, 5243, 1...   \n1522     [109, 772, 1, 6942, 27, 3856, 1, 3857, 293, 1]   \n\n                                                 X_test  \\\n0             new weapon cause unimaginable destruction   \n1     famping things gishwhes got soaked deluge goin...   \n2     dt georgegalloway rt galloway4mayor ûïthe col...   \n3     aftershock back school kick great want thank e...   \n4     response trauma children addicts develop defen...   \n...                                                 ...   \n1518                    smusx16475 skype crashed u host   \n1519  christian attacked muslims temple mount waving...   \n1520  man charged fatal crash near dubbo refused bai...   \n1521  usnwsgov severe weather statement issued augus...   \n1522  great british ltbgtbakeltbgt offs back dorrets...   \n\n                                               seq2text  y_pred  y_true  \n0              [new, weapon, cause, <OOV>, destruction]       0       1  \n1     [<OOV>, things, <OOV>, got, <OOV>, deluge, goi...       1       0  \n2     [<OOV>, <OOV>, rt, <OOV>, ûïthe, col, police,...       1       1  \n3     [aftershock, back, school, kick, great, want, ...       0       0  \n4     [response, trauma, children, <OOV>, develop, <...       1       0  \n...                                                 ...     ...     ...  \n1518                   [<OOV>, <OOV>, crashed, u, host]       1       0  \n1519  [christian, attacked, muslims, temple, mount, ...       1       1  \n1520  [man, charged, fatal, crash, near, <OOV>, refu...       1       1  \n1521  [usnwsgov, severe, weather, statement, issued,...       1       1  \n1522  [great, british, <OOV>, offs, back, dorrets, <...       1       0  \n\n[1523 rows x 5 columns]",
      "text/html": "<div>\n<style scoped>\n    .dataframe tbody tr th:only-of-type {\n        vertical-align: middle;\n    }\n\n    .dataframe tbody tr th {\n        vertical-align: top;\n    }\n\n    .dataframe thead th {\n        text-align: right;\n    }\n</style>\n<table border=\"1\" class=\"dataframe\">\n  <thead>\n    <tr style=\"text-align: right;\">\n      <th></th>\n      <th>sequence</th>\n      <th>X_test</th>\n      <th>seq2text</th>\n      <th>y_pred</th>\n      <th>y_true</th>\n    </tr>\n  </thead>\n  <tbody>\n    <tr>\n      <th>0</th>\n      <td>[8, 165, 230, 1, 317]</td>\n      <td>new weapon cause unimaginable destruction</td>\n      <td>[new, weapon, cause, &lt;OOV&gt;, destruction]</td>\n      <td>0</td>\n      <td>1</td>\n    </tr>\n    <tr>\n      <th>1</th>\n      <td>[1, 273, 1, 31, 1, 257, 38, 1, 1, 2783, 10664]</td>\n      <td>famping things gishwhes got soaked deluge goin...</td>\n      <td>[&lt;OOV&gt;, things, &lt;OOV&gt;, got, &lt;OOV&gt;, deluge, goi...</td>\n      <td>1</td>\n      <td>0</td>\n    </tr>\n    <tr>\n      <th>2</th>\n      <td>[1, 1, 52, 1, 5323, 11508, 37, 4342, 1, 1, 1]</td>\n      <td>dt georgegalloway rt galloway4mayor ûïthe col...</td>\n      <td>[&lt;OOV&gt;, &lt;OOV&gt;, rt, &lt;OOV&gt;, ûïthe, col, police,...</td>\n      <td>1</td>\n      <td>1</td>\n    </tr>\n    <tr>\n      <th>3</th>\n      <td>[749, 27, 72, 1680, 109, 59, 305, 134, 409, 45...</td>\n      <td>aftershock back school kick great want thank e...</td>\n      <td>[aftershock, back, school, kick, great, want, ...</td>\n      <td>0</td>\n      <td>0</td>\n    </tr>\n    <tr>\n      <th>4</th>\n      <td>[1153, 291, 496, 1, 8505, 1, 659, 12, 1, 1, 41]</td>\n      <td>response trauma children addicts develop defen...</td>\n      <td>[response, trauma, children, &lt;OOV&gt;, develop, &lt;...</td>\n      <td>1</td>\n      <td>0</td>\n    </tr>\n    <tr>\n      <th>...</th>\n      <td>...</td>\n      <td>...</td>\n      <td>...</td>\n      <td>...</td>\n      <td>...</td>\n    </tr>\n    <tr>\n      <th>1518</th>\n      <td>[1, 1, 260, 44, 2984]</td>\n      <td>smusx16475 skype crashed u host</td>\n      <td>[&lt;OOV&gt;, &lt;OOV&gt;, crashed, u, host]</td>\n      <td>1</td>\n      <td>0</td>\n    </tr>\n    <tr>\n      <th>1519</th>\n      <td>[992, 226, 993, 762, 892, 1102, 534, 757, 7, 9...</td>\n      <td>christian attacked muslims temple mount waving...</td>\n      <td>[christian, attacked, muslims, temple, mount, ...</td>\n      <td>1</td>\n      <td>1</td>\n    </tr>\n    <tr>\n      <th>1520</th>\n      <td>[29, 298, 94, 23, 159, 1, 4052, 1, 7, 1]</td>\n      <td>man charged fatal crash near dubbo refused bai...</td>\n      <td>[man, charged, fatal, crash, near, &lt;OOV&gt;, refu...</td>\n      <td>1</td>\n      <td>1</td>\n    </tr>\n    <tr>\n      <th>1521</th>\n      <td>[5242, 422, 173, 3277, 864, 444, 1157, 5243, 1...</td>\n      <td>usnwsgov severe weather statement issued augus...</td>\n      <td>[usnwsgov, severe, weather, statement, issued,...</td>\n      <td>1</td>\n      <td>1</td>\n    </tr>\n    <tr>\n      <th>1522</th>\n      <td>[109, 772, 1, 6942, 27, 3856, 1, 3857, 293, 1]</td>\n      <td>great british ltbgtbakeltbgt offs back dorrets...</td>\n      <td>[great, british, &lt;OOV&gt;, offs, back, dorrets, &lt;...</td>\n      <td>1</td>\n      <td>0</td>\n    </tr>\n  </tbody>\n</table>\n<p>1523 rows × 5 columns</p>\n</div>"
     },
     "execution_count": 478,
     "metadata": {},
     "output_type": "execute_result"
    }
   ],
   "source": [
    "df_results = pd.DataFrame()\n",
    "X_test = list(X_test)\n",
    "y_test = list(y_test)\n",
    "df_results['sequence'] = test_sequences\n",
    "df_results['X_test'] = X_test\n",
    "df_results['seq2text'] = df_results['sequence'].apply(lambda x: nlp_utils.seq2text(x, index_word))\n",
    "df_results['y_pred'] = y_pred\n",
    "df_results['y_true'] = y_test\n",
    "df_results"
   ],
   "metadata": {
    "collapsed": false
   }
  },
  {
   "cell_type": "markdown",
   "source": [
    "### Evaluating Model"
   ],
   "metadata": {
    "collapsed": false
   }
  },
  {
   "cell_type": "code",
   "execution_count": 479,
   "outputs": [],
   "source": [
    "from sklearn.metrics import accuracy_score, precision_score, recall_score, f1_score, confusion_matrix, classification_report\n",
    "import matplotlib.pyplot as plt\n",
    "import seaborn as sns"
   ],
   "metadata": {
    "collapsed": false
   }
  },
  {
   "cell_type": "code",
   "execution_count": 480,
   "outputs": [],
   "source": [
    "accuracy = accuracy_score(y_test,y_pred)\n",
    "precision = precision_score(y_test,y_pred)\n",
    "recall = recall_score(y_test,y_pred)\n",
    "f1score = f1_score(y_test,y_pred)\n",
    "cm = confusion_matrix(y_test,y_pred)\n"
   ],
   "metadata": {
    "collapsed": false
   }
  },
  {
   "cell_type": "code",
   "execution_count": 481,
   "outputs": [],
   "source": [
    "def show_confusion_matrix(cm):\n",
    "        print(\"Confusion Matrix\")\n",
    "        plt.figure(figsize=(10, 7))\n",
    "\n",
    "        sns.heatmap(cm, annot=True, fmt='d', cmap='Blues', xticklabels=['Negative', 'Positive'],\n",
    "                    yticklabels=['Negative', 'Positive'])\n",
    "        plt.xlabel('Predicted')\n",
    "        plt.ylabel('Truth')\n",
    "        plt.title('Confusion Matrix')\n",
    "        plt.show()"
   ],
   "metadata": {
    "collapsed": false
   }
  },
  {
   "cell_type": "code",
   "execution_count": 482,
   "outputs": [
    {
     "name": "stdout",
     "output_type": "stream",
     "text": [
      "              precision    recall  f1-score   support\n",
      "\n",
      "           0       0.80      0.58      0.67       874\n",
      "           1       0.59      0.81      0.68       649\n",
      "\n",
      "    accuracy                           0.68      1523\n",
      "   macro avg       0.70      0.69      0.68      1523\n",
      "weighted avg       0.71      0.68      0.68      1523\n",
      "\n",
      "Confusion Matrix\n"
     ]
    },
    {
     "data": {
      "text/plain": "<Figure size 1000x700 with 2 Axes>",
      "image/png": "[encoded data removed]"
     },
     "metadata": {},
     "output_type": "display_data"
    }
   ],
   "source": [
    "print(classification_report(y_test,y_pred))\n",
    "show_confusion_matrix(cm)"
   ],
   "metadata": {
    "collapsed": false
   }
  },
  {
   "cell_type": "code",
   "execution_count": 483,
   "outputs": [],
   "source": [
    "# pattern = re.compile(r'https?://\\S+|www\\.\\S+')\n",
    "# for t in df_train.text:\n",
    "#     matches = pattern.findall(t)\n",
    "#     for match in matches:\n",
    "#         print(t)\n",
    "#         print(match)\n",
    "#         print(pattern.sub())\n"
   ],
   "metadata": {
    "collapsed": false
   }
  }
 ],
 "metadata": {
  "kernelspec": {
   "display_name": "Python 3",
   "language": "python",
   "name": "python3"
  },
  "language_info": {
   "codemirror_mode": {
    "name": "ipython",
    "version": 2
   },
   "file_extension": ".py",
   "mimetype": "text/x-python",
   "name": "python",
   "nbconvert_exporter": "python",
   "pygments_lexer": "ipython2",
   "version": "2.7.6"
  }
 },
 "nbformat": 4,
 "nbformat_minor": 0
}
