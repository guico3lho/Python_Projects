{
 "cells": [
  {
   "cell_type": "markdown",
   "source": [
    "### Imports"
   ],
   "metadata": {
    "collapsed": false
   }
  },
  {
   "cell_type": "code",
   "execution_count": 548,
   "outputs": [],
   "source": [
    "import keras.losses\n",
    "import numpy as np\n",
    "import pandas as pd\n",
    "import os"
   ],
   "metadata": {
    "collapsed": false
   }
  },
  {
   "cell_type": "code",
   "execution_count": 549,
   "outputs": [
    {
     "data": {
      "text/plain": "<module 'My_PythonPackage.nlp_utils' from 'C:\\\\Users\\\\guimi\\\\Documents\\\\Python_Projects\\\\My_PythonPackage\\\\nlp_utils.py'>"
     },
     "execution_count": 549,
     "metadata": {},
     "output_type": "execute_result"
    }
   ],
   "source": [
    "import importlib\n",
    "import My_PythonPackage.nlp_utils as nlp_utils\n",
    "importlib.reload(nlp_utils)"
   ],
   "metadata": {
    "collapsed": false
   }
  },
  {
   "cell_type": "markdown",
   "source": [
    "### Importing datasets"
   ],
   "metadata": {
    "collapsed": false
   }
  },
  {
   "cell_type": "code",
   "execution_count": 550,
   "outputs": [],
   "source": [
    "df_train_raw = pd.read_csv('../../Datasets/nlp-getting-started/train.csv')\n",
    "df_test_raw = pd.read_csv('../../Datasets/nlp-getting-started/test.csv')"
   ],
   "metadata": {
    "collapsed": false
   }
  },
  {
   "cell_type": "code",
   "execution_count": 551,
   "outputs": [
    {
     "data": {
      "text/plain": "        id        keyword                       location  \\\n2673  3835       detonate  Sharkatraz/Bindle's Cleft, PA   \n823   1198       blizzard             Colorado/WorldWide   \n754   1088      blew%20up                            NaN   \n3067  4401    electrocute                            NaN   \n4617  6565         injury                            NaN   \n3273  4698      epicentre                 London/Surrey    \n6775  9707        tornado                            NaN   \n4072  5790           hail                            NaN   \n5349  7635    pandemonium                            NaN   \n6082  8689       sinkhole                  San Diego, CA   \n4773  6792      lightning    Holland MI via Houston, CLE   \n6796  9736        tragedy                 Silicon Valley   \n3112  4466   electrocuted                 North Carolina   \n23      34            NaN                            NaN   \n6816  9763        trapped                        Orlando   \n5835  8337         rubble                            NaN   \n4033  5727  forest%20fire                            NaN   \n6191  8838         sirens                            NaN   \n3470  4964      explosion                            NaN   \n3975  5651       flooding                            NaN   \n\n                                                   text  target  \n2673  @AutoAmes everyone hoped we would join ISIS an...       0  \n823                                @Blizzard_Gamin ight       0  \n754   i hate people who tweet 'receipts' but KNOW it...       0  \n3067  @devon_breneman hopefully it doesn't electrocu...       0  \n4617  @Patricia_Traina any update on the McClain inj...       0  \n3273  @carneross indeed and a remarkably puny idea t...       0  \n6775  Pretty teen Hayden Ryan poses and strips out o...       0  \n4072           #np Avenged Sevenfold - Hail To The King       0  \n5349  Pandemonium In Aba As Woman Delivers Baby With...       0  \n6082  #MTSAlert Orange &amp; Blue Line riders: Expec...       1  \n4773  Corey Robinson having some solid reps at RT al...       0  \n6796  @sriramk @DLin71 @pmarca Tragedy of commons pe...       0  \n3112  I'm loving this classic barn shot! We may or m...       1  \n23                                What a wonderful day!       0  \n6816  Hollywood Movie About Trapped Miners Released ...       0  \n5835  China's Stock Market Crash: Are There Gems In ...       0  \n4033  I had to grill for a school function. One of t...       0  \n6191  I added a video to a @YouTube playlist http://...       0  \n3470  Another Mechanical Mod Explosion: Man Injured ...       1  \n3975         LRT LOOK AT ALL MY TOM FEELS FLOODING BACK       0  ",
      "text/html": "<div>\n<style scoped>\n    .dataframe tbody tr th:only-of-type {\n        vertical-align: middle;\n    }\n\n    .dataframe tbody tr th {\n        vertical-align: top;\n    }\n\n    .dataframe thead th {\n        text-align: right;\n    }\n</style>\n<table border=\"1\" class=\"dataframe\">\n  <thead>\n    <tr style=\"text-align: right;\">\n      <th></th>\n      <th>id</th>\n      <th>keyword</th>\n      <th>location</th>\n      <th>text</th>\n      <th>target</th>\n    </tr>\n  </thead>\n  <tbody>\n    <tr>\n      <th>2673</th>\n      <td>3835</td>\n      <td>detonate</td>\n      <td>Sharkatraz/Bindle's Cleft, PA</td>\n      <td>@AutoAmes everyone hoped we would join ISIS an...</td>\n      <td>0</td>\n    </tr>\n    <tr>\n      <th>823</th>\n      <td>1198</td>\n      <td>blizzard</td>\n      <td>Colorado/WorldWide</td>\n      <td>@Blizzard_Gamin ight</td>\n      <td>0</td>\n    </tr>\n    <tr>\n      <th>754</th>\n      <td>1088</td>\n      <td>blew%20up</td>\n      <td>NaN</td>\n      <td>i hate people who tweet 'receipts' but KNOW it...</td>\n      <td>0</td>\n    </tr>\n    <tr>\n      <th>3067</th>\n      <td>4401</td>\n      <td>electrocute</td>\n      <td>NaN</td>\n      <td>@devon_breneman hopefully it doesn't electrocu...</td>\n      <td>0</td>\n    </tr>\n    <tr>\n      <th>4617</th>\n      <td>6565</td>\n      <td>injury</td>\n      <td>NaN</td>\n      <td>@Patricia_Traina any update on the McClain inj...</td>\n      <td>0</td>\n    </tr>\n    <tr>\n      <th>3273</th>\n      <td>4698</td>\n      <td>epicentre</td>\n      <td>London/Surrey</td>\n      <td>@carneross indeed and a remarkably puny idea t...</td>\n      <td>0</td>\n    </tr>\n    <tr>\n      <th>6775</th>\n      <td>9707</td>\n      <td>tornado</td>\n      <td>NaN</td>\n      <td>Pretty teen Hayden Ryan poses and strips out o...</td>\n      <td>0</td>\n    </tr>\n    <tr>\n      <th>4072</th>\n      <td>5790</td>\n      <td>hail</td>\n      <td>NaN</td>\n      <td>#np Avenged Sevenfold - Hail To The King</td>\n      <td>0</td>\n    </tr>\n    <tr>\n      <th>5349</th>\n      <td>7635</td>\n      <td>pandemonium</td>\n      <td>NaN</td>\n      <td>Pandemonium In Aba As Woman Delivers Baby With...</td>\n      <td>0</td>\n    </tr>\n    <tr>\n      <th>6082</th>\n      <td>8689</td>\n      <td>sinkhole</td>\n      <td>San Diego, CA</td>\n      <td>#MTSAlert Orange &amp;amp; Blue Line riders: Expec...</td>\n      <td>1</td>\n    </tr>\n    <tr>\n      <th>4773</th>\n      <td>6792</td>\n      <td>lightning</td>\n      <td>Holland MI via Houston, CLE</td>\n      <td>Corey Robinson having some solid reps at RT al...</td>\n      <td>0</td>\n    </tr>\n    <tr>\n      <th>6796</th>\n      <td>9736</td>\n      <td>tragedy</td>\n      <td>Silicon Valley</td>\n      <td>@sriramk @DLin71 @pmarca Tragedy of commons pe...</td>\n      <td>0</td>\n    </tr>\n    <tr>\n      <th>3112</th>\n      <td>4466</td>\n      <td>electrocuted</td>\n      <td>North Carolina</td>\n      <td>I'm loving this classic barn shot! We may or m...</td>\n      <td>1</td>\n    </tr>\n    <tr>\n      <th>23</th>\n      <td>34</td>\n      <td>NaN</td>\n      <td>NaN</td>\n      <td>What a wonderful day!</td>\n      <td>0</td>\n    </tr>\n    <tr>\n      <th>6816</th>\n      <td>9763</td>\n      <td>trapped</td>\n      <td>Orlando</td>\n      <td>Hollywood Movie About Trapped Miners Released ...</td>\n      <td>0</td>\n    </tr>\n    <tr>\n      <th>5835</th>\n      <td>8337</td>\n      <td>rubble</td>\n      <td>NaN</td>\n      <td>China's Stock Market Crash: Are There Gems In ...</td>\n      <td>0</td>\n    </tr>\n    <tr>\n      <th>4033</th>\n      <td>5727</td>\n      <td>forest%20fire</td>\n      <td>NaN</td>\n      <td>I had to grill for a school function. One of t...</td>\n      <td>0</td>\n    </tr>\n    <tr>\n      <th>6191</th>\n      <td>8838</td>\n      <td>sirens</td>\n      <td>NaN</td>\n      <td>I added a video to a @YouTube playlist http://...</td>\n      <td>0</td>\n    </tr>\n    <tr>\n      <th>3470</th>\n      <td>4964</td>\n      <td>explosion</td>\n      <td>NaN</td>\n      <td>Another Mechanical Mod Explosion: Man Injured ...</td>\n      <td>1</td>\n    </tr>\n    <tr>\n      <th>3975</th>\n      <td>5651</td>\n      <td>flooding</td>\n      <td>NaN</td>\n      <td>LRT LOOK AT ALL MY TOM FEELS FLOODING BACK</td>\n      <td>0</td>\n    </tr>\n  </tbody>\n</table>\n</div>"
     },
     "execution_count": 551,
     "metadata": {},
     "output_type": "execute_result"
    }
   ],
   "source": [
    "df_train_raw.sample(20)"
   ],
   "metadata": {
    "collapsed": false
   }
  },
  {
   "cell_type": "code",
   "execution_count": 552,
   "outputs": [
    {
     "name": "stdout",
     "output_type": "stream",
     "text": [
      "3271\n",
      "4342\n"
     ]
    }
   ],
   "source": [
    "print((df_train_raw.target == 1).sum())\n",
    "print((df_train_raw.target == 0).sum())"
   ],
   "metadata": {
    "collapsed": false
   }
  },
  {
   "cell_type": "markdown",
   "source": [
    "### Data Preprocessing"
   ],
   "metadata": {
    "collapsed": false
   }
  },
  {
   "cell_type": "code",
   "execution_count": 553,
   "outputs": [
    {
     "name": "stderr",
     "output_type": "stream",
     "text": [
      "[nltk_data] Downloading package stopwords to\n",
      "[nltk_data]     C:\\Users\\guimi\\AppData\\Roaming\\nltk_data...\n",
      "[nltk_data]   Package stopwords is already up-to-date!\n"
     ]
    }
   ],
   "source": [
    "stop_words = nlp_utils.usingStopwords('en')\n",
    "df_train = df_train_raw.copy()\n",
    "\n",
    "## Train data Preprocessing\n",
    "df_train['text'] = df_train['text'].map(lambda x: nlp_utils.remove_URL(x))\n",
    "df_train['text'] = df_train['text'].map(lambda x: nlp_utils.remove_punct(x))\n",
    "df_train['text'] = df_train['text'].map(lambda x: x.lower())\n",
    "df_train['text'] = df_train['text'].map(lambda x: nlp_utils.removeStopwords(x,stop_words))\n",
    "\n",
    "## Test data preprocessing\n",
    "df_test = df_test_raw.copy()\n",
    "df_test['text'] = df_test['text'].map(lambda x: nlp_utils.remove_URL(x))\n",
    "df_test['text'] = df_test['text'].map(lambda x: nlp_utils.remove_punct(x))\n",
    "df_test['text'] = df_test['text'].map(lambda x: x.lower())\n",
    "df_test['text'] = df_test['text'].map(lambda x: nlp_utils.removeStopwords(x,stop_words))\n",
    "\n",
    "\n"
   ],
   "metadata": {
    "collapsed": false
   }
  },
  {
   "cell_type": "code",
   "execution_count": 554,
   "outputs": [
    {
     "data": {
      "text/plain": "         id keyword location  \\\n7593  10848     NaN      NaN   \n7594  10849     NaN      NaN   \n7595  10850     NaN      NaN   \n7596  10851     NaN      NaN   \n7597  10852     NaN      NaN   \n7598  10853     NaN      NaN   \n7599  10854     NaN      NaN   \n7600  10855     NaN      NaN   \n7601  10859     NaN      NaN   \n7602  10860     NaN      NaN   \n7603  10862     NaN      NaN   \n7604  10863     NaN      NaN   \n7605  10864     NaN      NaN   \n7606  10866     NaN      NaN   \n7607  10867     NaN      NaN   \n7608  10869     NaN      NaN   \n7609  10870     NaN      NaN   \n7610  10871     NaN      NaN   \n7611  10872     NaN      NaN   \n7612  10873     NaN      NaN   \n\n                                                   text  target  \n7593       heard really loud bang everyone asleep great       0  \n7594  gas thing exploded heard screams whole street ...       1  \n7595  nws flash flood warning continued shelby count...       1  \n7596  rt livingsafely nws issues severe thunderstorm...       1  \n7597  mh370 aircraft debris found la reunion missing...       1  \n7598  fatherofthree lost control car overtaking coll...       1  \n7599  13 earthquake 9km ssw anza california iphone u...       1  \n7600             evacuation order lifted town roosevelt       1  \n7601  breaking la refugio oil spill may costlier big...       1  \n7602            siren went wasnt forney tornado warning       1  \n7603  officials say quarantine place alabama home po...       1  \n7604  worldnews fallen powerlines glink tram update ...       1  \n7605  flip side im walmart bomb everyone evacuate st...       1  \n7606  suicide bomber kills 15 saudi security site mo...       1  \n7607  stormchase violent record breaking ef5 el reno...       1  \n7608  two giant cranes holding bridge collapse nearb...       1  \n7609  ariaahrary thetawniest control wild fires cali...       1  \n7610                    m194 0104 utc5km volcano hawaii       1  \n7611  police investigating ebike collided car little...       1  \n7612  latest homes razed northern california wildfir...       1  ",
      "text/html": "<div>\n<style scoped>\n    .dataframe tbody tr th:only-of-type {\n        vertical-align: middle;\n    }\n\n    .dataframe tbody tr th {\n        vertical-align: top;\n    }\n\n    .dataframe thead th {\n        text-align: right;\n    }\n</style>\n<table border=\"1\" class=\"dataframe\">\n  <thead>\n    <tr style=\"text-align: right;\">\n      <th></th>\n      <th>id</th>\n      <th>keyword</th>\n      <th>location</th>\n      <th>text</th>\n      <th>target</th>\n    </tr>\n  </thead>\n  <tbody>\n    <tr>\n      <th>7593</th>\n      <td>10848</td>\n      <td>NaN</td>\n      <td>NaN</td>\n      <td>heard really loud bang everyone asleep great</td>\n      <td>0</td>\n    </tr>\n    <tr>\n      <th>7594</th>\n      <td>10849</td>\n      <td>NaN</td>\n      <td>NaN</td>\n      <td>gas thing exploded heard screams whole street ...</td>\n      <td>1</td>\n    </tr>\n    <tr>\n      <th>7595</th>\n      <td>10850</td>\n      <td>NaN</td>\n      <td>NaN</td>\n      <td>nws flash flood warning continued shelby count...</td>\n      <td>1</td>\n    </tr>\n    <tr>\n      <th>7596</th>\n      <td>10851</td>\n      <td>NaN</td>\n      <td>NaN</td>\n      <td>rt livingsafely nws issues severe thunderstorm...</td>\n      <td>1</td>\n    </tr>\n    <tr>\n      <th>7597</th>\n      <td>10852</td>\n      <td>NaN</td>\n      <td>NaN</td>\n      <td>mh370 aircraft debris found la reunion missing...</td>\n      <td>1</td>\n    </tr>\n    <tr>\n      <th>7598</th>\n      <td>10853</td>\n      <td>NaN</td>\n      <td>NaN</td>\n      <td>fatherofthree lost control car overtaking coll...</td>\n      <td>1</td>\n    </tr>\n    <tr>\n      <th>7599</th>\n      <td>10854</td>\n      <td>NaN</td>\n      <td>NaN</td>\n      <td>13 earthquake 9km ssw anza california iphone u...</td>\n      <td>1</td>\n    </tr>\n    <tr>\n      <th>7600</th>\n      <td>10855</td>\n      <td>NaN</td>\n      <td>NaN</td>\n      <td>evacuation order lifted town roosevelt</td>\n      <td>1</td>\n    </tr>\n    <tr>\n      <th>7601</th>\n      <td>10859</td>\n      <td>NaN</td>\n      <td>NaN</td>\n      <td>breaking la refugio oil spill may costlier big...</td>\n      <td>1</td>\n    </tr>\n    <tr>\n      <th>7602</th>\n      <td>10860</td>\n      <td>NaN</td>\n      <td>NaN</td>\n      <td>siren went wasnt forney tornado warning</td>\n      <td>1</td>\n    </tr>\n    <tr>\n      <th>7603</th>\n      <td>10862</td>\n      <td>NaN</td>\n      <td>NaN</td>\n      <td>officials say quarantine place alabama home po...</td>\n      <td>1</td>\n    </tr>\n    <tr>\n      <th>7604</th>\n      <td>10863</td>\n      <td>NaN</td>\n      <td>NaN</td>\n      <td>worldnews fallen powerlines glink tram update ...</td>\n      <td>1</td>\n    </tr>\n    <tr>\n      <th>7605</th>\n      <td>10864</td>\n      <td>NaN</td>\n      <td>NaN</td>\n      <td>flip side im walmart bomb everyone evacuate st...</td>\n      <td>1</td>\n    </tr>\n    <tr>\n      <th>7606</th>\n      <td>10866</td>\n      <td>NaN</td>\n      <td>NaN</td>\n      <td>suicide bomber kills 15 saudi security site mo...</td>\n      <td>1</td>\n    </tr>\n    <tr>\n      <th>7607</th>\n      <td>10867</td>\n      <td>NaN</td>\n      <td>NaN</td>\n      <td>stormchase violent record breaking ef5 el reno...</td>\n      <td>1</td>\n    </tr>\n    <tr>\n      <th>7608</th>\n      <td>10869</td>\n      <td>NaN</td>\n      <td>NaN</td>\n      <td>two giant cranes holding bridge collapse nearb...</td>\n      <td>1</td>\n    </tr>\n    <tr>\n      <th>7609</th>\n      <td>10870</td>\n      <td>NaN</td>\n      <td>NaN</td>\n      <td>ariaahrary thetawniest control wild fires cali...</td>\n      <td>1</td>\n    </tr>\n    <tr>\n      <th>7610</th>\n      <td>10871</td>\n      <td>NaN</td>\n      <td>NaN</td>\n      <td>m194 0104 utc5km volcano hawaii</td>\n      <td>1</td>\n    </tr>\n    <tr>\n      <th>7611</th>\n      <td>10872</td>\n      <td>NaN</td>\n      <td>NaN</td>\n      <td>police investigating ebike collided car little...</td>\n      <td>1</td>\n    </tr>\n    <tr>\n      <th>7612</th>\n      <td>10873</td>\n      <td>NaN</td>\n      <td>NaN</td>\n      <td>latest homes razed northern california wildfir...</td>\n      <td>1</td>\n    </tr>\n  </tbody>\n</table>\n</div>"
     },
     "execution_count": 554,
     "metadata": {},
     "output_type": "execute_result"
    }
   ],
   "source": [
    "df_train.tail(20)"
   ],
   "metadata": {
    "collapsed": false
   }
  },
  {
   "cell_type": "markdown",
   "source": [],
   "metadata": {
    "collapsed": false
   }
  },
  {
   "cell_type": "markdown",
   "source": [
    "### Selecting variables for model"
   ],
   "metadata": {
    "collapsed": false
   }
  },
  {
   "cell_type": "code",
   "execution_count": 555,
   "outputs": [],
   "source": [
    "X = df_train.text\n",
    "y = df_train.target"
   ],
   "metadata": {
    "collapsed": false
   }
  },
  {
   "cell_type": "markdown",
   "source": [
    "### Splitting data into train and test"
   ],
   "metadata": {
    "collapsed": false
   }
  },
  {
   "cell_type": "code",
   "execution_count": 556,
   "outputs": [],
   "source": [
    "# OBS: Using df_traing for train, validation and test splitting\n",
    "from sklearn.model_selection import train_test_split\n",
    "\n",
    "X_train, X_test, y_train, y_test = train_test_split(X, y, train_size=0.8, random_state=42)\n",
    "\n",
    "X_train, X_val, y_train, y_val = train_test_split(X_train,y_train, train_size=0.8,random_state=42)\n",
    "\n"
   ],
   "metadata": {
    "collapsed": false
   }
  },
  {
   "cell_type": "markdown",
   "source": [
    "### Vocabulary"
   ],
   "metadata": {
    "collapsed": false
   }
  },
  {
   "cell_type": "code",
   "execution_count": 557,
   "outputs": [],
   "source": [
    "tokens, vocab, vocab_size = nlp_utils.createVocabulary(X_train)"
   ],
   "metadata": {
    "collapsed": false
   }
  },
  {
   "cell_type": "code",
   "execution_count": 558,
   "outputs": [
    {
     "data": {
      "text/plain": "[('like', 223), ('amp', 191), ('im', 187), ('fire', 156), ('get', 154)]"
     },
     "execution_count": 558,
     "metadata": {},
     "output_type": "execute_result"
    }
   ],
   "source": [
    "# get 5 words with highest frequency from vocab\n",
    "ranking = nlp_utils.getWordsHigherFrequencyCorpus(vocab,5)\n",
    "ranking"
   ],
   "metadata": {
    "collapsed": false
   }
  },
  {
   "cell_type": "markdown",
   "source": [
    "### Train Numericalização"
   ],
   "metadata": {
    "collapsed": false
   }
  },
  {
   "cell_type": "code",
   "execution_count": 559,
   "outputs": [],
   "source": [
    "from keras.preprocessing.text import Tokenizer\n",
    "from keras_preprocessing.sequence import pad_sequences"
   ],
   "metadata": {
    "collapsed": false
   }
  },
  {
   "cell_type": "code",
   "execution_count": 560,
   "outputs": [],
   "source": [
    "tokenizer = Tokenizer(num_words=vocab_size,oov_token='<OOV>')\n",
    "tokenizer.fit_on_texts(X_train)\n",
    "word_index = tokenizer.word_index\n",
    "train_sequences = tokenizer.texts_to_sequences(X_train)"
   ],
   "metadata": {
    "collapsed": false
   }
  },
  {
   "cell_type": "code",
   "execution_count": 561,
   "outputs": [
    {
     "data": {
      "text/plain": "25"
     },
     "execution_count": 561,
     "metadata": {},
     "output_type": "execute_result"
    }
   ],
   "source": [
    "max_len = nlp_utils.findMaxLen(train_sequences)\n",
    "max_len"
   ],
   "metadata": {
    "collapsed": false
   }
  },
  {
   "cell_type": "markdown",
   "source": [
    "### Train padding"
   ],
   "metadata": {
    "collapsed": false
   }
  },
  {
   "cell_type": "code",
   "execution_count": 562,
   "outputs": [],
   "source": [
    "train_padded = pad_sequences(train_sequences, maxlen=max_len, padding='post', truncating='post')"
   ],
   "metadata": {
    "collapsed": false
   }
  },
  {
   "cell_type": "markdown",
   "source": [
    "### Validation Numericalization and Padding"
   ],
   "metadata": {
    "collapsed": false
   }
  },
  {
   "cell_type": "code",
   "execution_count": 563,
   "outputs": [],
   "source": [
    "val_sequences = tokenizer.texts_to_sequences(X_val)\n",
    "val_padded = pad_sequences(val_sequences, maxlen=max_len, padding='post', truncating='post')"
   ],
   "metadata": {
    "collapsed": false
   }
  },
  {
   "cell_type": "markdown",
   "source": [
    "### RNN model"
   ],
   "metadata": {
    "collapsed": false
   }
  },
  {
   "cell_type": "code",
   "execution_count": 564,
   "outputs": [],
   "source": [
    "from keras.models import Sequential\n",
    "from keras.layers import Embedding, LSTM, Dense, Dropout, Bidirectional\n",
    "from keras.optimizers import Adam\n",
    "from keras.losses import BinaryCrossentropy\n"
   ],
   "metadata": {
    "collapsed": false
   }
  },
  {
   "cell_type": "code",
   "execution_count": 592,
   "outputs": [
    {
     "name": "stdout",
     "output_type": "stream",
     "text": [
      "Model: \"sequential_19\"\n",
      "_________________________________________________________________\n",
      " Layer (type)                Output Shape              Param #   \n",
      "=================================================================\n",
      " embedding_19 (Embedding)    (None, 25, 32)            429920    \n",
      "                                                                 \n",
      " lstm_19 (LSTM)              (None, 256)               295936    \n",
      "                                                                 \n",
      " dense_19 (Dense)            (None, 1)                 257       \n",
      "                                                                 \n",
      "=================================================================\n",
      "Total params: 726,113\n",
      "Trainable params: 726,113\n",
      "Non-trainable params: 0\n",
      "_________________________________________________________________\n"
     ]
    }
   ],
   "source": [
    "model = Sequential([\n",
    "    Embedding(input_dim=vocab_size+1, output_dim=32, input_length=max_len),\n",
    "    LSTM(256),\n",
    "    Dense(1, activation='sigmoid')\n",
    "])\n",
    "model.summary()"
   ],
   "metadata": {
    "collapsed": false
   }
  },
  {
   "cell_type": "code",
   "execution_count": 593,
   "outputs": [
    {
     "name": "stdout",
     "output_type": "stream",
     "text": [
      "Epoch 1/20\n",
      "153/153 - 11s - loss: 0.6248 - accuracy: 0.6410 - val_loss: 0.4645 - val_accuracy: 0.7882 - 11s/epoch - 71ms/step\n",
      "Epoch 2/20\n",
      "153/153 - 12s - loss: 0.3337 - accuracy: 0.8709 - val_loss: 0.4924 - val_accuracy: 0.7627 - 12s/epoch - 75ms/step\n",
      "Epoch 3/20\n",
      "153/153 - 11s - loss: 0.1703 - accuracy: 0.9468 - val_loss: 0.6171 - val_accuracy: 0.7430 - 11s/epoch - 73ms/step\n",
      "Epoch 4/20\n",
      "153/153 - 10s - loss: 0.1068 - accuracy: 0.9682 - val_loss: 0.7865 - val_accuracy: 0.7406 - 10s/epoch - 65ms/step\n",
      "Epoch 5/20\n",
      "153/153 - 10s - loss: 0.0780 - accuracy: 0.9793 - val_loss: 0.7231 - val_accuracy: 0.7373 - 10s/epoch - 64ms/step\n",
      "Epoch 6/20\n",
      "153/153 - 10s - loss: 0.0669 - accuracy: 0.9811 - val_loss: 0.8005 - val_accuracy: 0.7315 - 10s/epoch - 65ms/step\n",
      "Epoch 7/20\n",
      "153/153 - 10s - loss: 0.0586 - accuracy: 0.9815 - val_loss: 0.5734 - val_accuracy: 0.7627 - 10s/epoch - 64ms/step\n",
      "Epoch 8/20\n",
      "153/153 - 10s - loss: 0.0543 - accuracy: 0.9819 - val_loss: 0.9349 - val_accuracy: 0.7299 - 10s/epoch - 64ms/step\n",
      "Epoch 9/20\n",
      "153/153 - 10s - loss: 0.0408 - accuracy: 0.9823 - val_loss: 1.4897 - val_accuracy: 0.6609 - 10s/epoch - 64ms/step\n",
      "Epoch 10/20\n",
      "153/153 - 10s - loss: 0.0434 - accuracy: 0.9830 - val_loss: 0.8086 - val_accuracy: 0.7397 - 10s/epoch - 63ms/step\n",
      "Epoch 11/20\n",
      "153/153 - 10s - loss: 0.0352 - accuracy: 0.9852 - val_loss: 0.8301 - val_accuracy: 0.7348 - 10s/epoch - 64ms/step\n",
      "Epoch 12/20\n",
      "153/153 - 10s - loss: 0.0323 - accuracy: 0.9862 - val_loss: 1.1187 - val_accuracy: 0.7028 - 10s/epoch - 63ms/step\n",
      "Epoch 13/20\n",
      "153/153 - 10s - loss: 0.0265 - accuracy: 0.9875 - val_loss: 1.4707 - val_accuracy: 0.6987 - 10s/epoch - 63ms/step\n",
      "Epoch 14/20\n",
      "153/153 - 10s - loss: 0.0244 - accuracy: 0.9867 - val_loss: 1.6061 - val_accuracy: 0.7250 - 10s/epoch - 63ms/step\n",
      "Epoch 15/20\n",
      "153/153 - 12s - loss: 0.0297 - accuracy: 0.9883 - val_loss: 1.2868 - val_accuracy: 0.7143 - 12s/epoch - 77ms/step\n",
      "Epoch 16/20\n",
      "153/153 - 10s - loss: 0.0264 - accuracy: 0.9877 - val_loss: 1.0761 - val_accuracy: 0.7389 - 10s/epoch - 68ms/step\n",
      "Epoch 17/20\n",
      "153/153 - 10s - loss: 0.0246 - accuracy: 0.9873 - val_loss: 1.5851 - val_accuracy: 0.6847 - 10s/epoch - 66ms/step\n",
      "Epoch 18/20\n",
      "153/153 - 10s - loss: 0.0238 - accuracy: 0.9873 - val_loss: 1.5178 - val_accuracy: 0.7282 - 10s/epoch - 64ms/step\n",
      "Epoch 19/20\n",
      "153/153 - 10s - loss: 0.0277 - accuracy: 0.9879 - val_loss: 1.6439 - val_accuracy: 0.7118 - 10s/epoch - 64ms/step\n",
      "Epoch 20/20\n",
      "153/153 - 10s - loss: 0.0255 - accuracy: 0.9893 - val_loss: 1.2752 - val_accuracy: 0.7184 - 10s/epoch - 66ms/step\n"
     ]
    }
   ],
   "source": [
    "loss = BinaryCrossentropy(from_logits=False)\n",
    "optim = Adam(learning_rate=0.001)\n",
    "metrics = ['accuracy']\n",
    "model.compile(loss=loss, optimizer=optim, metrics=metrics)\n",
    "history = model.fit(train_padded, y_train, epochs=20, validation_data=(val_padded, y_val),verbose=3)"
   ],
   "metadata": {
    "collapsed": false
   }
  },
  {
   "cell_type": "code",
   "execution_count": 594,
   "outputs": [],
   "source": [
    "import matplotlib.pyplot as plt"
   ],
   "metadata": {
    "collapsed": false
   }
  },
  {
   "cell_type": "code",
   "execution_count": 595,
   "outputs": [
    {
     "data": {
      "text/plain": "<Figure size 1500x500 with 2 Axes>",
      "image/png": "[encoded data removed]"
     },
     "metadata": {},
     "output_type": "display_data"
    }
   ],
   "source": [
    "fig, (ax1, ax2) = plt.subplots(1, 2, figsize=(15, 5))\n",
    "ax1.plot(history.history['accuracy'])\n",
    "ax1.plot(history.history['val_accuracy'])\n",
    "ax1.set_title('Model Accuracy')\n",
    "ax1.set_ylabel('Accuracy')\n",
    "ax1.set_xlabel('Epoch')\n",
    "ax1.legend(['Train', 'Validation'], loc='upper left')\n",
    "\n",
    "ax2.plot(history.history['loss'])\n",
    "ax2.plot(history.history['val_loss'])\n",
    "ax2.set_title('Model Loss')\n",
    "ax2.set_ylabel('Loss')\n",
    "ax2.set_xlabel('Epoch')\n",
    "ax2.legend(['Train', 'Validation'], loc='upper left')\n",
    "plt.show()"
   ],
   "metadata": {
    "collapsed": false
   }
  },
  {
   "cell_type": "markdown",
   "source": [
    "### Predictions"
   ],
   "metadata": {
    "collapsed": false
   }
  },
  {
   "cell_type": "code",
   "execution_count": 596,
   "outputs": [],
   "source": [
    "test_sequences = tokenizer.texts_to_sequences(X_test)\n",
    "test_padded = pad_sequences(test_sequences, maxlen=max_len, padding='post', truncating='post')"
   ],
   "metadata": {
    "collapsed": false
   }
  },
  {
   "cell_type": "code",
   "execution_count": 597,
   "outputs": [],
   "source": [
    "index_word = nlp_utils.index2word(word_index)"
   ],
   "metadata": {
    "collapsed": false
   }
  },
  {
   "cell_type": "code",
   "execution_count": 598,
   "outputs": [
    {
     "name": "stdout",
     "output_type": "stream",
     "text": [
      "48/48 [==============================] - 2s 24ms/step\n"
     ]
    }
   ],
   "source": [
    "pred_prob = model.predict(test_padded)"
   ],
   "metadata": {
    "collapsed": false
   }
  },
  {
   "cell_type": "code",
   "execution_count": 599,
   "outputs": [
    {
     "data": {
      "text/plain": "(1523, 1)"
     },
     "execution_count": 599,
     "metadata": {},
     "output_type": "execute_result"
    }
   ],
   "source": [
    "pred_prob.shape\n",
    "# TODO: peguntar diff entre return_sequences True e false\n",
    "# com relação ao shape do pred_prob"
   ],
   "metadata": {
    "collapsed": false
   }
  },
  {
   "cell_type": "code",
   "execution_count": 600,
   "outputs": [],
   "source": [
    "y_pred = [1 if p > 0.5 else 0 for p in pred_prob]"
   ],
   "metadata": {
    "collapsed": false
   }
  },
  {
   "cell_type": "code",
   "execution_count": 601,
   "outputs": [
    {
     "data": {
      "text/plain": "                                               sequence  \\\n0                                 [8, 165, 230, 1, 317]   \n1        [1, 273, 1, 31, 1, 257, 38, 1, 1, 2783, 10664]   \n2         [1, 1, 52, 1, 5323, 11508, 37, 4342, 1, 1, 1]   \n3     [749, 27, 72, 1680, 109, 59, 305, 134, 409, 45...   \n4       [1153, 291, 496, 1, 8505, 1, 659, 12, 1, 1, 41]   \n...                                                 ...   \n1518                              [1, 1, 260, 44, 2984]   \n1519  [992, 226, 993, 762, 892, 1102, 534, 757, 7, 9...   \n1520           [29, 298, 94, 23, 159, 1, 4052, 1, 7, 1]   \n1521  [5242, 422, 173, 3277, 864, 444, 1157, 5243, 1...   \n1522     [109, 772, 1, 6942, 27, 3856, 1, 3857, 293, 1]   \n\n                                                 X_test  \\\n0             new weapon cause unimaginable destruction   \n1     famping things gishwhes got soaked deluge goin...   \n2     dt georgegalloway rt galloway4mayor ûïthe col...   \n3     aftershock back school kick great want thank e...   \n4     response trauma children addicts develop defen...   \n...                                                 ...   \n1518                    smusx16475 skype crashed u host   \n1519  christian attacked muslims temple mount waving...   \n1520  man charged fatal crash near dubbo refused bai...   \n1521  usnwsgov severe weather statement issued augus...   \n1522  great british ltbgtbakeltbgt offs back dorrets...   \n\n                                               seq2text  y_pred  y_true  \n0              [new, weapon, cause, <OOV>, destruction]       0       1  \n1     [<OOV>, things, <OOV>, got, <OOV>, deluge, goi...       1       0  \n2     [<OOV>, <OOV>, rt, <OOV>, ûïthe, col, police,...       1       1  \n3     [aftershock, back, school, kick, great, want, ...       0       0  \n4     [response, trauma, children, <OOV>, develop, <...       1       0  \n...                                                 ...     ...     ...  \n1518                   [<OOV>, <OOV>, crashed, u, host]       0       0  \n1519  [christian, attacked, muslims, temple, mount, ...       1       1  \n1520  [man, charged, fatal, crash, near, <OOV>, refu...       1       1  \n1521  [usnwsgov, severe, weather, statement, issued,...       1       1  \n1522  [great, british, <OOV>, offs, back, dorrets, <...       1       0  \n\n[1523 rows x 5 columns]",
      "text/html": "<div>\n<style scoped>\n    .dataframe tbody tr th:only-of-type {\n        vertical-align: middle;\n    }\n\n    .dataframe tbody tr th {\n        vertical-align: top;\n    }\n\n    .dataframe thead th {\n        text-align: right;\n    }\n</style>\n<table border=\"1\" class=\"dataframe\">\n  <thead>\n    <tr style=\"text-align: right;\">\n      <th></th>\n      <th>sequence</th>\n      <th>X_test</th>\n      <th>seq2text</th>\n      <th>y_pred</th>\n      <th>y_true</th>\n    </tr>\n  </thead>\n  <tbody>\n    <tr>\n      <th>0</th>\n      <td>[8, 165, 230, 1, 317]</td>\n      <td>new weapon cause unimaginable destruction</td>\n      <td>[new, weapon, cause, &lt;OOV&gt;, destruction]</td>\n      <td>0</td>\n      <td>1</td>\n    </tr>\n    <tr>\n      <th>1</th>\n      <td>[1, 273, 1, 31, 1, 257, 38, 1, 1, 2783, 10664]</td>\n      <td>famping things gishwhes got soaked deluge goin...</td>\n      <td>[&lt;OOV&gt;, things, &lt;OOV&gt;, got, &lt;OOV&gt;, deluge, goi...</td>\n      <td>1</td>\n      <td>0</td>\n    </tr>\n    <tr>\n      <th>2</th>\n      <td>[1, 1, 52, 1, 5323, 11508, 37, 4342, 1, 1, 1]</td>\n      <td>dt georgegalloway rt galloway4mayor ûïthe col...</td>\n      <td>[&lt;OOV&gt;, &lt;OOV&gt;, rt, &lt;OOV&gt;, ûïthe, col, police,...</td>\n      <td>1</td>\n      <td>1</td>\n    </tr>\n    <tr>\n      <th>3</th>\n      <td>[749, 27, 72, 1680, 109, 59, 305, 134, 409, 45...</td>\n      <td>aftershock back school kick great want thank e...</td>\n      <td>[aftershock, back, school, kick, great, want, ...</td>\n      <td>0</td>\n      <td>0</td>\n    </tr>\n    <tr>\n      <th>4</th>\n      <td>[1153, 291, 496, 1, 8505, 1, 659, 12, 1, 1, 41]</td>\n      <td>response trauma children addicts develop defen...</td>\n      <td>[response, trauma, children, &lt;OOV&gt;, develop, &lt;...</td>\n      <td>1</td>\n      <td>0</td>\n    </tr>\n    <tr>\n      <th>...</th>\n      <td>...</td>\n      <td>...</td>\n      <td>...</td>\n      <td>...</td>\n      <td>...</td>\n    </tr>\n    <tr>\n      <th>1518</th>\n      <td>[1, 1, 260, 44, 2984]</td>\n      <td>smusx16475 skype crashed u host</td>\n      <td>[&lt;OOV&gt;, &lt;OOV&gt;, crashed, u, host]</td>\n      <td>0</td>\n      <td>0</td>\n    </tr>\n    <tr>\n      <th>1519</th>\n      <td>[992, 226, 993, 762, 892, 1102, 534, 757, 7, 9...</td>\n      <td>christian attacked muslims temple mount waving...</td>\n      <td>[christian, attacked, muslims, temple, mount, ...</td>\n      <td>1</td>\n      <td>1</td>\n    </tr>\n    <tr>\n      <th>1520</th>\n      <td>[29, 298, 94, 23, 159, 1, 4052, 1, 7, 1]</td>\n      <td>man charged fatal crash near dubbo refused bai...</td>\n      <td>[man, charged, fatal, crash, near, &lt;OOV&gt;, refu...</td>\n      <td>1</td>\n      <td>1</td>\n    </tr>\n    <tr>\n      <th>1521</th>\n      <td>[5242, 422, 173, 3277, 864, 444, 1157, 5243, 1...</td>\n      <td>usnwsgov severe weather statement issued augus...</td>\n      <td>[usnwsgov, severe, weather, statement, issued,...</td>\n      <td>1</td>\n      <td>1</td>\n    </tr>\n    <tr>\n      <th>1522</th>\n      <td>[109, 772, 1, 6942, 27, 3856, 1, 3857, 293, 1]</td>\n      <td>great british ltbgtbakeltbgt offs back dorrets...</td>\n      <td>[great, british, &lt;OOV&gt;, offs, back, dorrets, &lt;...</td>\n      <td>1</td>\n      <td>0</td>\n    </tr>\n  </tbody>\n</table>\n<p>1523 rows × 5 columns</p>\n</div>"
     },
     "execution_count": 601,
     "metadata": {},
     "output_type": "execute_result"
    }
   ],
   "source": [
    "df_results = pd.DataFrame()\n",
    "X_test = list(X_test)\n",
    "y_test = list(y_test)\n",
    "df_results['sequence'] = test_sequences\n",
    "df_results['X_test'] = X_test\n",
    "df_results['seq2text'] = df_results['sequence'].apply(lambda x: nlp_utils.seq2text(x, index_word))\n",
    "df_results['y_pred'] = y_pred\n",
    "df_results['y_true'] = y_test\n",
    "df_results"
   ],
   "metadata": {
    "collapsed": false
   }
  },
  {
   "cell_type": "markdown",
   "source": [
    "### Evaluating Model"
   ],
   "metadata": {
    "collapsed": false
   }
  },
  {
   "cell_type": "code",
   "execution_count": 602,
   "outputs": [],
   "source": [
    "from sklearn.metrics import accuracy_score, precision_score, recall_score, f1_score, confusion_matrix, classification_report\n",
    "import matplotlib.pyplot as plt\n",
    "import seaborn as sns"
   ],
   "metadata": {
    "collapsed": false
   }
  },
  {
   "cell_type": "code",
   "execution_count": 603,
   "outputs": [],
   "source": [
    "accuracy = accuracy_score(y_test,y_pred)\n",
    "precision = precision_score(y_test,y_pred)\n",
    "recall = recall_score(y_test,y_pred)\n",
    "f1score = f1_score(y_test,y_pred)\n",
    "cm = confusion_matrix(y_test,y_pred)\n"
   ],
   "metadata": {
    "collapsed": false
   }
  },
  {
   "cell_type": "code",
   "execution_count": 604,
   "outputs": [],
   "source": [
    "def show_confusion_matrix(cm):\n",
    "        print(\"Confusion Matrix\")\n",
    "        plt.figure(figsize=(10, 7))\n",
    "\n",
    "        sns.heatmap(cm, annot=True, fmt='d', cmap='Blues', xticklabels=['Negative', 'Positive'],\n",
    "                    yticklabels=['Negative', 'Positive'])\n",
    "        plt.xlabel('Predicted')\n",
    "        plt.ylabel('Truth')\n",
    "        plt.title('Confusion Matrix')\n",
    "        plt.show()"
   ],
   "metadata": {
    "collapsed": false
   }
  },
  {
   "cell_type": "code",
   "execution_count": 605,
   "outputs": [
    {
     "name": "stdout",
     "output_type": "stream",
     "text": [
      "              precision    recall  f1-score   support\n",
      "\n",
      "           0       0.80      0.64      0.71       874\n",
      "           1       0.62      0.78      0.69       649\n",
      "\n",
      "    accuracy                           0.70      1523\n",
      "   macro avg       0.71      0.71      0.70      1523\n",
      "weighted avg       0.72      0.70      0.70      1523\n",
      "\n",
      "Confusion Matrix\n"
     ]
    },
    {
     "data": {
      "text/plain": "<Figure size 1000x700 with 2 Axes>",
      "image/png": "[encoded data removed]"
     },
     "metadata": {},
     "output_type": "display_data"
    }
   ],
   "source": [
    "print(classification_report(y_test,y_pred))\n",
    "show_confusion_matrix(cm)"
   ],
   "metadata": {
    "collapsed": false
   }
  },
  {
   "cell_type": "code",
   "execution_count": 606,
   "outputs": [],
   "source": [
    "# pattern = re.compile(r'https?://\\S+|www\\.\\S+')\n",
    "# for t in df_train.text:\n",
    "#     matches = pattern.findall(t)\n",
    "#     for match in matches:\n",
    "#         print(t)\n",
    "#         print(match)\n",
    "#         print(pattern.sub())\n"
   ],
   "metadata": {
    "collapsed": false
   }
  }
 ],
 "metadata": {
  "kernelspec": {
   "display_name": "Python 3",
   "language": "python",
   "name": "python3"
  },
  "language_info": {
   "codemirror_mode": {
    "name": "ipython",
    "version": 2
   },
   "file_extension": ".py",
   "mimetype": "text/x-python",
   "name": "python",
   "nbconvert_exporter": "python",
   "pygments_lexer": "ipython2",
   "version": "2.7.6"
  }
 },
 "nbformat": 4,
 "nbformat_minor": 0
}
