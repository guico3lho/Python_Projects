{
 "cells": [
  {
   "cell_type": "markdown",
   "source": [
    "### Imports"
   ],
   "metadata": {
    "collapsed": false,
    "pycharm": {
     "name": "#%% md\n"
    }
   }
  },
  {
   "cell_type": "code",
   "execution_count": 88,
   "outputs": [],
   "source": [
    "import keras.losses\n",
    "import pandas as pd\n",
    "import os"
   ],
   "metadata": {
    "collapsed": false,
    "pycharm": {
     "name": "#%%\n"
    }
   }
  },
  {
   "cell_type": "code",
   "execution_count": 89,
   "outputs": [
    {
     "data": {
      "text/plain": "<module 'My_PythonPackage.nlp_utils' from 'C:\\\\Users\\\\Guilherme\\\\Documents\\\\Programming\\\\Python\\\\Python_Projects\\\\My_PythonPackage\\\\nlp_utils.py'>"
     },
     "execution_count": 89,
     "metadata": {},
     "output_type": "execute_result"
    }
   ],
   "source": [
    "import importlib\n",
    "import My_PythonPackage.nlp_utils as nlp_utils\n",
    "importlib.reload(nlp_utils)"
   ],
   "metadata": {
    "collapsed": false,
    "pycharm": {
     "name": "#%%\n"
    }
   }
  },
  {
   "cell_type": "code",
   "execution_count": 90,
   "outputs": [
    {
     "data": {
      "text/plain": "'C:\\\\Users\\\\Guilherme\\\\Documents\\\\Programming\\\\Python\\\\Python_Projects\\\\DataScience\\\\NLP\\\\Text_classification'"
     },
     "execution_count": 90,
     "metadata": {},
     "output_type": "execute_result"
    }
   ],
   "source": [
    "os.getcwd()"
   ],
   "metadata": {
    "collapsed": false,
    "pycharm": {
     "name": "#%%\n"
    }
   }
  },
  {
   "cell_type": "markdown",
   "source": [],
   "metadata": {
    "collapsed": false,
    "pycharm": {
     "name": "#%% md\n"
    }
   }
  },
  {
   "cell_type": "markdown",
   "source": [
    "### Importing datasets"
   ],
   "metadata": {
    "collapsed": false,
    "pycharm": {
     "name": "#%% md\n"
    }
   }
  },
  {
   "cell_type": "code",
   "execution_count": 91,
   "outputs": [],
   "source": [
    "df_train_raw = pd.read_csv('../../Datasets/nlp-getting-started/train.csv')\n",
    "df_test_raw = pd.read_csv('../../Datasets/nlp-getting-started/test.csv')"
   ],
   "metadata": {
    "collapsed": false,
    "pycharm": {
     "name": "#%%\n"
    }
   }
  },
  {
   "cell_type": "code",
   "execution_count": 92,
   "outputs": [
    {
     "data": {
      "text/plain": "         id              keyword                        location  \\\n3115   4471         electrocuted                       Oblivion?   \n1872   2691                crush                             NaN   \n2375   3414               derail   Road to the Billionaires Club   \n7528  10766             wreckage                          Mumbai   \n2681   3845             detonate               Sydney, Australia   \n5003   7136             military                             NaN   \n1062   1533                 bomb                             wny   \n7466  10682               wounds                             NaN   \n960    1389           body%20bag                   Missouri, USA   \n5027   7168             mudslide                          London   \n7402  10590              wounded                   United States   \n5209   7439          obliterated                         leyland   \n973    1408           body%20bag                             NaN   \n6425   9187     suicide%20bomber                             NaN   \n2849   4095            displaced                      Palestine    \n1220   1759  buildings%20burning                    Savannah, GA   \n6548   9371             survived                        Pakistan   \n6086   8693              sinking                      Sacramento   \n3818   5426   first%20responders         Roads/Trails Everywhere   \n3661   5211             fatality                      Lowell, MA   \n\n                                                   text  target  \n3115  Just thought I'd let you all know...\\nIt's pro...       0  \n1872  Only had a crush on one girl in high school an...       0  \n2375  @TemecaFreeman GM! I pray any attack of the en...       1  \n7528  Wreckage 'Conclusively Confirmed' as From MH37...       1  \n2681  New music from @ApolloBrown featuring M.O.P.? ...       0  \n5003  Lot of 20 Tom Clancy Military Mystery Novels -...       0  \n1062  this is about to be a bomb ass firework pictur...       0  \n7466  Sorrower  - Fresh Wounds Over Old Scars  (2015...       1  \n960   Check out Ameribag Healthy Back Bag Shoulder C...       0  \n5027  #GBBO The difference between Paul and Mary my ...       0  \n7402  Gunmen open fire on bus near El Salvador's cap...       1  \n5209  Very glad that you got obliterated in X Men Fi...       0  \n973   New Women Handbag Faux Leather Ladies Shoulder...       0  \n6425  Suicide bomber kills 15 in Saudi security site...       1  \n2849  @cityofhummus @ILNewsFlash do you want to hear...       0  \n1220  Sinking ships burning buildings &amp; Falling ...       1  \n6548  How would I have survived without the mute opt...       0  \n6086  After a Few Years Afloat Pension Plans Start S...       1  \n3818  RT RoadID: Thanks to Alex for his story &amp; ...       0  \n3661  @EBROINTHEAM jay....big L....pun....biggie...w...       0  ",
      "text/html": "<div>\n<style scoped>\n    .dataframe tbody tr th:only-of-type {\n        vertical-align: middle;\n    }\n\n    .dataframe tbody tr th {\n        vertical-align: top;\n    }\n\n    .dataframe thead th {\n        text-align: right;\n    }\n</style>\n<table border=\"1\" class=\"dataframe\">\n  <thead>\n    <tr style=\"text-align: right;\">\n      <th></th>\n      <th>id</th>\n      <th>keyword</th>\n      <th>location</th>\n      <th>text</th>\n      <th>target</th>\n    </tr>\n  </thead>\n  <tbody>\n    <tr>\n      <th>3115</th>\n      <td>4471</td>\n      <td>electrocuted</td>\n      <td>Oblivion?</td>\n      <td>Just thought I'd let you all know...\\nIt's pro...</td>\n      <td>0</td>\n    </tr>\n    <tr>\n      <th>1872</th>\n      <td>2691</td>\n      <td>crush</td>\n      <td>NaN</td>\n      <td>Only had a crush on one girl in high school an...</td>\n      <td>0</td>\n    </tr>\n    <tr>\n      <th>2375</th>\n      <td>3414</td>\n      <td>derail</td>\n      <td>Road to the Billionaires Club</td>\n      <td>@TemecaFreeman GM! I pray any attack of the en...</td>\n      <td>1</td>\n    </tr>\n    <tr>\n      <th>7528</th>\n      <td>10766</td>\n      <td>wreckage</td>\n      <td>Mumbai</td>\n      <td>Wreckage 'Conclusively Confirmed' as From MH37...</td>\n      <td>1</td>\n    </tr>\n    <tr>\n      <th>2681</th>\n      <td>3845</td>\n      <td>detonate</td>\n      <td>Sydney, Australia</td>\n      <td>New music from @ApolloBrown featuring M.O.P.? ...</td>\n      <td>0</td>\n    </tr>\n    <tr>\n      <th>5003</th>\n      <td>7136</td>\n      <td>military</td>\n      <td>NaN</td>\n      <td>Lot of 20 Tom Clancy Military Mystery Novels -...</td>\n      <td>0</td>\n    </tr>\n    <tr>\n      <th>1062</th>\n      <td>1533</td>\n      <td>bomb</td>\n      <td>wny</td>\n      <td>this is about to be a bomb ass firework pictur...</td>\n      <td>0</td>\n    </tr>\n    <tr>\n      <th>7466</th>\n      <td>10682</td>\n      <td>wounds</td>\n      <td>NaN</td>\n      <td>Sorrower  - Fresh Wounds Over Old Scars  (2015...</td>\n      <td>1</td>\n    </tr>\n    <tr>\n      <th>960</th>\n      <td>1389</td>\n      <td>body%20bag</td>\n      <td>Missouri, USA</td>\n      <td>Check out Ameribag Healthy Back Bag Shoulder C...</td>\n      <td>0</td>\n    </tr>\n    <tr>\n      <th>5027</th>\n      <td>7168</td>\n      <td>mudslide</td>\n      <td>London</td>\n      <td>#GBBO The difference between Paul and Mary my ...</td>\n      <td>0</td>\n    </tr>\n    <tr>\n      <th>7402</th>\n      <td>10590</td>\n      <td>wounded</td>\n      <td>United States</td>\n      <td>Gunmen open fire on bus near El Salvador's cap...</td>\n      <td>1</td>\n    </tr>\n    <tr>\n      <th>5209</th>\n      <td>7439</td>\n      <td>obliterated</td>\n      <td>leyland</td>\n      <td>Very glad that you got obliterated in X Men Fi...</td>\n      <td>0</td>\n    </tr>\n    <tr>\n      <th>973</th>\n      <td>1408</td>\n      <td>body%20bag</td>\n      <td>NaN</td>\n      <td>New Women Handbag Faux Leather Ladies Shoulder...</td>\n      <td>0</td>\n    </tr>\n    <tr>\n      <th>6425</th>\n      <td>9187</td>\n      <td>suicide%20bomber</td>\n      <td>NaN</td>\n      <td>Suicide bomber kills 15 in Saudi security site...</td>\n      <td>1</td>\n    </tr>\n    <tr>\n      <th>2849</th>\n      <td>4095</td>\n      <td>displaced</td>\n      <td>Palestine</td>\n      <td>@cityofhummus @ILNewsFlash do you want to hear...</td>\n      <td>0</td>\n    </tr>\n    <tr>\n      <th>1220</th>\n      <td>1759</td>\n      <td>buildings%20burning</td>\n      <td>Savannah, GA</td>\n      <td>Sinking ships burning buildings &amp;amp; Falling ...</td>\n      <td>1</td>\n    </tr>\n    <tr>\n      <th>6548</th>\n      <td>9371</td>\n      <td>survived</td>\n      <td>Pakistan</td>\n      <td>How would I have survived without the mute opt...</td>\n      <td>0</td>\n    </tr>\n    <tr>\n      <th>6086</th>\n      <td>8693</td>\n      <td>sinking</td>\n      <td>Sacramento</td>\n      <td>After a Few Years Afloat Pension Plans Start S...</td>\n      <td>1</td>\n    </tr>\n    <tr>\n      <th>3818</th>\n      <td>5426</td>\n      <td>first%20responders</td>\n      <td>Roads/Trails Everywhere</td>\n      <td>RT RoadID: Thanks to Alex for his story &amp;amp; ...</td>\n      <td>0</td>\n    </tr>\n    <tr>\n      <th>3661</th>\n      <td>5211</td>\n      <td>fatality</td>\n      <td>Lowell, MA</td>\n      <td>@EBROINTHEAM jay....big L....pun....biggie...w...</td>\n      <td>0</td>\n    </tr>\n  </tbody>\n</table>\n</div>"
     },
     "execution_count": 92,
     "metadata": {},
     "output_type": "execute_result"
    }
   ],
   "source": [
    "df_train_raw.sample(20)"
   ],
   "metadata": {
    "collapsed": false,
    "pycharm": {
     "name": "#%%\n"
    }
   }
  },
  {
   "cell_type": "code",
   "execution_count": 93,
   "outputs": [
    {
     "name": "stdout",
     "output_type": "stream",
     "text": [
      "3271\n",
      "4342\n"
     ]
    }
   ],
   "source": [
    "print((df_train_raw.target == 1).sum())\n",
    "print((df_train_raw.target == 0).sum())"
   ],
   "metadata": {
    "collapsed": false,
    "pycharm": {
     "name": "#%%\n"
    }
   }
  },
  {
   "cell_type": "markdown",
   "source": [
    "### Data Preprocessing"
   ],
   "metadata": {
    "collapsed": false,
    "pycharm": {
     "name": "#%% md\n"
    }
   }
  },
  {
   "cell_type": "code",
   "execution_count": 94,
   "outputs": [],
   "source": [
    "import re\n",
    "import string\n",
    "\n",
    "def remove_URL(text):\n",
    "    url = re.compile(r'https?://\\S+|www\\.\\S+')\n",
    "    return url.sub(r'',text)\n",
    "\n",
    "def remove_punct(text):\n",
    "    table = str.maketrans('','',string.punctuation)\n",
    "    return text.translate(table)\n"
   ],
   "metadata": {
    "collapsed": false,
    "pycharm": {
     "name": "#%%\n"
    }
   }
  },
  {
   "cell_type": "code",
   "execution_count": 95,
   "outputs": [],
   "source": [
    "df_train = df_train_raw.copy()\n",
    "df_test = df_test_raw.copy()\n",
    "\n",
    "df_train['text'] = df_train['text'].map(lambda x: remove_URL(x))\n",
    "df_train['text'] = df_train['text'].map(lambda x: remove_punct(x))\n",
    "df_train['text'] = df_train['text'].map(lambda x: x.lower())"
   ],
   "metadata": {
    "collapsed": false,
    "pycharm": {
     "name": "#%%\n"
    }
   }
  },
  {
   "cell_type": "code",
   "execution_count": 96,
   "outputs": [
    {
     "data": {
      "text/plain": "         id keyword location  \\\n7593  10848     NaN      NaN   \n7594  10849     NaN      NaN   \n7595  10850     NaN      NaN   \n7596  10851     NaN      NaN   \n7597  10852     NaN      NaN   \n7598  10853     NaN      NaN   \n7599  10854     NaN      NaN   \n7600  10855     NaN      NaN   \n7601  10859     NaN      NaN   \n7602  10860     NaN      NaN   \n7603  10862     NaN      NaN   \n7604  10863     NaN      NaN   \n7605  10864     NaN      NaN   \n7606  10866     NaN      NaN   \n7607  10867     NaN      NaN   \n7608  10869     NaN      NaN   \n7609  10870     NaN      NaN   \n7610  10871     NaN      NaN   \n7611  10872     NaN      NaN   \n7612  10873     NaN      NaN   \n\n                                                   text  target  \n7593  i just heard a really loud bang and everyone i...       0  \n7594  a gas thing just exploded and i heard screams ...       1  \n7595  nws flash flood warning continued for shelby c...       1  \n7596  rt livingsafely nws issues severe thunderstorm...       1  \n7597      mh370 aircraft debris found on la reunion ...       1  \n7598  fatherofthree lost control of car after overta...       1  \n7599  13 earthquake in 9km ssw of anza california ip...       1  \n7600    evacuation order lifted for town of roosevelt         1  \n7601  breaking la refugio oil spill may have been co...       1  \n7602  a siren just went off and it wasnt the forney ...       1  \n7603  officials say a quarantine is in place at an a...       1  \n7604  worldnews fallen powerlines on glink tram upda...       1  \n7605  on the flip side im at walmart and there is a ...       1  \n7606  suicide bomber kills 15 in saudi security site...       1  \n7607  stormchase violent record breaking ef5 el reno...       1  \n7608  two giant cranes holding a bridge collapse int...       1  \n7609  ariaahrary thetawniest the out of control wild...       1  \n7610              m194 0104 utc5km s of volcano hawaii        1  \n7611  police investigating after an ebike collided w...       1  \n7612  the latest more homes razed by northern califo...       1  ",
      "text/html": "<div>\n<style scoped>\n    .dataframe tbody tr th:only-of-type {\n        vertical-align: middle;\n    }\n\n    .dataframe tbody tr th {\n        vertical-align: top;\n    }\n\n    .dataframe thead th {\n        text-align: right;\n    }\n</style>\n<table border=\"1\" class=\"dataframe\">\n  <thead>\n    <tr style=\"text-align: right;\">\n      <th></th>\n      <th>id</th>\n      <th>keyword</th>\n      <th>location</th>\n      <th>text</th>\n      <th>target</th>\n    </tr>\n  </thead>\n  <tbody>\n    <tr>\n      <th>7593</th>\n      <td>10848</td>\n      <td>NaN</td>\n      <td>NaN</td>\n      <td>i just heard a really loud bang and everyone i...</td>\n      <td>0</td>\n    </tr>\n    <tr>\n      <th>7594</th>\n      <td>10849</td>\n      <td>NaN</td>\n      <td>NaN</td>\n      <td>a gas thing just exploded and i heard screams ...</td>\n      <td>1</td>\n    </tr>\n    <tr>\n      <th>7595</th>\n      <td>10850</td>\n      <td>NaN</td>\n      <td>NaN</td>\n      <td>nws flash flood warning continued for shelby c...</td>\n      <td>1</td>\n    </tr>\n    <tr>\n      <th>7596</th>\n      <td>10851</td>\n      <td>NaN</td>\n      <td>NaN</td>\n      <td>rt livingsafely nws issues severe thunderstorm...</td>\n      <td>1</td>\n    </tr>\n    <tr>\n      <th>7597</th>\n      <td>10852</td>\n      <td>NaN</td>\n      <td>NaN</td>\n      <td>mh370 aircraft debris found on la reunion ...</td>\n      <td>1</td>\n    </tr>\n    <tr>\n      <th>7598</th>\n      <td>10853</td>\n      <td>NaN</td>\n      <td>NaN</td>\n      <td>fatherofthree lost control of car after overta...</td>\n      <td>1</td>\n    </tr>\n    <tr>\n      <th>7599</th>\n      <td>10854</td>\n      <td>NaN</td>\n      <td>NaN</td>\n      <td>13 earthquake in 9km ssw of anza california ip...</td>\n      <td>1</td>\n    </tr>\n    <tr>\n      <th>7600</th>\n      <td>10855</td>\n      <td>NaN</td>\n      <td>NaN</td>\n      <td>evacuation order lifted for town of roosevelt</td>\n      <td>1</td>\n    </tr>\n    <tr>\n      <th>7601</th>\n      <td>10859</td>\n      <td>NaN</td>\n      <td>NaN</td>\n      <td>breaking la refugio oil spill may have been co...</td>\n      <td>1</td>\n    </tr>\n    <tr>\n      <th>7602</th>\n      <td>10860</td>\n      <td>NaN</td>\n      <td>NaN</td>\n      <td>a siren just went off and it wasnt the forney ...</td>\n      <td>1</td>\n    </tr>\n    <tr>\n      <th>7603</th>\n      <td>10862</td>\n      <td>NaN</td>\n      <td>NaN</td>\n      <td>officials say a quarantine is in place at an a...</td>\n      <td>1</td>\n    </tr>\n    <tr>\n      <th>7604</th>\n      <td>10863</td>\n      <td>NaN</td>\n      <td>NaN</td>\n      <td>worldnews fallen powerlines on glink tram upda...</td>\n      <td>1</td>\n    </tr>\n    <tr>\n      <th>7605</th>\n      <td>10864</td>\n      <td>NaN</td>\n      <td>NaN</td>\n      <td>on the flip side im at walmart and there is a ...</td>\n      <td>1</td>\n    </tr>\n    <tr>\n      <th>7606</th>\n      <td>10866</td>\n      <td>NaN</td>\n      <td>NaN</td>\n      <td>suicide bomber kills 15 in saudi security site...</td>\n      <td>1</td>\n    </tr>\n    <tr>\n      <th>7607</th>\n      <td>10867</td>\n      <td>NaN</td>\n      <td>NaN</td>\n      <td>stormchase violent record breaking ef5 el reno...</td>\n      <td>1</td>\n    </tr>\n    <tr>\n      <th>7608</th>\n      <td>10869</td>\n      <td>NaN</td>\n      <td>NaN</td>\n      <td>two giant cranes holding a bridge collapse int...</td>\n      <td>1</td>\n    </tr>\n    <tr>\n      <th>7609</th>\n      <td>10870</td>\n      <td>NaN</td>\n      <td>NaN</td>\n      <td>ariaahrary thetawniest the out of control wild...</td>\n      <td>1</td>\n    </tr>\n    <tr>\n      <th>7610</th>\n      <td>10871</td>\n      <td>NaN</td>\n      <td>NaN</td>\n      <td>m194 0104 utc5km s of volcano hawaii</td>\n      <td>1</td>\n    </tr>\n    <tr>\n      <th>7611</th>\n      <td>10872</td>\n      <td>NaN</td>\n      <td>NaN</td>\n      <td>police investigating after an ebike collided w...</td>\n      <td>1</td>\n    </tr>\n    <tr>\n      <th>7612</th>\n      <td>10873</td>\n      <td>NaN</td>\n      <td>NaN</td>\n      <td>the latest more homes razed by northern califo...</td>\n      <td>1</td>\n    </tr>\n  </tbody>\n</table>\n</div>"
     },
     "execution_count": 96,
     "metadata": {},
     "output_type": "execute_result"
    }
   ],
   "source": [
    "df_train.tail(20)"
   ],
   "metadata": {
    "collapsed": false,
    "pycharm": {
     "name": "#%%\n"
    }
   }
  },
  {
   "cell_type": "markdown",
   "source": [],
   "metadata": {
    "collapsed": false,
    "pycharm": {
     "name": "#%% md\n"
    }
   }
  },
  {
   "cell_type": "code",
   "execution_count": 97,
   "outputs": [
    {
     "name": "stderr",
     "output_type": "stream",
     "text": [
      "[nltk_data] Downloading package stopwords to\n",
      "[nltk_data]     C:\\Users\\Guilherme\\AppData\\Roaming\\nltk_data...\n",
      "[nltk_data]   Package stopwords is already up-to-date!\n"
     ]
    }
   ],
   "source": [
    "stop_words = nlp_utils.usingStopwords('en')\n",
    "df_train['text'] = df_train['text'].map(lambda x: nlp_utils.removeStopwords(x,stop_words))"
   ],
   "metadata": {
    "collapsed": false,
    "pycharm": {
     "name": "#%%\n"
    }
   }
  },
  {
   "cell_type": "code",
   "execution_count": 98,
   "outputs": [
    {
     "data": {
      "text/plain": "         id keyword location  \\\n7593  10848     NaN      NaN   \n7594  10849     NaN      NaN   \n7595  10850     NaN      NaN   \n7596  10851     NaN      NaN   \n7597  10852     NaN      NaN   \n7598  10853     NaN      NaN   \n7599  10854     NaN      NaN   \n7600  10855     NaN      NaN   \n7601  10859     NaN      NaN   \n7602  10860     NaN      NaN   \n7603  10862     NaN      NaN   \n7604  10863     NaN      NaN   \n7605  10864     NaN      NaN   \n7606  10866     NaN      NaN   \n7607  10867     NaN      NaN   \n7608  10869     NaN      NaN   \n7609  10870     NaN      NaN   \n7610  10871     NaN      NaN   \n7611  10872     NaN      NaN   \n7612  10873     NaN      NaN   \n\n                                                   text  target  \n7593       heard really loud bang everyone asleep great       0  \n7594  gas thing exploded heard screams whole street ...       1  \n7595  nws flash flood warning continued shelby count...       1  \n7596  rt livingsafely nws issues severe thunderstorm...       1  \n7597  mh370 aircraft debris found la reunion missing...       1  \n7598  fatherofthree lost control car overtaking coll...       1  \n7599  13 earthquake 9km ssw anza california iphone u...       1  \n7600             evacuation order lifted town roosevelt       1  \n7601  breaking la refugio oil spill may costlier big...       1  \n7602            siren went wasnt forney tornado warning       1  \n7603  officials say quarantine place alabama home po...       1  \n7604  worldnews fallen powerlines glink tram update ...       1  \n7605  flip side im walmart bomb everyone evacuate st...       1  \n7606  suicide bomber kills 15 saudi security site mo...       1  \n7607  stormchase violent record breaking ef5 el reno...       1  \n7608  two giant cranes holding bridge collapse nearb...       1  \n7609  ariaahrary thetawniest control wild fires cali...       1  \n7610                    m194 0104 utc5km volcano hawaii       1  \n7611  police investigating ebike collided car little...       1  \n7612  latest homes razed northern california wildfir...       1  ",
      "text/html": "<div>\n<style scoped>\n    .dataframe tbody tr th:only-of-type {\n        vertical-align: middle;\n    }\n\n    .dataframe tbody tr th {\n        vertical-align: top;\n    }\n\n    .dataframe thead th {\n        text-align: right;\n    }\n</style>\n<table border=\"1\" class=\"dataframe\">\n  <thead>\n    <tr style=\"text-align: right;\">\n      <th></th>\n      <th>id</th>\n      <th>keyword</th>\n      <th>location</th>\n      <th>text</th>\n      <th>target</th>\n    </tr>\n  </thead>\n  <tbody>\n    <tr>\n      <th>7593</th>\n      <td>10848</td>\n      <td>NaN</td>\n      <td>NaN</td>\n      <td>heard really loud bang everyone asleep great</td>\n      <td>0</td>\n    </tr>\n    <tr>\n      <th>7594</th>\n      <td>10849</td>\n      <td>NaN</td>\n      <td>NaN</td>\n      <td>gas thing exploded heard screams whole street ...</td>\n      <td>1</td>\n    </tr>\n    <tr>\n      <th>7595</th>\n      <td>10850</td>\n      <td>NaN</td>\n      <td>NaN</td>\n      <td>nws flash flood warning continued shelby count...</td>\n      <td>1</td>\n    </tr>\n    <tr>\n      <th>7596</th>\n      <td>10851</td>\n      <td>NaN</td>\n      <td>NaN</td>\n      <td>rt livingsafely nws issues severe thunderstorm...</td>\n      <td>1</td>\n    </tr>\n    <tr>\n      <th>7597</th>\n      <td>10852</td>\n      <td>NaN</td>\n      <td>NaN</td>\n      <td>mh370 aircraft debris found la reunion missing...</td>\n      <td>1</td>\n    </tr>\n    <tr>\n      <th>7598</th>\n      <td>10853</td>\n      <td>NaN</td>\n      <td>NaN</td>\n      <td>fatherofthree lost control car overtaking coll...</td>\n      <td>1</td>\n    </tr>\n    <tr>\n      <th>7599</th>\n      <td>10854</td>\n      <td>NaN</td>\n      <td>NaN</td>\n      <td>13 earthquake 9km ssw anza california iphone u...</td>\n      <td>1</td>\n    </tr>\n    <tr>\n      <th>7600</th>\n      <td>10855</td>\n      <td>NaN</td>\n      <td>NaN</td>\n      <td>evacuation order lifted town roosevelt</td>\n      <td>1</td>\n    </tr>\n    <tr>\n      <th>7601</th>\n      <td>10859</td>\n      <td>NaN</td>\n      <td>NaN</td>\n      <td>breaking la refugio oil spill may costlier big...</td>\n      <td>1</td>\n    </tr>\n    <tr>\n      <th>7602</th>\n      <td>10860</td>\n      <td>NaN</td>\n      <td>NaN</td>\n      <td>siren went wasnt forney tornado warning</td>\n      <td>1</td>\n    </tr>\n    <tr>\n      <th>7603</th>\n      <td>10862</td>\n      <td>NaN</td>\n      <td>NaN</td>\n      <td>officials say quarantine place alabama home po...</td>\n      <td>1</td>\n    </tr>\n    <tr>\n      <th>7604</th>\n      <td>10863</td>\n      <td>NaN</td>\n      <td>NaN</td>\n      <td>worldnews fallen powerlines glink tram update ...</td>\n      <td>1</td>\n    </tr>\n    <tr>\n      <th>7605</th>\n      <td>10864</td>\n      <td>NaN</td>\n      <td>NaN</td>\n      <td>flip side im walmart bomb everyone evacuate st...</td>\n      <td>1</td>\n    </tr>\n    <tr>\n      <th>7606</th>\n      <td>10866</td>\n      <td>NaN</td>\n      <td>NaN</td>\n      <td>suicide bomber kills 15 saudi security site mo...</td>\n      <td>1</td>\n    </tr>\n    <tr>\n      <th>7607</th>\n      <td>10867</td>\n      <td>NaN</td>\n      <td>NaN</td>\n      <td>stormchase violent record breaking ef5 el reno...</td>\n      <td>1</td>\n    </tr>\n    <tr>\n      <th>7608</th>\n      <td>10869</td>\n      <td>NaN</td>\n      <td>NaN</td>\n      <td>two giant cranes holding bridge collapse nearb...</td>\n      <td>1</td>\n    </tr>\n    <tr>\n      <th>7609</th>\n      <td>10870</td>\n      <td>NaN</td>\n      <td>NaN</td>\n      <td>ariaahrary thetawniest control wild fires cali...</td>\n      <td>1</td>\n    </tr>\n    <tr>\n      <th>7610</th>\n      <td>10871</td>\n      <td>NaN</td>\n      <td>NaN</td>\n      <td>m194 0104 utc5km volcano hawaii</td>\n      <td>1</td>\n    </tr>\n    <tr>\n      <th>7611</th>\n      <td>10872</td>\n      <td>NaN</td>\n      <td>NaN</td>\n      <td>police investigating ebike collided car little...</td>\n      <td>1</td>\n    </tr>\n    <tr>\n      <th>7612</th>\n      <td>10873</td>\n      <td>NaN</td>\n      <td>NaN</td>\n      <td>latest homes razed northern california wildfir...</td>\n      <td>1</td>\n    </tr>\n  </tbody>\n</table>\n</div>"
     },
     "execution_count": 98,
     "metadata": {},
     "output_type": "execute_result"
    }
   ],
   "source": [
    "df_train.tail(20)"
   ],
   "metadata": {
    "collapsed": false,
    "pycharm": {
     "name": "#%%\n"
    }
   }
  },
  {
   "cell_type": "markdown",
   "source": [],
   "metadata": {
    "collapsed": false,
    "pycharm": {
     "name": "#%% md\n"
    }
   }
  },
  {
   "cell_type": "markdown",
   "source": [
    "### Selecting variables for model"
   ],
   "metadata": {
    "collapsed": false,
    "pycharm": {
     "name": "#%% md\n"
    }
   }
  },
  {
   "cell_type": "code",
   "execution_count": 99,
   "outputs": [],
   "source": [
    "X = df_train.text\n",
    "y = df_train.target"
   ],
   "metadata": {
    "collapsed": false,
    "pycharm": {
     "name": "#%%\n"
    }
   }
  },
  {
   "cell_type": "markdown",
   "source": [
    "### Splitting data into train and test"
   ],
   "metadata": {
    "collapsed": false,
    "pycharm": {
     "name": "#%% md\n"
    }
   }
  },
  {
   "cell_type": "code",
   "execution_count": 100,
   "outputs": [],
   "source": [
    "from sklearn.model_selection import train_test_split\n",
    "X_train, X_val, y_train, y_val = train_test_split(X, y, train_size=0.8, random_state=42)\n"
   ],
   "metadata": {
    "collapsed": false,
    "pycharm": {
     "name": "#%%\n"
    }
   }
  },
  {
   "cell_type": "code",
   "execution_count": 100,
   "outputs": [],
   "source": [],
   "metadata": {
    "collapsed": false,
    "pycharm": {
     "name": "#%%\n"
    }
   }
  },
  {
   "cell_type": "markdown",
   "source": [
    "### Vocabulary"
   ],
   "metadata": {
    "collapsed": false,
    "pycharm": {
     "name": "#%% md\n"
    }
   }
  },
  {
   "cell_type": "code",
   "execution_count": 101,
   "outputs": [
    {
     "data": {
      "text/plain": "17971"
     },
     "execution_count": 101,
     "metadata": {},
     "output_type": "execute_result"
    }
   ],
   "source": [
    "tokens = []\n",
    "termos = {}\n",
    "for text in X:\n",
    "    for token in text.split():\n",
    "        tokens.append(token)\n",
    "        if token in termos:\n",
    "            termos[token] += 1\n",
    "        else:\n",
    "            termos[token] = 1\n",
    "vocab_size = len(termos)\n",
    "vocab_size"
   ],
   "metadata": {
    "collapsed": false,
    "pycharm": {
     "name": "#%%\n"
    }
   }
  },
  {
   "cell_type": "code",
   "execution_count": 102,
   "outputs": [
    {
     "data": {
      "text/plain": "[('like', 345), ('im', 299), ('amp', 298), ('fire', 250), ('get', 229)]"
     },
     "execution_count": 102,
     "metadata": {},
     "output_type": "execute_result"
    }
   ],
   "source": [
    "# get 5 words with highest frequency from termos\n",
    "sorted(termos.items(), key=lambda x: x[1], reverse=True)[:5]"
   ],
   "metadata": {
    "collapsed": false,
    "pycharm": {
     "name": "#%%\n"
    }
   }
  },
  {
   "cell_type": "markdown",
   "source": [
    "### Train Numericalização"
   ],
   "metadata": {
    "collapsed": false,
    "pycharm": {
     "name": "#%% md\n"
    }
   }
  },
  {
   "cell_type": "code",
   "execution_count": 103,
   "outputs": [],
   "source": [
    "from keras.preprocessing.text import Tokenizer\n",
    "from keras_preprocessing.sequence import pad_sequences"
   ],
   "metadata": {
    "collapsed": false,
    "pycharm": {
     "name": "#%%\n"
    }
   }
  },
  {
   "cell_type": "code",
   "execution_count": 104,
   "outputs": [],
   "source": [
    "tokenizer = Tokenizer(num_words=vocab_size)\n",
    "tokenizer.fit_on_texts(X_train)\n",
    "word2index = tokenizer.word_index\n",
    "train_sequences = tokenizer.texts_to_sequences(X_train)"
   ],
   "metadata": {
    "collapsed": false,
    "pycharm": {
     "name": "#%%\n"
    }
   }
  },
  {
   "cell_type": "code",
   "execution_count": 105,
   "outputs": [
    {
     "data": {
      "text/plain": "25"
     },
     "execution_count": 105,
     "metadata": {},
     "output_type": "execute_result"
    }
   ],
   "source": [
    "max_len = nlp_utils.findMaxLen(train_sequences)\n",
    "max_len"
   ],
   "metadata": {
    "collapsed": false,
    "pycharm": {
     "name": "#%%\n"
    }
   }
  },
  {
   "cell_type": "markdown",
   "source": [
    "### Train padding"
   ],
   "metadata": {
    "collapsed": false,
    "pycharm": {
     "name": "#%% md\n"
    }
   }
  },
  {
   "cell_type": "code",
   "execution_count": 106,
   "outputs": [],
   "source": [
    "train_padded = pad_sequences(train_sequences, maxlen=max_len, padding='post', truncating='post')"
   ],
   "metadata": {
    "collapsed": false,
    "pycharm": {
     "name": "#%%\n"
    }
   }
  },
  {
   "cell_type": "markdown",
   "source": [
    "### Validation Numericalization and Padding"
   ],
   "metadata": {
    "collapsed": false,
    "pycharm": {
     "name": "#%% md\n"
    }
   }
  },
  {
   "cell_type": "code",
   "execution_count": 107,
   "outputs": [],
   "source": [
    "val_sequences = tokenizer.texts_to_sequences(X_val)\n",
    "val_padded = pad_sequences(val_sequences, maxlen=max_len, padding='post', truncating='post')"
   ],
   "metadata": {
    "collapsed": false,
    "pycharm": {
     "name": "#%%\n"
    }
   }
  },
  {
   "cell_type": "code",
   "execution_count": 112,
   "outputs": [
    {
     "name": "stdout",
     "output_type": "stream",
     "text": [
      "[5625, 3710, 2254, 76, 339, 127, 50, 1908, 3711, 1016, 149, 3712, 3713]\n",
      "[5625 3710 2254   76  339  127   50 1908 3711 1016  149 3712 3713    0\n",
      "    0    0    0    0    0    0    0    0    0    0    0]\n"
     ]
    }
   ],
   "source": [
    "# print(X_train[0])\n",
    "print(train_sequences[0])\n",
    "print(train_padded[0])"
   ],
   "metadata": {
    "collapsed": false,
    "pycharm": {
     "name": "#%%\n"
    }
   }
  },
  {
   "cell_type": "markdown",
   "source": [
    "### RNN model"
   ],
   "metadata": {
    "collapsed": false,
    "pycharm": {
     "name": "#%% md\n"
    }
   }
  },
  {
   "cell_type": "code",
   "execution_count": 119,
   "outputs": [],
   "source": [
    "from keras.models import Sequential\n",
    "from keras.layers import Embedding, LSTM, Dense, Dropout, Bidirectional\n",
    "from keras.optimizers import Adam\n",
    "from keras.losses import BinaryCrossentropy\n"
   ],
   "metadata": {
    "collapsed": false,
    "pycharm": {
     "name": "#%%\n"
    }
   }
  },
  {
   "cell_type": "code",
   "execution_count": 117,
   "outputs": [
    {
     "name": "stdout",
     "output_type": "stream",
     "text": [
      "Model: \"sequential_1\"\n",
      "_________________________________________________________________\n",
      " Layer (type)                Output Shape              Param #   \n",
      "=================================================================\n",
      " embedding_1 (Embedding)     (None, 25, 32)            575072    \n",
      "                                                                 \n",
      " lstm_1 (LSTM)               (None, 64)                24832     \n",
      "                                                                 \n",
      " dense_1 (Dense)             (None, 1)                 65        \n",
      "                                                                 \n",
      "=================================================================\n",
      "Total params: 599,969\n",
      "Trainable params: 599,969\n",
      "Non-trainable params: 0\n",
      "_________________________________________________________________\n"
     ]
    }
   ],
   "source": [
    "model = Sequential([\n",
    "    Embedding(input_dim=vocab_size, output_dim=32, input_length=max_len),\n",
    "    LSTM(64, dropout=0.1),\n",
    "    Dense(1, activation='sigmoid')\n",
    "])\n",
    "model.summary()"
   ],
   "metadata": {
    "collapsed": false,
    "pycharm": {
     "name": "#%%\n"
    }
   }
  },
  {
   "cell_type": "code",
   "execution_count": null,
   "outputs": [
    {
     "name": "stdout",
     "output_type": "stream",
     "text": [
      "Epoch 1/20\n"
     ]
    }
   ],
   "source": [
    "loss = BinaryCrossentropy(from_logits=False)\n",
    "optim = Adam(learning_rate=0.001)\n",
    "metrics = ['accuracy']\n",
    "model.compile(loss=loss, optimizer=optim, metrics=metrics)\n",
    "model.fit(train_padded, y_train, epochs=20, validation_data=(val_padded, y_val),verbose=2)"
   ],
   "metadata": {
    "collapsed": false,
    "pycharm": {
     "name": "#%%\n",
     "is_executing": true
    }
   }
  },
  {
   "cell_type": "code",
   "execution_count": 109,
   "outputs": [],
   "source": [
    "# pattern = re.compile(r'https?://\\S+|www\\.\\S+')\n",
    "# for t in df_train.text:\n",
    "#     matches = pattern.findall(t)\n",
    "#     for match in matches:\n",
    "#         print(t)\n",
    "#         print(match)\n",
    "#         print(pattern.sub())\n"
   ],
   "metadata": {
    "collapsed": false,
    "pycharm": {
     "name": "#%%\n"
    }
   }
  }
 ],
 "metadata": {
  "kernelspec": {
   "display_name": "Python 3",
   "language": "python",
   "name": "python3"
  },
  "language_info": {
   "codemirror_mode": {
    "name": "ipython",
    "version": 2
   },
   "file_extension": ".py",
   "mimetype": "text/x-python",
   "name": "python",
   "nbconvert_exporter": "python",
   "pygments_lexer": "ipython2",
   "version": "2.7.6"
  }
 },
 "nbformat": 4,
 "nbformat_minor": 0
}