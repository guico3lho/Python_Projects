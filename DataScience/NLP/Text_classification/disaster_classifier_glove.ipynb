{
 "cells": [
  {
   "cell_type": "markdown",
   "source": [
    "### Imports"
   ],
   "metadata": {
    "collapsed": false
   }
  },
  {
   "cell_type": "code",
   "execution_count": null,
   "outputs": [],
   "source": [
    "import keras.losses\n",
    "import numpy as np\n",
    "import pandas as pd\n",
    "import os"
   ],
   "metadata": {
    "collapsed": false
   }
  },
  {
   "cell_type": "code",
   "execution_count": null,
   "outputs": [
    {
     "data": {
      "text/plain": "<module 'My_PythonPackage.nlp_utils' from 'C:\\\\Users\\\\guimi\\\\Documents\\\\Python_Projects\\\\My_PythonPackage\\\\nlp_utils.py'>"
     },
     "execution_count": 2,
     "metadata": {},
     "output_type": "execute_result"
    }
   ],
   "source": [
    "import importlib\n",
    "import My_PythonPackage.nlp_utils as nlp_utils\n",
    "importlib.reload(nlp_utils)"
   ],
   "metadata": {
    "collapsed": false
   }
  },
  {
   "cell_type": "markdown",
   "source": [
    "### Importing datasets"
   ],
   "metadata": {
    "collapsed": false
   }
  },
  {
   "cell_type": "code",
   "execution_count": null,
   "outputs": [],
   "source": [
    "df_train_raw = pd.read_csv('../../Datasets/nlp-getting-started/train.csv')\n",
    "df_test_raw = pd.read_csv('../../Datasets/nlp-getting-started/test.csv')"
   ],
   "metadata": {
    "collapsed": false
   }
  },
  {
   "cell_type": "code",
   "execution_count": null,
   "outputs": [
    {
     "data": {
      "text/plain": "         id       keyword                   location  \\\n3255   4677      engulfed              Rochester, NY   \n624     898  bioterrorism                        NaN   \n6786   9722       tragedy           Harper Woods, MI   \n12       18           NaN                        NaN   \n4796   6823   loud%20bang                      Kenya   \n7561  10810       wrecked                          6   \n5581   7963         razed                  Tulsa, OK   \n7232  10358       weapons                        NaN   \n6521   9325       survive    ? icon by @Hashiren_3 ?   \n2877   4135       drought              Rock Hill, SC   \n4608   6551        injury                     Lahore   \n5163   7362    obliterate                        EIC   \n7234  10360       weapons          N. California USA   \n3475   4970     explosion                        NaN   \n2100   3016         death                     The UK   \n6028   8615       seismic                        NaN   \n6637   9504     terrorist                        NaN   \n7395  10582     windstorm  Home is where we park it!   \n3440   4917      exploded                        NaN   \n2490   3575      desolate        the insane asylum.    \n\n                                                   text  target  \n3255  When Your Cake Is Engulfed In Flames #Literary...       0  \n624                          To fight bioterrorism sir.       0  \n6786  A real life tragedy:\\r\\nMonica's hair on any g...       0  \n12    #raining #flooding #Florida #TampaBay #Tampa 1...       1  \n4796  Jrowah: Breaking news! Unconfirmed! I just hea...       1  \n7561                      @Tunes_WGG lol. U got wrecked       0  \n5581  The Latest: More homes razed by Northern Calif...       1  \n7232  Ukraine argues for US weapons during Pelosi's ...       1  \n6521  @mochichiiiii @hikagezero IT'S IMPOSSIBLE FOR ...       0  \n2877  Large rain drops falling in Rock Hill off Ande...       0  \n4608  Live Cricket Score In All Match International\\...       0  \n5163  Watch Sarah Palin OBLITERATE Planned Parenthoo...       1  \n7234  Mere sight of a gun makes police ÛÒ and publi...       0  \n3475  Large explosion rocks aluminum plant in southe...       1  \n2100  I liked a @YouTube video from @jeromekem http:...       0  \n6028  #Sismo DETECTADO #JapÌ_n [Report 1] 01:01:56 O...       1  \n6637  Me pulling over and fighting the hoes that cal...       1  \n7395  @rangerkaitimay had major windstorm thunder an...       1  \n3440  Im Dead!!! My two Loves in 1 photo! My Heart e...       0  \n2490  @CorleoneDaBoss there isn't anything there its...       0  ",
      "text/html": "<div>\n<style scoped>\n    .dataframe tbody tr th:only-of-type {\n        vertical-align: middle;\n    }\n\n    .dataframe tbody tr th {\n        vertical-align: top;\n    }\n\n    .dataframe thead th {\n        text-align: right;\n    }\n</style>\n<table border=\"1\" class=\"dataframe\">\n  <thead>\n    <tr style=\"text-align: right;\">\n      <th></th>\n      <th>id</th>\n      <th>keyword</th>\n      <th>location</th>\n      <th>text</th>\n      <th>target</th>\n    </tr>\n  </thead>\n  <tbody>\n    <tr>\n      <th>3255</th>\n      <td>4677</td>\n      <td>engulfed</td>\n      <td>Rochester, NY</td>\n      <td>When Your Cake Is Engulfed In Flames #Literary...</td>\n      <td>0</td>\n    </tr>\n    <tr>\n      <th>624</th>\n      <td>898</td>\n      <td>bioterrorism</td>\n      <td>NaN</td>\n      <td>To fight bioterrorism sir.</td>\n      <td>0</td>\n    </tr>\n    <tr>\n      <th>6786</th>\n      <td>9722</td>\n      <td>tragedy</td>\n      <td>Harper Woods, MI</td>\n      <td>A real life tragedy:\\r\\nMonica's hair on any g...</td>\n      <td>0</td>\n    </tr>\n    <tr>\n      <th>12</th>\n      <td>18</td>\n      <td>NaN</td>\n      <td>NaN</td>\n      <td>#raining #flooding #Florida #TampaBay #Tampa 1...</td>\n      <td>1</td>\n    </tr>\n    <tr>\n      <th>4796</th>\n      <td>6823</td>\n      <td>loud%20bang</td>\n      <td>Kenya</td>\n      <td>Jrowah: Breaking news! Unconfirmed! I just hea...</td>\n      <td>1</td>\n    </tr>\n    <tr>\n      <th>7561</th>\n      <td>10810</td>\n      <td>wrecked</td>\n      <td>6</td>\n      <td>@Tunes_WGG lol. U got wrecked</td>\n      <td>0</td>\n    </tr>\n    <tr>\n      <th>5581</th>\n      <td>7963</td>\n      <td>razed</td>\n      <td>Tulsa, OK</td>\n      <td>The Latest: More homes razed by Northern Calif...</td>\n      <td>1</td>\n    </tr>\n    <tr>\n      <th>7232</th>\n      <td>10358</td>\n      <td>weapons</td>\n      <td>NaN</td>\n      <td>Ukraine argues for US weapons during Pelosi's ...</td>\n      <td>1</td>\n    </tr>\n    <tr>\n      <th>6521</th>\n      <td>9325</td>\n      <td>survive</td>\n      <td>? icon by @Hashiren_3 ?</td>\n      <td>@mochichiiiii @hikagezero IT'S IMPOSSIBLE FOR ...</td>\n      <td>0</td>\n    </tr>\n    <tr>\n      <th>2877</th>\n      <td>4135</td>\n      <td>drought</td>\n      <td>Rock Hill, SC</td>\n      <td>Large rain drops falling in Rock Hill off Ande...</td>\n      <td>0</td>\n    </tr>\n    <tr>\n      <th>4608</th>\n      <td>6551</td>\n      <td>injury</td>\n      <td>Lahore</td>\n      <td>Live Cricket Score In All Match International\\...</td>\n      <td>0</td>\n    </tr>\n    <tr>\n      <th>5163</th>\n      <td>7362</td>\n      <td>obliterate</td>\n      <td>EIC</td>\n      <td>Watch Sarah Palin OBLITERATE Planned Parenthoo...</td>\n      <td>1</td>\n    </tr>\n    <tr>\n      <th>7234</th>\n      <td>10360</td>\n      <td>weapons</td>\n      <td>N. California USA</td>\n      <td>Mere sight of a gun makes police ÛÒ and publi...</td>\n      <td>0</td>\n    </tr>\n    <tr>\n      <th>3475</th>\n      <td>4970</td>\n      <td>explosion</td>\n      <td>NaN</td>\n      <td>Large explosion rocks aluminum plant in southe...</td>\n      <td>1</td>\n    </tr>\n    <tr>\n      <th>2100</th>\n      <td>3016</td>\n      <td>death</td>\n      <td>The UK</td>\n      <td>I liked a @YouTube video from @jeromekem http:...</td>\n      <td>0</td>\n    </tr>\n    <tr>\n      <th>6028</th>\n      <td>8615</td>\n      <td>seismic</td>\n      <td>NaN</td>\n      <td>#Sismo DETECTADO #JapÌ_n [Report 1] 01:01:56 O...</td>\n      <td>1</td>\n    </tr>\n    <tr>\n      <th>6637</th>\n      <td>9504</td>\n      <td>terrorist</td>\n      <td>NaN</td>\n      <td>Me pulling over and fighting the hoes that cal...</td>\n      <td>1</td>\n    </tr>\n    <tr>\n      <th>7395</th>\n      <td>10582</td>\n      <td>windstorm</td>\n      <td>Home is where we park it!</td>\n      <td>@rangerkaitimay had major windstorm thunder an...</td>\n      <td>1</td>\n    </tr>\n    <tr>\n      <th>3440</th>\n      <td>4917</td>\n      <td>exploded</td>\n      <td>NaN</td>\n      <td>Im Dead!!! My two Loves in 1 photo! My Heart e...</td>\n      <td>0</td>\n    </tr>\n    <tr>\n      <th>2490</th>\n      <td>3575</td>\n      <td>desolate</td>\n      <td>the insane asylum.</td>\n      <td>@CorleoneDaBoss there isn't anything there its...</td>\n      <td>0</td>\n    </tr>\n  </tbody>\n</table>\n</div>"
     },
     "execution_count": 4,
     "metadata": {},
     "output_type": "execute_result"
    }
   ],
   "source": [
    "df_train_raw.sample(20)"
   ],
   "metadata": {
    "collapsed": false
   }
  },
  {
   "cell_type": "code",
   "execution_count": null,
   "outputs": [
    {
     "name": "stdout",
     "output_type": "stream",
     "text": [
      "3271\n",
      "4342\n"
     ]
    }
   ],
   "source": [
    "print((df_train_raw.target == 1).sum())\n",
    "print((df_train_raw.target == 0).sum())"
   ],
   "metadata": {
    "collapsed": false
   }
  },
  {
   "cell_type": "markdown",
   "source": [
    "### Data Preprocessing"
   ],
   "metadata": {
    "collapsed": false
   }
  },
  {
   "cell_type": "code",
   "execution_count": null,
   "outputs": [
    {
     "name": "stderr",
     "output_type": "stream",
     "text": [
      "[nltk_data] Downloading package stopwords to\n",
      "[nltk_data]     C:\\Users\\guimi\\AppData\\Roaming\\nltk_data...\n",
      "[nltk_data]   Package stopwords is already up-to-date!\n"
     ]
    }
   ],
   "source": [
    "stop_words = nlp_utils.usingStopwords('en')\n",
    "df_train = df_train_raw.copy()\n",
    "\n",
    "## Train data Preprocessing\n",
    "df_train['text'] = df_train['text'].map(lambda x: nlp_utils.remove_URL(x))\n",
    "df_train['text'] = df_train['text'].map(lambda x: nlp_utils.remove_punct(x))\n",
    "df_train['text'] = df_train['text'].map(lambda x: x.lower())\n",
    "df_train['text'] = df_train['text'].map(lambda x: nlp_utils.removeStopwords(x,stop_words))\n",
    "\n",
    "## Test data preprocessing\n",
    "df_test = df_test_raw.copy()\n",
    "df_test['text'] = df_test['text'].map(lambda x: nlp_utils.remove_URL(x))\n",
    "df_test['text'] = df_test['text'].map(lambda x: nlp_utils.remove_punct(x))\n",
    "df_test['text'] = df_test['text'].map(lambda x: x.lower())\n",
    "df_test['text'] = df_test['text'].map(lambda x: nlp_utils.removeStopwords(x,stop_words))\n",
    "\n",
    "\n"
   ],
   "metadata": {
    "collapsed": false
   }
  },
  {
   "cell_type": "code",
   "execution_count": null,
   "outputs": [
    {
     "data": {
      "text/plain": "         id keyword location  \\\n7593  10848     NaN      NaN   \n7594  10849     NaN      NaN   \n7595  10850     NaN      NaN   \n7596  10851     NaN      NaN   \n7597  10852     NaN      NaN   \n7598  10853     NaN      NaN   \n7599  10854     NaN      NaN   \n7600  10855     NaN      NaN   \n7601  10859     NaN      NaN   \n7602  10860     NaN      NaN   \n7603  10862     NaN      NaN   \n7604  10863     NaN      NaN   \n7605  10864     NaN      NaN   \n7606  10866     NaN      NaN   \n7607  10867     NaN      NaN   \n7608  10869     NaN      NaN   \n7609  10870     NaN      NaN   \n7610  10871     NaN      NaN   \n7611  10872     NaN      NaN   \n7612  10873     NaN      NaN   \n\n                                                   text  target  \n7593       heard really loud bang everyone asleep great       0  \n7594  gas thing exploded heard screams whole street ...       1  \n7595  nws flash flood warning continued shelby count...       1  \n7596  rt livingsafely nws issues severe thunderstorm...       1  \n7597  mh370 aircraft debris found la reunion missing...       1  \n7598  fatherofthree lost control car overtaking coll...       1  \n7599  13 earthquake 9km ssw anza california iphone u...       1  \n7600             evacuation order lifted town roosevelt       1  \n7601  breaking la refugio oil spill may costlier big...       1  \n7602            siren went wasnt forney tornado warning       1  \n7603  officials say quarantine place alabama home po...       1  \n7604  worldnews fallen powerlines glink tram update ...       1  \n7605  flip side im walmart bomb everyone evacuate st...       1  \n7606  suicide bomber kills 15 saudi security site mo...       1  \n7607  stormchase violent record breaking ef5 el reno...       1  \n7608  two giant cranes holding bridge collapse nearb...       1  \n7609  ariaahrary thetawniest control wild fires cali...       1  \n7610                    m194 0104 utc5km volcano hawaii       1  \n7611  police investigating ebike collided car little...       1  \n7612  latest homes razed northern california wildfir...       1  ",
      "text/html": "<div>\n<style scoped>\n    .dataframe tbody tr th:only-of-type {\n        vertical-align: middle;\n    }\n\n    .dataframe tbody tr th {\n        vertical-align: top;\n    }\n\n    .dataframe thead th {\n        text-align: right;\n    }\n</style>\n<table border=\"1\" class=\"dataframe\">\n  <thead>\n    <tr style=\"text-align: right;\">\n      <th></th>\n      <th>id</th>\n      <th>keyword</th>\n      <th>location</th>\n      <th>text</th>\n      <th>target</th>\n    </tr>\n  </thead>\n  <tbody>\n    <tr>\n      <th>7593</th>\n      <td>10848</td>\n      <td>NaN</td>\n      <td>NaN</td>\n      <td>heard really loud bang everyone asleep great</td>\n      <td>0</td>\n    </tr>\n    <tr>\n      <th>7594</th>\n      <td>10849</td>\n      <td>NaN</td>\n      <td>NaN</td>\n      <td>gas thing exploded heard screams whole street ...</td>\n      <td>1</td>\n    </tr>\n    <tr>\n      <th>7595</th>\n      <td>10850</td>\n      <td>NaN</td>\n      <td>NaN</td>\n      <td>nws flash flood warning continued shelby count...</td>\n      <td>1</td>\n    </tr>\n    <tr>\n      <th>7596</th>\n      <td>10851</td>\n      <td>NaN</td>\n      <td>NaN</td>\n      <td>rt livingsafely nws issues severe thunderstorm...</td>\n      <td>1</td>\n    </tr>\n    <tr>\n      <th>7597</th>\n      <td>10852</td>\n      <td>NaN</td>\n      <td>NaN</td>\n      <td>mh370 aircraft debris found la reunion missing...</td>\n      <td>1</td>\n    </tr>\n    <tr>\n      <th>7598</th>\n      <td>10853</td>\n      <td>NaN</td>\n      <td>NaN</td>\n      <td>fatherofthree lost control car overtaking coll...</td>\n      <td>1</td>\n    </tr>\n    <tr>\n      <th>7599</th>\n      <td>10854</td>\n      <td>NaN</td>\n      <td>NaN</td>\n      <td>13 earthquake 9km ssw anza california iphone u...</td>\n      <td>1</td>\n    </tr>\n    <tr>\n      <th>7600</th>\n      <td>10855</td>\n      <td>NaN</td>\n      <td>NaN</td>\n      <td>evacuation order lifted town roosevelt</td>\n      <td>1</td>\n    </tr>\n    <tr>\n      <th>7601</th>\n      <td>10859</td>\n      <td>NaN</td>\n      <td>NaN</td>\n      <td>breaking la refugio oil spill may costlier big...</td>\n      <td>1</td>\n    </tr>\n    <tr>\n      <th>7602</th>\n      <td>10860</td>\n      <td>NaN</td>\n      <td>NaN</td>\n      <td>siren went wasnt forney tornado warning</td>\n      <td>1</td>\n    </tr>\n    <tr>\n      <th>7603</th>\n      <td>10862</td>\n      <td>NaN</td>\n      <td>NaN</td>\n      <td>officials say quarantine place alabama home po...</td>\n      <td>1</td>\n    </tr>\n    <tr>\n      <th>7604</th>\n      <td>10863</td>\n      <td>NaN</td>\n      <td>NaN</td>\n      <td>worldnews fallen powerlines glink tram update ...</td>\n      <td>1</td>\n    </tr>\n    <tr>\n      <th>7605</th>\n      <td>10864</td>\n      <td>NaN</td>\n      <td>NaN</td>\n      <td>flip side im walmart bomb everyone evacuate st...</td>\n      <td>1</td>\n    </tr>\n    <tr>\n      <th>7606</th>\n      <td>10866</td>\n      <td>NaN</td>\n      <td>NaN</td>\n      <td>suicide bomber kills 15 saudi security site mo...</td>\n      <td>1</td>\n    </tr>\n    <tr>\n      <th>7607</th>\n      <td>10867</td>\n      <td>NaN</td>\n      <td>NaN</td>\n      <td>stormchase violent record breaking ef5 el reno...</td>\n      <td>1</td>\n    </tr>\n    <tr>\n      <th>7608</th>\n      <td>10869</td>\n      <td>NaN</td>\n      <td>NaN</td>\n      <td>two giant cranes holding bridge collapse nearb...</td>\n      <td>1</td>\n    </tr>\n    <tr>\n      <th>7609</th>\n      <td>10870</td>\n      <td>NaN</td>\n      <td>NaN</td>\n      <td>ariaahrary thetawniest control wild fires cali...</td>\n      <td>1</td>\n    </tr>\n    <tr>\n      <th>7610</th>\n      <td>10871</td>\n      <td>NaN</td>\n      <td>NaN</td>\n      <td>m194 0104 utc5km volcano hawaii</td>\n      <td>1</td>\n    </tr>\n    <tr>\n      <th>7611</th>\n      <td>10872</td>\n      <td>NaN</td>\n      <td>NaN</td>\n      <td>police investigating ebike collided car little...</td>\n      <td>1</td>\n    </tr>\n    <tr>\n      <th>7612</th>\n      <td>10873</td>\n      <td>NaN</td>\n      <td>NaN</td>\n      <td>latest homes razed northern california wildfir...</td>\n      <td>1</td>\n    </tr>\n  </tbody>\n</table>\n</div>"
     },
     "execution_count": 7,
     "metadata": {},
     "output_type": "execute_result"
    }
   ],
   "source": [
    "df_train.tail(20)"
   ],
   "metadata": {
    "collapsed": false
   }
  },
  {
   "cell_type": "markdown",
   "source": [],
   "metadata": {
    "collapsed": false
   }
  },
  {
   "cell_type": "markdown",
   "source": [
    "### Selecting variables for model"
   ],
   "metadata": {
    "collapsed": false
   }
  },
  {
   "cell_type": "code",
   "execution_count": null,
   "outputs": [],
   "source": [
    "X = df_train.text\n",
    "y = df_train.target"
   ],
   "metadata": {
    "collapsed": false
   }
  },
  {
   "cell_type": "markdown",
   "source": [
    "### Splitting data into train and test"
   ],
   "metadata": {
    "collapsed": false
   }
  },
  {
   "cell_type": "code",
   "execution_count": null,
   "outputs": [],
   "source": [
    "# OBS: Using df_traing for train, validation and test splitting\n",
    "from sklearn.model_selection import train_test_split\n",
    "\n",
    "X_train, X_test, y_train, y_test = train_test_split(X, y, train_size=0.8, random_state=42)\n",
    "\n",
    "X_train, X_val, y_train, y_val = train_test_split(X_train,y_train, train_size=0.8,random_state=42)\n",
    "\n"
   ],
   "metadata": {
    "collapsed": false
   }
  },
  {
   "cell_type": "markdown",
   "source": [
    "### Vocabulary"
   ],
   "metadata": {
    "collapsed": false
   }
  },
  {
   "cell_type": "code",
   "execution_count": null,
   "outputs": [],
   "source": [
    "tokens, vocab, vocab_size = nlp_utils.createVocabulary(X_train)"
   ],
   "metadata": {
    "collapsed": false
   }
  },
  {
   "cell_type": "code",
   "execution_count": null,
   "outputs": [
    {
     "data": {
      "text/plain": "[('like', 223), ('amp', 191), ('im', 187), ('fire', 156), ('get', 154)]"
     },
     "execution_count": 11,
     "metadata": {},
     "output_type": "execute_result"
    }
   ],
   "source": [
    "# get 5 words with highest frequency from vocab\n",
    "ranking = nlp_utils.getWordsHigherFrequencyCorpus(vocab,5)\n",
    "ranking"
   ],
   "metadata": {
    "collapsed": false
   }
  },
  {
   "cell_type": "markdown",
   "source": [
    "### Train Numericalização"
   ],
   "metadata": {
    "collapsed": false
   }
  },
  {
   "cell_type": "code",
   "execution_count": null,
   "outputs": [],
   "source": [
    "from keras.preprocessing.text import Tokenizer\n",
    "from keras_preprocessing.sequence import pad_sequences"
   ],
   "metadata": {
    "collapsed": false
   }
  },
  {
   "cell_type": "code",
   "execution_count": null,
   "outputs": [],
   "source": [
    "tokenizer = Tokenizer(num_words=vocab_size,oov_token='<OOV>')\n",
    "tokenizer.fit_on_texts(X_train)\n",
    "word_index = tokenizer.word_index\n",
    "train_sequences = tokenizer.texts_to_sequences(X_train)"
   ],
   "metadata": {
    "collapsed": false
   }
  },
  {
   "cell_type": "code",
   "execution_count": null,
   "outputs": [
    {
     "data": {
      "text/plain": "25"
     },
     "execution_count": 14,
     "metadata": {},
     "output_type": "execute_result"
    }
   ],
   "source": [
    "max_len = nlp_utils.findMaxLen(train_sequences)\n",
    "max_len"
   ],
   "metadata": {
    "collapsed": false
   }
  },
  {
   "cell_type": "markdown",
   "source": [
    "### Train padding"
   ],
   "metadata": {
    "collapsed": false
   }
  },
  {
   "cell_type": "code",
   "execution_count": null,
   "outputs": [],
   "source": [
    "train_padded = pad_sequences(train_sequences, maxlen=max_len, padding='post', truncating='post')"
   ],
   "metadata": {
    "collapsed": false
   }
  },
  {
   "cell_type": "markdown",
   "source": [
    "### Validation Numericalization and Padding"
   ],
   "metadata": {
    "collapsed": false
   }
  },
  {
   "cell_type": "code",
   "execution_count": null,
   "outputs": [],
   "source": [
    "val_sequences = tokenizer.texts_to_sequences(X_val)\n",
    "val_padded = pad_sequences(val_sequences, maxlen=max_len, padding='post', truncating='post')"
   ],
   "metadata": {
    "collapsed": false
   }
  },
  {
   "cell_type": "code",
   "execution_count": null,
   "outputs": [],
   "source": [
    "embeddings_dict = {}\n",
    "with open('../../Assets/glove.twitter.27B.25d.txt','r',encoding=\"utf8\") as f:\n",
    "    for line in f:\n",
    "        values = line.split()\n",
    "        word = values[0]\n",
    "        vectors = np.asarray(values[1:], \"float32\")\n",
    "        embeddings_dict[word] = vectors\n",
    "f.close()"
   ],
   "metadata": {
    "collapsed": false
   }
  },
  {
   "cell_type": "code",
   "execution_count": null,
   "outputs": [],
   "source": [
    "embeddings_matrix = np.zeros((vocab_size+1,25))\n",
    "for word, i in word_index.items():\n",
    "    embeddings_vector = embeddings_dict.get(word)\n",
    "    if embeddings_vector is not None:\n",
    "        embeddings_matrix[i-1] = embeddings_vector\n"
   ],
   "metadata": {
    "collapsed": false
   }
  },
  {
   "cell_type": "code",
   "execution_count": null,
   "outputs": [
    {
     "data": {
      "text/plain": "730"
     },
     "execution_count": 19,
     "metadata": {},
     "output_type": "execute_result"
    }
   ],
   "source": [
    "word_index['reason']"
   ],
   "metadata": {
    "collapsed": false
   }
  },
  {
   "cell_type": "code",
   "execution_count": null,
   "outputs": [
    {
     "data": {
      "text/plain": "array([0., 0., 0., 0., 0., 0., 0., 0., 0., 0., 0., 0., 0., 0., 0., 0., 0.,\n       0., 0., 0., 0., 0., 0., 0., 0.])"
     },
     "execution_count": 20,
     "metadata": {},
     "output_type": "execute_result"
    }
   ],
   "source": [
    "embeddings_matrix[1796]"
   ],
   "metadata": {
    "collapsed": false
   }
  },
  {
   "cell_type": "code",
   "execution_count": null,
   "outputs": [
    {
     "data": {
      "text/plain": "array([ 0.43525  ,  0.41565  , -0.0049016,  0.33494  , -0.093569 ,\n        0.0231   ,  1.8699   , -0.57324  , -0.61937  ,  0.11542  ,\n       -0.90317  ,  0.59846  , -4.3689   ,  0.15006  ,  0.03712  ,\n        0.52517  ,  0.052408 , -0.22282  ,  0.57383  , -0.55142  ,\n        0.65294  ,  0.43788  ,  0.37033  ,  0.12756  , -0.73918  ],\n      dtype=float32)"
     },
     "execution_count": 21,
     "metadata": {},
     "output_type": "execute_result"
    }
   ],
   "source": [
    "embeddings_dict['reason']"
   ],
   "metadata": {
    "collapsed": false
   }
  },
  {
   "cell_type": "markdown",
   "source": [
    "### RNN model"
   ],
   "metadata": {
    "collapsed": false
   }
  },
  {
   "cell_type": "code",
   "execution_count": null,
   "outputs": [],
   "source": [
    "from keras.models import Sequential\n",
    "from keras.layers import Embedding, LSTM, Dense, Dropout, Bidirectional\n",
    "from keras.optimizers import Adam\n",
    "from keras.losses import BinaryCrossentropy\n",
    "from keras.initializers.initializers_v2 import Constant\n"
   ],
   "metadata": {
    "collapsed": false
   }
  },
  {
   "cell_type": "code",
   "execution_count": 36,
   "outputs": [
    {
     "name": "stdout",
     "output_type": "stream",
     "text": [
      "Model: \"sequential_1\"\n",
      "_________________________________________________________________\n",
      " Layer (type)                Output Shape              Param #   \n",
      "=================================================================\n",
      " embedding_1 (Embedding)     (None, 25, 25)            335875    \n",
      "                                                                 \n",
      " lstm_1 (LSTM)               (None, 256)               288768    \n",
      "                                                                 \n",
      " dense_1 (Dense)             (None, 1)                 257       \n",
      "                                                                 \n",
      "=================================================================\n",
      "Total params: 624,900\n",
      "Trainable params: 289,025\n",
      "Non-trainable params: 335,875\n",
      "_________________________________________________________________\n"
     ]
    }
   ],
   "source": [
    "model = Sequential([\n",
    "    Embedding(input_dim=vocab_size+1, output_dim= 25,embeddings_initializer=Constant(embeddings_matrix), input_length=max_len,trainable=False),\n",
    "    LSTM(256, dropout=0.1),\n",
    "    Dense(1, activation='sigmoid')\n",
    "])\n",
    "model.summary()"
   ],
   "metadata": {
    "collapsed": false
   }
  },
  {
   "cell_type": "code",
   "execution_count": 37,
   "outputs": [
    {
     "name": "stdout",
     "output_type": "stream",
     "text": [
      "Epoch 1/20\n",
      "153/153 - 19s - loss: 0.6807 - accuracy: 0.5759 - val_loss: 0.6786 - val_accuracy: 0.5821 - 19s/epoch - 122ms/step\n",
      "Epoch 2/20\n",
      "153/153 - 13s - loss: 0.6729 - accuracy: 0.5856 - val_loss: 0.6688 - val_accuracy: 0.5969 - 13s/epoch - 88ms/step\n",
      "Epoch 3/20\n",
      "153/153 - 11s - loss: 0.6636 - accuracy: 0.6010 - val_loss: 0.6755 - val_accuracy: 0.5632 - 11s/epoch - 74ms/step\n",
      "Epoch 4/20\n",
      "153/153 - 13s - loss: 0.6569 - accuracy: 0.6133 - val_loss: 0.6802 - val_accuracy: 0.5427 - 13s/epoch - 82ms/step\n",
      "Epoch 5/20\n",
      "153/153 - 9s - loss: 0.6475 - accuracy: 0.6301 - val_loss: 0.6704 - val_accuracy: 0.5698 - 9s/epoch - 60ms/step\n",
      "Epoch 6/20\n",
      "153/153 - 9s - loss: 0.6330 - accuracy: 0.6414 - val_loss: 0.7094 - val_accuracy: 0.5722 - 9s/epoch - 59ms/step\n",
      "Epoch 7/20\n",
      "153/153 - 9s - loss: 0.6185 - accuracy: 0.6593 - val_loss: 0.6705 - val_accuracy: 0.6223 - 9s/epoch - 59ms/step\n",
      "Epoch 8/20\n",
      "153/153 - 10s - loss: 0.6089 - accuracy: 0.6739 - val_loss: 0.7175 - val_accuracy: 0.5722 - 10s/epoch - 66ms/step\n",
      "Epoch 9/20\n",
      "153/153 - 12s - loss: 0.5911 - accuracy: 0.6858 - val_loss: 0.6506 - val_accuracy: 0.6297 - 12s/epoch - 78ms/step\n",
      "Epoch 10/20\n",
      "153/153 - 11s - loss: 0.5765 - accuracy: 0.7022 - val_loss: 0.6302 - val_accuracy: 0.6330 - 11s/epoch - 75ms/step\n",
      "Epoch 11/20\n",
      "153/153 - 10s - loss: 0.5486 - accuracy: 0.7204 - val_loss: 0.6383 - val_accuracy: 0.6535 - 10s/epoch - 68ms/step\n",
      "Epoch 12/20\n",
      "153/153 - 11s - loss: 0.5402 - accuracy: 0.7328 - val_loss: 0.6704 - val_accuracy: 0.6322 - 11s/epoch - 72ms/step\n",
      "Epoch 13/20\n",
      "153/153 - 17s - loss: 0.5152 - accuracy: 0.7492 - val_loss: 0.6731 - val_accuracy: 0.6576 - 17s/epoch - 108ms/step\n",
      "Epoch 14/20\n",
      "153/153 - 11s - loss: 0.4858 - accuracy: 0.7701 - val_loss: 0.6761 - val_accuracy: 0.6502 - 11s/epoch - 74ms/step\n",
      "Epoch 15/20\n",
      "153/153 - 13s - loss: 0.4642 - accuracy: 0.7802 - val_loss: 0.6129 - val_accuracy: 0.6773 - 13s/epoch - 87ms/step\n",
      "Epoch 16/20\n",
      "153/153 - 11s - loss: 0.4447 - accuracy: 0.7950 - val_loss: 0.7276 - val_accuracy: 0.6396 - 11s/epoch - 74ms/step\n",
      "Epoch 17/20\n",
      "153/153 - 12s - loss: 0.4106 - accuracy: 0.8177 - val_loss: 0.6548 - val_accuracy: 0.6617 - 12s/epoch - 79ms/step\n",
      "Epoch 18/20\n",
      "153/153 - 14s - loss: 0.3847 - accuracy: 0.8339 - val_loss: 0.8312 - val_accuracy: 0.6412 - 14s/epoch - 92ms/step\n",
      "Epoch 19/20\n",
      "153/153 - 12s - loss: 0.3570 - accuracy: 0.8489 - val_loss: 0.7760 - val_accuracy: 0.6535 - 12s/epoch - 79ms/step\n",
      "Epoch 20/20\n",
      "153/153 - 11s - loss: 0.3297 - accuracy: 0.8580 - val_loss: 0.7528 - val_accuracy: 0.6683 - 11s/epoch - 73ms/step\n"
     ]
    }
   ],
   "source": [
    "loss = BinaryCrossentropy(from_logits=False)\n",
    "optim = Adam(learning_rate=0.001)\n",
    "metrics = ['accuracy']\n",
    "model.compile(loss=loss, optimizer=optim, metrics=metrics)\n",
    "history = model.fit(train_padded, y_train, epochs=20, validation_data=(val_padded, y_val),verbose=2)"
   ],
   "metadata": {
    "collapsed": false
   }
  },
  {
   "cell_type": "code",
   "execution_count": 38,
   "outputs": [],
   "source": [
    "import matplotlib.pyplot as plt"
   ],
   "metadata": {
    "collapsed": false
   }
  },
  {
   "cell_type": "code",
   "execution_count": 39,
   "outputs": [
    {
     "data": {
      "text/plain": "<Figure size 1500x500 with 2 Axes>",
      "image/png": "[encoded data removed]"
     },
     "metadata": {},
     "output_type": "display_data"
    }
   ],
   "source": [
    "fig, (ax1, ax2) = plt.subplots(1, 2, figsize=(15, 5))\n",
    "ax1.plot(history.history['accuracy'])\n",
    "ax1.plot(history.history['val_accuracy'])\n",
    "ax1.set_title('Model Accuracy')\n",
    "ax1.set_ylabel('Accuracy')\n",
    "ax1.set_xlabel('Epoch')\n",
    "ax1.legend(['Train', 'Validation'], loc='upper left')\n",
    "\n",
    "ax2.plot(history.history['loss'])\n",
    "ax2.plot(history.history['val_loss'])\n",
    "ax2.set_title('Model Loss')\n",
    "ax2.set_ylabel('Loss')\n",
    "ax2.set_xlabel('Epoch')\n",
    "ax2.legend(['Train', 'Validation'], loc='upper left')\n",
    "plt.show()"
   ],
   "metadata": {
    "collapsed": false
   }
  },
  {
   "cell_type": "markdown",
   "source": [
    "### Predictions"
   ],
   "metadata": {
    "collapsed": false
   }
  },
  {
   "cell_type": "code",
   "execution_count": 40,
   "outputs": [],
   "source": [
    "test_sequences = tokenizer.texts_to_sequences(X_test)\n",
    "test_padded = pad_sequences(test_sequences, maxlen=max_len, padding='post', truncating='post')"
   ],
   "metadata": {
    "collapsed": false
   }
  },
  {
   "cell_type": "code",
   "execution_count": 41,
   "outputs": [],
   "source": [
    "index_word = nlp_utils.index2word(word_index)"
   ],
   "metadata": {
    "collapsed": false
   }
  },
  {
   "cell_type": "code",
   "execution_count": 42,
   "outputs": [
    {
     "name": "stdout",
     "output_type": "stream",
     "text": [
      "48/48 [==============================] - 2s 26ms/step\n"
     ]
    },
    {
     "data": {
      "text/plain": "array([[0],\n       [0],\n       [0],\n       ...,\n       [1],\n       [1],\n       [1]])"
     },
     "execution_count": 42,
     "metadata": {},
     "output_type": "execute_result"
    }
   ],
   "source": [
    "pred_prob = model.predict(test_padded)\n",
    "pred_int = pred_prob.round().astype('int')\n",
    "pred_int"
   ],
   "metadata": {
    "collapsed": false
   }
  },
  {
   "cell_type": "code",
   "execution_count": 43,
   "outputs": [
    {
     "data": {
      "text/plain": "array([[0.0969881 ],\n       [0.29450005],\n       [0.4279064 ],\n       ...,\n       [0.8676108 ],\n       [0.9854014 ],\n       [0.81804276]], dtype=float32)"
     },
     "execution_count": 43,
     "metadata": {},
     "output_type": "execute_result"
    }
   ],
   "source": [
    "pred_prob"
   ],
   "metadata": {
    "collapsed": false
   }
  },
  {
   "cell_type": "code",
   "execution_count": 44,
   "outputs": [],
   "source": [
    "y_pred = [1 if p > 0.5 else 0 for p in pred_prob]"
   ],
   "metadata": {
    "collapsed": false
   }
  },
  {
   "cell_type": "code",
   "execution_count": 45,
   "outputs": [
    {
     "data": {
      "text/plain": "                                               sequence  \\\n0                                 [8, 165, 230, 1, 317]   \n1        [1, 273, 1, 31, 1, 257, 38, 1, 1, 2783, 10664]   \n2         [1, 1, 52, 1, 5323, 11508, 37, 4342, 1, 1, 1]   \n3     [749, 27, 72, 1680, 109, 59, 305, 134, 409, 45...   \n4       [1153, 291, 496, 1, 8505, 1, 659, 12, 1, 1, 41]   \n...                                                 ...   \n1518                              [1, 1, 260, 44, 2984]   \n1519  [992, 226, 993, 762, 892, 1102, 534, 757, 7, 9...   \n1520           [29, 298, 94, 23, 159, 1, 4052, 1, 7, 1]   \n1521  [5242, 422, 173, 3277, 864, 444, 1157, 5243, 1...   \n1522     [109, 772, 1, 6942, 27, 3856, 1, 3857, 293, 1]   \n\n                                                 X_test  \\\n0             new weapon cause unimaginable destruction   \n1     famping things gishwhes got soaked deluge goin...   \n2     dt georgegalloway rt galloway4mayor ûïthe col...   \n3     aftershock back school kick great want thank e...   \n4     response trauma children addicts develop defen...   \n...                                                 ...   \n1518                    smusx16475 skype crashed u host   \n1519  christian attacked muslims temple mount waving...   \n1520  man charged fatal crash near dubbo refused bai...   \n1521  usnwsgov severe weather statement issued augus...   \n1522  great british ltbgtbakeltbgt offs back dorrets...   \n\n                                               seq2text  y_pred  y_true  \n0              [new, weapon, cause, <OOV>, destruction]       0       1  \n1     [<OOV>, things, <OOV>, got, <OOV>, deluge, goi...       0       0  \n2     [<OOV>, <OOV>, rt, <OOV>, ûïthe, col, police,...       0       1  \n3     [aftershock, back, school, kick, great, want, ...       0       0  \n4     [response, trauma, children, <OOV>, develop, <...       1       0  \n...                                                 ...     ...     ...  \n1518                   [<OOV>, <OOV>, crashed, u, host]       1       0  \n1519  [christian, attacked, muslims, temple, mount, ...       1       1  \n1520  [man, charged, fatal, crash, near, <OOV>, refu...       1       1  \n1521  [usnwsgov, severe, weather, statement, issued,...       1       1  \n1522  [great, british, <OOV>, offs, back, dorrets, <...       1       0  \n\n[1523 rows x 5 columns]",
      "text/html": "<div>\n<style scoped>\n    .dataframe tbody tr th:only-of-type {\n        vertical-align: middle;\n    }\n\n    .dataframe tbody tr th {\n        vertical-align: top;\n    }\n\n    .dataframe thead th {\n        text-align: right;\n    }\n</style>\n<table border=\"1\" class=\"dataframe\">\n  <thead>\n    <tr style=\"text-align: right;\">\n      <th></th>\n      <th>sequence</th>\n      <th>X_test</th>\n      <th>seq2text</th>\n      <th>y_pred</th>\n      <th>y_true</th>\n    </tr>\n  </thead>\n  <tbody>\n    <tr>\n      <th>0</th>\n      <td>[8, 165, 230, 1, 317]</td>\n      <td>new weapon cause unimaginable destruction</td>\n      <td>[new, weapon, cause, &lt;OOV&gt;, destruction]</td>\n      <td>0</td>\n      <td>1</td>\n    </tr>\n    <tr>\n      <th>1</th>\n      <td>[1, 273, 1, 31, 1, 257, 38, 1, 1, 2783, 10664]</td>\n      <td>famping things gishwhes got soaked deluge goin...</td>\n      <td>[&lt;OOV&gt;, things, &lt;OOV&gt;, got, &lt;OOV&gt;, deluge, goi...</td>\n      <td>0</td>\n      <td>0</td>\n    </tr>\n    <tr>\n      <th>2</th>\n      <td>[1, 1, 52, 1, 5323, 11508, 37, 4342, 1, 1, 1]</td>\n      <td>dt georgegalloway rt galloway4mayor ûïthe col...</td>\n      <td>[&lt;OOV&gt;, &lt;OOV&gt;, rt, &lt;OOV&gt;, ûïthe, col, police,...</td>\n      <td>0</td>\n      <td>1</td>\n    </tr>\n    <tr>\n      <th>3</th>\n      <td>[749, 27, 72, 1680, 109, 59, 305, 134, 409, 45...</td>\n      <td>aftershock back school kick great want thank e...</td>\n      <td>[aftershock, back, school, kick, great, want, ...</td>\n      <td>0</td>\n      <td>0</td>\n    </tr>\n    <tr>\n      <th>4</th>\n      <td>[1153, 291, 496, 1, 8505, 1, 659, 12, 1, 1, 41]</td>\n      <td>response trauma children addicts develop defen...</td>\n      <td>[response, trauma, children, &lt;OOV&gt;, develop, &lt;...</td>\n      <td>1</td>\n      <td>0</td>\n    </tr>\n    <tr>\n      <th>...</th>\n      <td>...</td>\n      <td>...</td>\n      <td>...</td>\n      <td>...</td>\n      <td>...</td>\n    </tr>\n    <tr>\n      <th>1518</th>\n      <td>[1, 1, 260, 44, 2984]</td>\n      <td>smusx16475 skype crashed u host</td>\n      <td>[&lt;OOV&gt;, &lt;OOV&gt;, crashed, u, host]</td>\n      <td>1</td>\n      <td>0</td>\n    </tr>\n    <tr>\n      <th>1519</th>\n      <td>[992, 226, 993, 762, 892, 1102, 534, 757, 7, 9...</td>\n      <td>christian attacked muslims temple mount waving...</td>\n      <td>[christian, attacked, muslims, temple, mount, ...</td>\n      <td>1</td>\n      <td>1</td>\n    </tr>\n    <tr>\n      <th>1520</th>\n      <td>[29, 298, 94, 23, 159, 1, 4052, 1, 7, 1]</td>\n      <td>man charged fatal crash near dubbo refused bai...</td>\n      <td>[man, charged, fatal, crash, near, &lt;OOV&gt;, refu...</td>\n      <td>1</td>\n      <td>1</td>\n    </tr>\n    <tr>\n      <th>1521</th>\n      <td>[5242, 422, 173, 3277, 864, 444, 1157, 5243, 1...</td>\n      <td>usnwsgov severe weather statement issued augus...</td>\n      <td>[usnwsgov, severe, weather, statement, issued,...</td>\n      <td>1</td>\n      <td>1</td>\n    </tr>\n    <tr>\n      <th>1522</th>\n      <td>[109, 772, 1, 6942, 27, 3856, 1, 3857, 293, 1]</td>\n      <td>great british ltbgtbakeltbgt offs back dorrets...</td>\n      <td>[great, british, &lt;OOV&gt;, offs, back, dorrets, &lt;...</td>\n      <td>1</td>\n      <td>0</td>\n    </tr>\n  </tbody>\n</table>\n<p>1523 rows × 5 columns</p>\n</div>"
     },
     "execution_count": 45,
     "metadata": {},
     "output_type": "execute_result"
    }
   ],
   "source": [
    "df_results = pd.DataFrame()\n",
    "X_test = list(X_test)\n",
    "y_test = list(y_test)\n",
    "df_results['sequence'] = test_sequences\n",
    "df_results['X_test'] = X_test\n",
    "df_results['seq2text'] = df_results['sequence'].apply(lambda x: nlp_utils.seq2text(x, index_word))\n",
    "df_results['y_pred'] = y_pred\n",
    "df_results['y_true'] = y_test\n",
    "df_results"
   ],
   "metadata": {
    "collapsed": false
   }
  },
  {
   "cell_type": "markdown",
   "source": [
    "### Evaluating Model"
   ],
   "metadata": {
    "collapsed": false
   }
  },
  {
   "cell_type": "code",
   "execution_count": 46,
   "outputs": [],
   "source": [
    "from sklearn.metrics import accuracy_score, precision_score, recall_score, f1_score, confusion_matrix, classification_report\n",
    "import matplotlib.pyplot as plt\n",
    "import seaborn as sns"
   ],
   "metadata": {
    "collapsed": false
   }
  },
  {
   "cell_type": "code",
   "execution_count": 47,
   "outputs": [],
   "source": [
    "accuracy = accuracy_score(y_test,y_pred)\n",
    "precision = precision_score(y_test,y_pred)\n",
    "recall = recall_score(y_test,y_pred)\n",
    "f1score = f1_score(y_test,y_pred)\n",
    "cm = confusion_matrix(y_test,y_pred)\n"
   ],
   "metadata": {
    "collapsed": false
   }
  },
  {
   "cell_type": "code",
   "execution_count": 48,
   "outputs": [],
   "source": [
    "def show_confusion_matrix(cm):\n",
    "        print(\"Confusion Matrix\")\n",
    "        plt.figure(figsize=(10, 7))\n",
    "\n",
    "        sns.heatmap(cm, annot=True, fmt='d', cmap='Blues', xticklabels=['Negative', 'Positive'],\n",
    "                    yticklabels=['Negative', 'Positive'])\n",
    "        plt.xlabel('Predicted')\n",
    "        plt.ylabel('Truth')\n",
    "        plt.title('Confusion Matrix')\n",
    "        plt.show()"
   ],
   "metadata": {
    "collapsed": false
   }
  },
  {
   "cell_type": "code",
   "execution_count": 49,
   "outputs": [
    {
     "name": "stdout",
     "output_type": "stream",
     "text": [
      "              precision    recall  f1-score   support\n",
      "\n",
      "           0       0.69      0.68      0.68       874\n",
      "           1       0.57      0.58      0.58       649\n",
      "\n",
      "    accuracy                           0.64      1523\n",
      "   macro avg       0.63      0.63      0.63      1523\n",
      "weighted avg       0.64      0.64      0.64      1523\n",
      "\n",
      "Confusion Matrix\n"
     ]
    },
    {
     "data": {
      "text/plain": "<Figure size 1000x700 with 2 Axes>",
      "image/png": "[encoded data removed]"
     },
     "metadata": {},
     "output_type": "display_data"
    }
   ],
   "source": [
    "print(classification_report(y_test,y_pred))\n",
    "show_confusion_matrix(cm)"
   ],
   "metadata": {
    "collapsed": false
   }
  },
  {
   "cell_type": "code",
   "execution_count": 50,
   "outputs": [],
   "source": [
    "# pattern = re.compile(r'https?://\\S+|www\\.\\S+')\n",
    "# for t in df_train.text:\n",
    "#     matches = pattern.findall(t)\n",
    "#     for match in matches:\n",
    "#         print(t)\n",
    "#         print(match)\n",
    "#         print(pattern.sub())\n"
   ],
   "metadata": {
    "collapsed": false
   }
  }
 ],
 "metadata": {
  "kernelspec": {
   "display_name": "Python 3",
   "language": "python",
   "name": "python3"
  },
  "language_info": {
   "codemirror_mode": {
    "name": "ipython",
    "version": 2
   },
   "file_extension": ".py",
   "mimetype": "text/x-python",
   "name": "python",
   "nbconvert_exporter": "python",
   "pygments_lexer": "ipython2",
   "version": "2.7.6"
  }
 },
 "nbformat": 4,
 "nbformat_minor": 0
}
