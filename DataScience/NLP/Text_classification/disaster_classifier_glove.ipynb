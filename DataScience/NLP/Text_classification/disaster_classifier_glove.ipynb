{
 "cells": [
  {
   "cell_type": "markdown",
   "source": [
    "### Imports"
   ],
   "metadata": {
    "collapsed": false
   }
  },
  {
   "cell_type": "code",
   "execution_count": 1,
   "outputs": [],
   "source": [
    "import keras.losses\n",
    "import numpy as np\n",
    "import pandas as pd\n",
    "import os"
   ],
   "metadata": {
    "collapsed": false
   }
  },
  {
   "cell_type": "code",
   "execution_count": 2,
   "outputs": [
    {
     "data": {
      "text/plain": "<module 'My_PythonPackage.nlp_utils' from 'C:\\\\Users\\\\guimi\\\\Documents\\\\Python_Projects\\\\My_PythonPackage\\\\nlp_utils.py'>"
     },
     "execution_count": 2,
     "metadata": {},
     "output_type": "execute_result"
    }
   ],
   "source": [
    "import importlib\n",
    "import My_PythonPackage.nlp_utils as nlp_utils\n",
    "importlib.reload(nlp_utils)"
   ],
   "metadata": {
    "collapsed": false
   }
  },
  {
   "cell_type": "markdown",
   "source": [
    "### Importing datasets"
   ],
   "metadata": {
    "collapsed": false
   }
  },
  {
   "cell_type": "code",
   "execution_count": 3,
   "outputs": [],
   "source": [
    "df_train_raw = pd.read_csv('../../Datasets/nlp-getting-started/train.csv')\n",
    "df_test_raw = pd.read_csv('../../Datasets/nlp-getting-started/test.csv')"
   ],
   "metadata": {
    "collapsed": false
   }
  },
  {
   "cell_type": "code",
   "execution_count": 4,
   "outputs": [
    {
     "data": {
      "text/plain": "        id             keyword                        location  \\\n2084  2993                dead                    Planet Earth   \n3167  4546           emergency          Kuala Lumpur, Malaysia   \n6810  9756             tragedy                 Los Angeles, CA   \n5617  8015            refugees         Statute Of Limitations_   \n3346  4790           evacuated                      Manchester   \n1151  1658             bombing                             NaN   \n6192  8839              sirens                             NaN   \n4243  6030           hazardous                          Canada   \n5642  8045            refugees                             NaN   \n4389  6240           hijacking                             NaN   \n6311  9022           stretcher                             NaN   \n3888  5528           flattened       somewhere too cold for me   \n5090  7260  nuclear%20disaster                             NaN   \n4530  6441             injured                              MD   \n3811  5413  first%20responders                           Texas   \n951   1378          blown%20up  Manchester, The World, England   \n4633  6585           inundated                         Ireland   \n1404  2026          casualties               Las Vegas, NV USA   \n906   1309              bloody  Shity land of Northern Ireland   \n3278  4704           epicentre                           Lagos   \n\n                                                   text  target  \n2084  Man Found Dead in Demi Moore's Swimming Pool! ...       1  \n3167  To Supply and Install New FRP Emergency Slide ...       0  \n6810  Can't find my ariana grande shirt  this is a f...       0  \n5617  Repulsive! Refugees-Victimiser-#Dutton Evangel...       0  \n3346  Trafford Centre film fans angry after Odeon ci...       1  \n1151  Japan marks 70th anniversary of Hiroshima atom...       1  \n6192                sleeping with sirens vai vir pra sp       0  \n4243  Skinny Jeans are Hazardous for Your Health! #s...       1  \n5642  Newlyweds feed thousands of Syrian refugees in...       1  \n4389  The Murderous Story Of AmericaÛªs First Hijac...       1  \n6311  @invalid @Grazed @Towel @Stretcher @PLlolz @wi...       0  \n3888  @GrabakaHitman @Izi_Garcia when he flattened m...       1  \n5090  #Obama signed up to a deal that far from makin...       1  \n4530  And you wonder why he's injured every year htt...       0  \n3811  @USATODAY.  PRAYING FOR GOD'S HEALING AND SAFE...       0  \n951   @anarchic_teapot @BoironUSA @zeno001 Glononium...       0  \n4633  A Laois girl advertised for a new friend to re...       0  \n1404  @LasVegasLocally @VitalVegas They reined it in...       0  \n906   @_itsmegss_ I think it is. well it's bloody ba...       0  \n3278  #Tanzania elephant population declined by 60% ...       0  ",
      "text/html": "<div>\n<style scoped>\n    .dataframe tbody tr th:only-of-type {\n        vertical-align: middle;\n    }\n\n    .dataframe tbody tr th {\n        vertical-align: top;\n    }\n\n    .dataframe thead th {\n        text-align: right;\n    }\n</style>\n<table border=\"1\" class=\"dataframe\">\n  <thead>\n    <tr style=\"text-align: right;\">\n      <th></th>\n      <th>id</th>\n      <th>keyword</th>\n      <th>location</th>\n      <th>text</th>\n      <th>target</th>\n    </tr>\n  </thead>\n  <tbody>\n    <tr>\n      <th>2084</th>\n      <td>2993</td>\n      <td>dead</td>\n      <td>Planet Earth</td>\n      <td>Man Found Dead in Demi Moore's Swimming Pool! ...</td>\n      <td>1</td>\n    </tr>\n    <tr>\n      <th>3167</th>\n      <td>4546</td>\n      <td>emergency</td>\n      <td>Kuala Lumpur, Malaysia</td>\n      <td>To Supply and Install New FRP Emergency Slide ...</td>\n      <td>0</td>\n    </tr>\n    <tr>\n      <th>6810</th>\n      <td>9756</td>\n      <td>tragedy</td>\n      <td>Los Angeles, CA</td>\n      <td>Can't find my ariana grande shirt  this is a f...</td>\n      <td>0</td>\n    </tr>\n    <tr>\n      <th>5617</th>\n      <td>8015</td>\n      <td>refugees</td>\n      <td>Statute Of Limitations_</td>\n      <td>Repulsive! Refugees-Victimiser-#Dutton Evangel...</td>\n      <td>0</td>\n    </tr>\n    <tr>\n      <th>3346</th>\n      <td>4790</td>\n      <td>evacuated</td>\n      <td>Manchester</td>\n      <td>Trafford Centre film fans angry after Odeon ci...</td>\n      <td>1</td>\n    </tr>\n    <tr>\n      <th>1151</th>\n      <td>1658</td>\n      <td>bombing</td>\n      <td>NaN</td>\n      <td>Japan marks 70th anniversary of Hiroshima atom...</td>\n      <td>1</td>\n    </tr>\n    <tr>\n      <th>6192</th>\n      <td>8839</td>\n      <td>sirens</td>\n      <td>NaN</td>\n      <td>sleeping with sirens vai vir pra sp</td>\n      <td>0</td>\n    </tr>\n    <tr>\n      <th>4243</th>\n      <td>6030</td>\n      <td>hazardous</td>\n      <td>Canada</td>\n      <td>Skinny Jeans are Hazardous for Your Health! #s...</td>\n      <td>1</td>\n    </tr>\n    <tr>\n      <th>5642</th>\n      <td>8045</td>\n      <td>refugees</td>\n      <td>NaN</td>\n      <td>Newlyweds feed thousands of Syrian refugees in...</td>\n      <td>1</td>\n    </tr>\n    <tr>\n      <th>4389</th>\n      <td>6240</td>\n      <td>hijacking</td>\n      <td>NaN</td>\n      <td>The Murderous Story Of AmericaÛªs First Hijac...</td>\n      <td>1</td>\n    </tr>\n    <tr>\n      <th>6311</th>\n      <td>9022</td>\n      <td>stretcher</td>\n      <td>NaN</td>\n      <td>@invalid @Grazed @Towel @Stretcher @PLlolz @wi...</td>\n      <td>0</td>\n    </tr>\n    <tr>\n      <th>3888</th>\n      <td>5528</td>\n      <td>flattened</td>\n      <td>somewhere too cold for me</td>\n      <td>@GrabakaHitman @Izi_Garcia when he flattened m...</td>\n      <td>1</td>\n    </tr>\n    <tr>\n      <th>5090</th>\n      <td>7260</td>\n      <td>nuclear%20disaster</td>\n      <td>NaN</td>\n      <td>#Obama signed up to a deal that far from makin...</td>\n      <td>1</td>\n    </tr>\n    <tr>\n      <th>4530</th>\n      <td>6441</td>\n      <td>injured</td>\n      <td>MD</td>\n      <td>And you wonder why he's injured every year htt...</td>\n      <td>0</td>\n    </tr>\n    <tr>\n      <th>3811</th>\n      <td>5413</td>\n      <td>first%20responders</td>\n      <td>Texas</td>\n      <td>@USATODAY.  PRAYING FOR GOD'S HEALING AND SAFE...</td>\n      <td>0</td>\n    </tr>\n    <tr>\n      <th>951</th>\n      <td>1378</td>\n      <td>blown%20up</td>\n      <td>Manchester, The World, England</td>\n      <td>@anarchic_teapot @BoironUSA @zeno001 Glononium...</td>\n      <td>0</td>\n    </tr>\n    <tr>\n      <th>4633</th>\n      <td>6585</td>\n      <td>inundated</td>\n      <td>Ireland</td>\n      <td>A Laois girl advertised for a new friend to re...</td>\n      <td>0</td>\n    </tr>\n    <tr>\n      <th>1404</th>\n      <td>2026</td>\n      <td>casualties</td>\n      <td>Las Vegas, NV USA</td>\n      <td>@LasVegasLocally @VitalVegas They reined it in...</td>\n      <td>0</td>\n    </tr>\n    <tr>\n      <th>906</th>\n      <td>1309</td>\n      <td>bloody</td>\n      <td>Shity land of Northern Ireland</td>\n      <td>@_itsmegss_ I think it is. well it's bloody ba...</td>\n      <td>0</td>\n    </tr>\n    <tr>\n      <th>3278</th>\n      <td>4704</td>\n      <td>epicentre</td>\n      <td>Lagos</td>\n      <td>#Tanzania elephant population declined by 60% ...</td>\n      <td>0</td>\n    </tr>\n  </tbody>\n</table>\n</div>"
     },
     "execution_count": 4,
     "metadata": {},
     "output_type": "execute_result"
    }
   ],
   "source": [
    "df_train_raw.sample(20)"
   ],
   "metadata": {
    "collapsed": false
   }
  },
  {
   "cell_type": "code",
   "execution_count": 5,
   "outputs": [
    {
     "name": "stdout",
     "output_type": "stream",
     "text": [
      "3271\n",
      "4342\n"
     ]
    }
   ],
   "source": [
    "print((df_train_raw.target == 1).sum())\n",
    "print((df_train_raw.target == 0).sum())"
   ],
   "metadata": {
    "collapsed": false
   }
  },
  {
   "cell_type": "markdown",
   "source": [
    "### Data Preprocessing"
   ],
   "metadata": {
    "collapsed": false
   }
  },
  {
   "cell_type": "code",
   "execution_count": 6,
   "outputs": [
    {
     "name": "stderr",
     "output_type": "stream",
     "text": [
      "[nltk_data] Downloading package stopwords to\n",
      "[nltk_data]     C:\\Users\\guimi\\AppData\\Roaming\\nltk_data...\n",
      "[nltk_data]   Package stopwords is already up-to-date!\n"
     ]
    }
   ],
   "source": [
    "stop_words = nlp_utils.usingStopwords('en')\n",
    "df_train = df_train_raw.copy()\n",
    "\n",
    "## Train data Preprocessing\n",
    "df_train['text'] = df_train['text'].map(lambda x: nlp_utils.remove_URL(x))\n",
    "df_train['text'] = df_train['text'].map(lambda x: nlp_utils.remove_punct(x))\n",
    "df_train['text'] = df_train['text'].map(lambda x: x.lower())\n",
    "df_train['text'] = df_train['text'].map(lambda x: nlp_utils.removeStopwords(x,stop_words))\n",
    "\n",
    "## Test data preprocessing\n",
    "df_test = df_test_raw.copy()\n",
    "df_test['text'] = df_test['text'].map(lambda x: nlp_utils.remove_URL(x))\n",
    "df_test['text'] = df_test['text'].map(lambda x: nlp_utils.remove_punct(x))\n",
    "df_test['text'] = df_test['text'].map(lambda x: x.lower())\n",
    "df_test['text'] = df_test['text'].map(lambda x: nlp_utils.removeStopwords(x,stop_words))\n",
    "\n",
    "\n"
   ],
   "metadata": {
    "collapsed": false
   }
  },
  {
   "cell_type": "code",
   "execution_count": 7,
   "outputs": [
    {
     "data": {
      "text/plain": "         id keyword location  \\\n7593  10848     NaN      NaN   \n7594  10849     NaN      NaN   \n7595  10850     NaN      NaN   \n7596  10851     NaN      NaN   \n7597  10852     NaN      NaN   \n7598  10853     NaN      NaN   \n7599  10854     NaN      NaN   \n7600  10855     NaN      NaN   \n7601  10859     NaN      NaN   \n7602  10860     NaN      NaN   \n7603  10862     NaN      NaN   \n7604  10863     NaN      NaN   \n7605  10864     NaN      NaN   \n7606  10866     NaN      NaN   \n7607  10867     NaN      NaN   \n7608  10869     NaN      NaN   \n7609  10870     NaN      NaN   \n7610  10871     NaN      NaN   \n7611  10872     NaN      NaN   \n7612  10873     NaN      NaN   \n\n                                                   text  target  \n7593       heard really loud bang everyone asleep great       0  \n7594  gas thing exploded heard screams whole street ...       1  \n7595  nws flash flood warning continued shelby count...       1  \n7596  rt livingsafely nws issues severe thunderstorm...       1  \n7597  mh370 aircraft debris found la reunion missing...       1  \n7598  fatherofthree lost control car overtaking coll...       1  \n7599  13 earthquake 9km ssw anza california iphone u...       1  \n7600             evacuation order lifted town roosevelt       1  \n7601  breaking la refugio oil spill may costlier big...       1  \n7602            siren went wasnt forney tornado warning       1  \n7603  officials say quarantine place alabama home po...       1  \n7604  worldnews fallen powerlines glink tram update ...       1  \n7605  flip side im walmart bomb everyone evacuate st...       1  \n7606  suicide bomber kills 15 saudi security site mo...       1  \n7607  stormchase violent record breaking ef5 el reno...       1  \n7608  two giant cranes holding bridge collapse nearb...       1  \n7609  ariaahrary thetawniest control wild fires cali...       1  \n7610                    m194 0104 utc5km volcano hawaii       1  \n7611  police investigating ebike collided car little...       1  \n7612  latest homes razed northern california wildfir...       1  ",
      "text/html": "<div>\n<style scoped>\n    .dataframe tbody tr th:only-of-type {\n        vertical-align: middle;\n    }\n\n    .dataframe tbody tr th {\n        vertical-align: top;\n    }\n\n    .dataframe thead th {\n        text-align: right;\n    }\n</style>\n<table border=\"1\" class=\"dataframe\">\n  <thead>\n    <tr style=\"text-align: right;\">\n      <th></th>\n      <th>id</th>\n      <th>keyword</th>\n      <th>location</th>\n      <th>text</th>\n      <th>target</th>\n    </tr>\n  </thead>\n  <tbody>\n    <tr>\n      <th>7593</th>\n      <td>10848</td>\n      <td>NaN</td>\n      <td>NaN</td>\n      <td>heard really loud bang everyone asleep great</td>\n      <td>0</td>\n    </tr>\n    <tr>\n      <th>7594</th>\n      <td>10849</td>\n      <td>NaN</td>\n      <td>NaN</td>\n      <td>gas thing exploded heard screams whole street ...</td>\n      <td>1</td>\n    </tr>\n    <tr>\n      <th>7595</th>\n      <td>10850</td>\n      <td>NaN</td>\n      <td>NaN</td>\n      <td>nws flash flood warning continued shelby count...</td>\n      <td>1</td>\n    </tr>\n    <tr>\n      <th>7596</th>\n      <td>10851</td>\n      <td>NaN</td>\n      <td>NaN</td>\n      <td>rt livingsafely nws issues severe thunderstorm...</td>\n      <td>1</td>\n    </tr>\n    <tr>\n      <th>7597</th>\n      <td>10852</td>\n      <td>NaN</td>\n      <td>NaN</td>\n      <td>mh370 aircraft debris found la reunion missing...</td>\n      <td>1</td>\n    </tr>\n    <tr>\n      <th>7598</th>\n      <td>10853</td>\n      <td>NaN</td>\n      <td>NaN</td>\n      <td>fatherofthree lost control car overtaking coll...</td>\n      <td>1</td>\n    </tr>\n    <tr>\n      <th>7599</th>\n      <td>10854</td>\n      <td>NaN</td>\n      <td>NaN</td>\n      <td>13 earthquake 9km ssw anza california iphone u...</td>\n      <td>1</td>\n    </tr>\n    <tr>\n      <th>7600</th>\n      <td>10855</td>\n      <td>NaN</td>\n      <td>NaN</td>\n      <td>evacuation order lifted town roosevelt</td>\n      <td>1</td>\n    </tr>\n    <tr>\n      <th>7601</th>\n      <td>10859</td>\n      <td>NaN</td>\n      <td>NaN</td>\n      <td>breaking la refugio oil spill may costlier big...</td>\n      <td>1</td>\n    </tr>\n    <tr>\n      <th>7602</th>\n      <td>10860</td>\n      <td>NaN</td>\n      <td>NaN</td>\n      <td>siren went wasnt forney tornado warning</td>\n      <td>1</td>\n    </tr>\n    <tr>\n      <th>7603</th>\n      <td>10862</td>\n      <td>NaN</td>\n      <td>NaN</td>\n      <td>officials say quarantine place alabama home po...</td>\n      <td>1</td>\n    </tr>\n    <tr>\n      <th>7604</th>\n      <td>10863</td>\n      <td>NaN</td>\n      <td>NaN</td>\n      <td>worldnews fallen powerlines glink tram update ...</td>\n      <td>1</td>\n    </tr>\n    <tr>\n      <th>7605</th>\n      <td>10864</td>\n      <td>NaN</td>\n      <td>NaN</td>\n      <td>flip side im walmart bomb everyone evacuate st...</td>\n      <td>1</td>\n    </tr>\n    <tr>\n      <th>7606</th>\n      <td>10866</td>\n      <td>NaN</td>\n      <td>NaN</td>\n      <td>suicide bomber kills 15 saudi security site mo...</td>\n      <td>1</td>\n    </tr>\n    <tr>\n      <th>7607</th>\n      <td>10867</td>\n      <td>NaN</td>\n      <td>NaN</td>\n      <td>stormchase violent record breaking ef5 el reno...</td>\n      <td>1</td>\n    </tr>\n    <tr>\n      <th>7608</th>\n      <td>10869</td>\n      <td>NaN</td>\n      <td>NaN</td>\n      <td>two giant cranes holding bridge collapse nearb...</td>\n      <td>1</td>\n    </tr>\n    <tr>\n      <th>7609</th>\n      <td>10870</td>\n      <td>NaN</td>\n      <td>NaN</td>\n      <td>ariaahrary thetawniest control wild fires cali...</td>\n      <td>1</td>\n    </tr>\n    <tr>\n      <th>7610</th>\n      <td>10871</td>\n      <td>NaN</td>\n      <td>NaN</td>\n      <td>m194 0104 utc5km volcano hawaii</td>\n      <td>1</td>\n    </tr>\n    <tr>\n      <th>7611</th>\n      <td>10872</td>\n      <td>NaN</td>\n      <td>NaN</td>\n      <td>police investigating ebike collided car little...</td>\n      <td>1</td>\n    </tr>\n    <tr>\n      <th>7612</th>\n      <td>10873</td>\n      <td>NaN</td>\n      <td>NaN</td>\n      <td>latest homes razed northern california wildfir...</td>\n      <td>1</td>\n    </tr>\n  </tbody>\n</table>\n</div>"
     },
     "execution_count": 7,
     "metadata": {},
     "output_type": "execute_result"
    }
   ],
   "source": [
    "df_train.tail(20)"
   ],
   "metadata": {
    "collapsed": false
   }
  },
  {
   "cell_type": "markdown",
   "source": [],
   "metadata": {
    "collapsed": false
   }
  },
  {
   "cell_type": "markdown",
   "source": [
    "### Selecting variables for model"
   ],
   "metadata": {
    "collapsed": false
   }
  },
  {
   "cell_type": "code",
   "execution_count": 8,
   "outputs": [],
   "source": [
    "X = df_train.text\n",
    "y = df_train.target"
   ],
   "metadata": {
    "collapsed": false
   }
  },
  {
   "cell_type": "markdown",
   "source": [
    "### Splitting data into train and test"
   ],
   "metadata": {
    "collapsed": false
   }
  },
  {
   "cell_type": "code",
   "execution_count": 9,
   "outputs": [],
   "source": [
    "# OBS: Using df_traing for train, validation and test splitting\n",
    "from sklearn.model_selection import train_test_split\n",
    "\n",
    "X_train, X_test, y_train, y_test = train_test_split(X, y, train_size=0.8, random_state=42)\n",
    "\n",
    "X_train, X_val, y_train, y_val = train_test_split(X_train,y_train, train_size=0.8,random_state=42)\n",
    "\n"
   ],
   "metadata": {
    "collapsed": false
   }
  },
  {
   "cell_type": "markdown",
   "source": [
    "### Vocabulary"
   ],
   "metadata": {
    "collapsed": false
   }
  },
  {
   "cell_type": "code",
   "execution_count": 10,
   "outputs": [],
   "source": [
    "tokens, vocab, vocab_size = nlp_utils.createVocabulary(X_train)"
   ],
   "metadata": {
    "collapsed": false
   }
  },
  {
   "cell_type": "code",
   "execution_count": 11,
   "outputs": [
    {
     "data": {
      "text/plain": "[('like', 223), ('amp', 191), ('im', 187), ('fire', 156), ('get', 154)]"
     },
     "execution_count": 11,
     "metadata": {},
     "output_type": "execute_result"
    }
   ],
   "source": [
    "# get 5 words with highest frequency from vocab\n",
    "ranking = nlp_utils.getWordsHigherFrequencyCorpus(vocab,5)\n",
    "ranking"
   ],
   "metadata": {
    "collapsed": false
   }
  },
  {
   "cell_type": "markdown",
   "source": [
    "### Train Numericalização"
   ],
   "metadata": {
    "collapsed": false
   }
  },
  {
   "cell_type": "code",
   "execution_count": 12,
   "outputs": [],
   "source": [
    "from keras.preprocessing.text import Tokenizer\n",
    "from keras_preprocessing.sequence import pad_sequences"
   ],
   "metadata": {
    "collapsed": false
   }
  },
  {
   "cell_type": "code",
   "execution_count": 13,
   "outputs": [],
   "source": [
    "tokenizer = Tokenizer(num_words=vocab_size,oov_token='<OOV>')\n",
    "tokenizer.fit_on_texts(X_train)\n",
    "word_index = tokenizer.word_index\n",
    "train_sequences = tokenizer.texts_to_sequences(X_train)"
   ],
   "metadata": {
    "collapsed": false
   }
  },
  {
   "cell_type": "code",
   "execution_count": 14,
   "outputs": [
    {
     "data": {
      "text/plain": "25"
     },
     "execution_count": 14,
     "metadata": {},
     "output_type": "execute_result"
    }
   ],
   "source": [
    "max_len = nlp_utils.findMaxLen(train_sequences)\n",
    "max_len"
   ],
   "metadata": {
    "collapsed": false
   }
  },
  {
   "cell_type": "markdown",
   "source": [
    "### Train padding"
   ],
   "metadata": {
    "collapsed": false
   }
  },
  {
   "cell_type": "code",
   "execution_count": 15,
   "outputs": [],
   "source": [
    "train_padded = pad_sequences(train_sequences, maxlen=max_len, padding='post', truncating='post')"
   ],
   "metadata": {
    "collapsed": false
   }
  },
  {
   "cell_type": "markdown",
   "source": [
    "### Validation Numericalization and Padding"
   ],
   "metadata": {
    "collapsed": false
   }
  },
  {
   "cell_type": "code",
   "execution_count": 21,
   "outputs": [
    {
     "name": "stderr",
     "output_type": "stream",
     "text": [
      "C:\\Program Files\\JetBrains\\PyCharm 2022.2.3\\plugins\\python\\helpers\\pydev\\_pydevd_bundle\\pydevd_utils.py:606: FutureWarning: iteritems is deprecated and will be removed in a future version. Use .items instead.\n",
      "  for item in s.iteritems():\n",
      "C:\\Program Files\\JetBrains\\PyCharm 2022.2.3\\plugins\\python\\helpers\\pydev\\_pydevd_bundle\\pydevd_utils.py:605: FutureWarning: The behavior of `series[i:j]` with an integer-dtype index is deprecated. In a future version, this will be treated as *label-based* indexing, consistent with e.g. `series[i]` lookups. To retain the old behavior, use `series.iloc[i:j]`. To get the future behavior, use `series.loc[i:j]`.\n",
      "  s = s[:max_items]\n",
      "C:\\Program Files\\JetBrains\\PyCharm 2022.2.3\\plugins\\python\\helpers\\pydev\\_pydevd_bundle\\pydevd_utils.py:606: FutureWarning: iteritems is deprecated and will be removed in a future version. Use .items instead.\n",
      "  for item in s.iteritems():\n",
      "C:\\Program Files\\JetBrains\\PyCharm 2022.2.3\\plugins\\python\\helpers\\pydev\\_pydevd_bundle\\pydevd_utils.py:605: FutureWarning: The behavior of `series[i:j]` with an integer-dtype index is deprecated. In a future version, this will be treated as *label-based* indexing, consistent with e.g. `series[i]` lookups. To retain the old behavior, use `series.iloc[i:j]`. To get the future behavior, use `series.loc[i:j]`.\n",
      "  s = s[:max_items]\n",
      "C:\\Program Files\\JetBrains\\PyCharm 2022.2.3\\plugins\\python\\helpers\\pydev\\_pydevd_bundle\\pydevd_utils.py:606: FutureWarning: iteritems is deprecated and will be removed in a future version. Use .items instead.\n",
      "  for item in s.iteritems():\n",
      "C:\\Program Files\\JetBrains\\PyCharm 2022.2.3\\plugins\\python\\helpers\\pydev\\_pydevd_bundle\\pydevd_utils.py:605: FutureWarning: The behavior of `series[i:j]` with an integer-dtype index is deprecated. In a future version, this will be treated as *label-based* indexing, consistent with e.g. `series[i]` lookups. To retain the old behavior, use `series.iloc[i:j]`. To get the future behavior, use `series.loc[i:j]`.\n",
      "  s = s[:max_items]\n",
      "C:\\Program Files\\JetBrains\\PyCharm 2022.2.3\\plugins\\python\\helpers\\pydev\\_pydevd_bundle\\pydevd_utils.py:606: FutureWarning: iteritems is deprecated and will be removed in a future version. Use .items instead.\n",
      "  for item in s.iteritems():\n",
      "C:\\Program Files\\JetBrains\\PyCharm 2022.2.3\\plugins\\python\\helpers\\pydev\\_pydevd_bundle\\pydevd_utils.py:606: FutureWarning: iteritems is deprecated and will be removed in a future version. Use .items instead.\n",
      "  for item in s.iteritems():\n",
      "C:\\Program Files\\JetBrains\\PyCharm 2022.2.3\\plugins\\python\\helpers\\pydev\\_pydevd_bundle\\pydevd_utils.py:605: FutureWarning: The behavior of `series[i:j]` with an integer-dtype index is deprecated. In a future version, this will be treated as *label-based* indexing, consistent with e.g. `series[i]` lookups. To retain the old behavior, use `series.iloc[i:j]`. To get the future behavior, use `series.loc[i:j]`.\n",
      "  s = s[:max_items]\n",
      "C:\\Program Files\\JetBrains\\PyCharm 2022.2.3\\plugins\\python\\helpers\\pydev\\_pydevd_bundle\\pydevd_utils.py:606: FutureWarning: iteritems is deprecated and will be removed in a future version. Use .items instead.\n",
      "  for item in s.iteritems():\n",
      "C:\\Program Files\\JetBrains\\PyCharm 2022.2.3\\plugins\\python\\helpers\\pydev\\_pydevd_bundle\\pydevd_utils.py:605: FutureWarning: The behavior of `series[i:j]` with an integer-dtype index is deprecated. In a future version, this will be treated as *label-based* indexing, consistent with e.g. `series[i]` lookups. To retain the old behavior, use `series.iloc[i:j]`. To get the future behavior, use `series.loc[i:j]`.\n",
      "  s = s[:max_items]\n",
      "C:\\Program Files\\JetBrains\\PyCharm 2022.2.3\\plugins\\python\\helpers\\pydev\\_pydevd_bundle\\pydevd_utils.py:606: FutureWarning: iteritems is deprecated and will be removed in a future version. Use .items instead.\n",
      "  for item in s.iteritems():\n",
      "C:\\Program Files\\JetBrains\\PyCharm 2022.2.3\\plugins\\python\\helpers\\pydev\\_pydevd_bundle\\pydevd_utils.py:605: FutureWarning: The behavior of `series[i:j]` with an integer-dtype index is deprecated. In a future version, this will be treated as *label-based* indexing, consistent with e.g. `series[i]` lookups. To retain the old behavior, use `series.iloc[i:j]`. To get the future behavior, use `series.loc[i:j]`.\n",
      "  s = s[:max_items]\n",
      "C:\\Program Files\\JetBrains\\PyCharm 2022.2.3\\plugins\\python\\helpers\\pydev\\_pydevd_bundle\\pydevd_utils.py:606: FutureWarning: iteritems is deprecated and will be removed in a future version. Use .items instead.\n",
      "  for item in s.iteritems():\n",
      "C:\\Program Files\\JetBrains\\PyCharm 2022.2.3\\plugins\\python\\helpers\\pydev\\_pydevd_bundle\\pydevd_utils.py:606: FutureWarning: iteritems is deprecated and will be removed in a future version. Use .items instead.\n",
      "  for item in s.iteritems():\n",
      "C:\\Program Files\\JetBrains\\PyCharm 2022.2.3\\plugins\\python\\helpers\\pydev\\_pydevd_bundle\\pydevd_utils.py:605: FutureWarning: The behavior of `series[i:j]` with an integer-dtype index is deprecated. In a future version, this will be treated as *label-based* indexing, consistent with e.g. `series[i]` lookups. To retain the old behavior, use `series.iloc[i:j]`. To get the future behavior, use `series.loc[i:j]`.\n",
      "  s = s[:max_items]\n",
      "C:\\Program Files\\JetBrains\\PyCharm 2022.2.3\\plugins\\python\\helpers\\pydev\\_pydevd_bundle\\pydevd_utils.py:606: FutureWarning: iteritems is deprecated and will be removed in a future version. Use .items instead.\n",
      "  for item in s.iteritems():\n",
      "C:\\Program Files\\JetBrains\\PyCharm 2022.2.3\\plugins\\python\\helpers\\pydev\\_pydevd_bundle\\pydevd_utils.py:605: FutureWarning: The behavior of `series[i:j]` with an integer-dtype index is deprecated. In a future version, this will be treated as *label-based* indexing, consistent with e.g. `series[i]` lookups. To retain the old behavior, use `series.iloc[i:j]`. To get the future behavior, use `series.loc[i:j]`.\n",
      "  s = s[:max_items]\n",
      "C:\\Program Files\\JetBrains\\PyCharm 2022.2.3\\plugins\\python\\helpers\\pydev\\_pydevd_bundle\\pydevd_utils.py:606: FutureWarning: iteritems is deprecated and will be removed in a future version. Use .items instead.\n",
      "  for item in s.iteritems():\n",
      "C:\\Program Files\\JetBrains\\PyCharm 2022.2.3\\plugins\\python\\helpers\\pydev\\_pydevd_bundle\\pydevd_utils.py:605: FutureWarning: The behavior of `series[i:j]` with an integer-dtype index is deprecated. In a future version, this will be treated as *label-based* indexing, consistent with e.g. `series[i]` lookups. To retain the old behavior, use `series.iloc[i:j]`. To get the future behavior, use `series.loc[i:j]`.\n",
      "  s = s[:max_items]\n",
      "C:\\Program Files\\JetBrains\\PyCharm 2022.2.3\\plugins\\python\\helpers\\pydev\\_pydevd_bundle\\pydevd_utils.py:606: FutureWarning: iteritems is deprecated and will be removed in a future version. Use .items instead.\n",
      "  for item in s.iteritems():\n",
      "C:\\Program Files\\JetBrains\\PyCharm 2022.2.3\\plugins\\python\\helpers\\pydev\\_pydevd_bundle\\pydevd_utils.py:606: FutureWarning: iteritems is deprecated and will be removed in a future version. Use .items instead.\n",
      "  for item in s.iteritems():\n",
      "C:\\Program Files\\JetBrains\\PyCharm 2022.2.3\\plugins\\python\\helpers\\pydev\\_pydevd_bundle\\pydevd_utils.py:605: FutureWarning: The behavior of `series[i:j]` with an integer-dtype index is deprecated. In a future version, this will be treated as *label-based* indexing, consistent with e.g. `series[i]` lookups. To retain the old behavior, use `series.iloc[i:j]`. To get the future behavior, use `series.loc[i:j]`.\n",
      "  s = s[:max_items]\n",
      "C:\\Program Files\\JetBrains\\PyCharm 2022.2.3\\plugins\\python\\helpers\\pydev\\_pydevd_bundle\\pydevd_utils.py:606: FutureWarning: iteritems is deprecated and will be removed in a future version. Use .items instead.\n",
      "  for item in s.iteritems():\n",
      "C:\\Program Files\\JetBrains\\PyCharm 2022.2.3\\plugins\\python\\helpers\\pydev\\_pydevd_bundle\\pydevd_utils.py:605: FutureWarning: The behavior of `series[i:j]` with an integer-dtype index is deprecated. In a future version, this will be treated as *label-based* indexing, consistent with e.g. `series[i]` lookups. To retain the old behavior, use `series.iloc[i:j]`. To get the future behavior, use `series.loc[i:j]`.\n",
      "  s = s[:max_items]\n",
      "C:\\Program Files\\JetBrains\\PyCharm 2022.2.3\\plugins\\python\\helpers\\pydev\\_pydevd_bundle\\pydevd_utils.py:606: FutureWarning: iteritems is deprecated and will be removed in a future version. Use .items instead.\n",
      "  for item in s.iteritems():\n",
      "C:\\Program Files\\JetBrains\\PyCharm 2022.2.3\\plugins\\python\\helpers\\pydev\\_pydevd_bundle\\pydevd_utils.py:605: FutureWarning: The behavior of `series[i:j]` with an integer-dtype index is deprecated. In a future version, this will be treated as *label-based* indexing, consistent with e.g. `series[i]` lookups. To retain the old behavior, use `series.iloc[i:j]`. To get the future behavior, use `series.loc[i:j]`.\n",
      "  s = s[:max_items]\n",
      "C:\\Program Files\\JetBrains\\PyCharm 2022.2.3\\plugins\\python\\helpers\\pydev\\_pydevd_bundle\\pydevd_utils.py:606: FutureWarning: iteritems is deprecated and will be removed in a future version. Use .items instead.\n",
      "  for item in s.iteritems():\n",
      "C:\\Program Files\\JetBrains\\PyCharm 2022.2.3\\plugins\\python\\helpers\\pydev\\_pydevd_bundle\\pydevd_utils.py:606: FutureWarning: iteritems is deprecated and will be removed in a future version. Use .items instead.\n",
      "  for item in s.iteritems():\n",
      "C:\\Program Files\\JetBrains\\PyCharm 2022.2.3\\plugins\\python\\helpers\\pydev\\_pydevd_bundle\\pydevd_utils.py:605: FutureWarning: The behavior of `series[i:j]` with an integer-dtype index is deprecated. In a future version, this will be treated as *label-based* indexing, consistent with e.g. `series[i]` lookups. To retain the old behavior, use `series.iloc[i:j]`. To get the future behavior, use `series.loc[i:j]`.\n",
      "  s = s[:max_items]\n",
      "C:\\Program Files\\JetBrains\\PyCharm 2022.2.3\\plugins\\python\\helpers\\pydev\\_pydevd_bundle\\pydevd_utils.py:606: FutureWarning: iteritems is deprecated and will be removed in a future version. Use .items instead.\n",
      "  for item in s.iteritems():\n",
      "C:\\Program Files\\JetBrains\\PyCharm 2022.2.3\\plugins\\python\\helpers\\pydev\\_pydevd_bundle\\pydevd_utils.py:605: FutureWarning: The behavior of `series[i:j]` with an integer-dtype index is deprecated. In a future version, this will be treated as *label-based* indexing, consistent with e.g. `series[i]` lookups. To retain the old behavior, use `series.iloc[i:j]`. To get the future behavior, use `series.loc[i:j]`.\n",
      "  s = s[:max_items]\n",
      "C:\\Program Files\\JetBrains\\PyCharm 2022.2.3\\plugins\\python\\helpers\\pydev\\_pydevd_bundle\\pydevd_utils.py:606: FutureWarning: iteritems is deprecated and will be removed in a future version. Use .items instead.\n",
      "  for item in s.iteritems():\n",
      "C:\\Program Files\\JetBrains\\PyCharm 2022.2.3\\plugins\\python\\helpers\\pydev\\_pydevd_bundle\\pydevd_utils.py:605: FutureWarning: The behavior of `series[i:j]` with an integer-dtype index is deprecated. In a future version, this will be treated as *label-based* indexing, consistent with e.g. `series[i]` lookups. To retain the old behavior, use `series.iloc[i:j]`. To get the future behavior, use `series.loc[i:j]`.\n",
      "  s = s[:max_items]\n",
      "C:\\Program Files\\JetBrains\\PyCharm 2022.2.3\\plugins\\python\\helpers\\pydev\\_pydevd_bundle\\pydevd_utils.py:606: FutureWarning: iteritems is deprecated and will be removed in a future version. Use .items instead.\n",
      "  for item in s.iteritems():\n",
      "C:\\Program Files\\JetBrains\\PyCharm 2022.2.3\\plugins\\python\\helpers\\pydev\\_pydevd_bundle\\pydevd_utils.py:606: FutureWarning: iteritems is deprecated and will be removed in a future version. Use .items instead.\n",
      "  for item in s.iteritems():\n",
      "C:\\Program Files\\JetBrains\\PyCharm 2022.2.3\\plugins\\python\\helpers\\pydev\\_pydevd_bundle\\pydevd_utils.py:605: FutureWarning: The behavior of `series[i:j]` with an integer-dtype index is deprecated. In a future version, this will be treated as *label-based* indexing, consistent with e.g. `series[i]` lookups. To retain the old behavior, use `series.iloc[i:j]`. To get the future behavior, use `series.loc[i:j]`.\n",
      "  s = s[:max_items]\n",
      "C:\\Program Files\\JetBrains\\PyCharm 2022.2.3\\plugins\\python\\helpers\\pydev\\_pydevd_bundle\\pydevd_utils.py:606: FutureWarning: iteritems is deprecated and will be removed in a future version. Use .items instead.\n",
      "  for item in s.iteritems():\n",
      "C:\\Program Files\\JetBrains\\PyCharm 2022.2.3\\plugins\\python\\helpers\\pydev\\_pydevd_bundle\\pydevd_utils.py:605: FutureWarning: The behavior of `series[i:j]` with an integer-dtype index is deprecated. In a future version, this will be treated as *label-based* indexing, consistent with e.g. `series[i]` lookups. To retain the old behavior, use `series.iloc[i:j]`. To get the future behavior, use `series.loc[i:j]`.\n",
      "  s = s[:max_items]\n",
      "C:\\Program Files\\JetBrains\\PyCharm 2022.2.3\\plugins\\python\\helpers\\pydev\\_pydevd_bundle\\pydevd_utils.py:606: FutureWarning: iteritems is deprecated and will be removed in a future version. Use .items instead.\n",
      "  for item in s.iteritems():\n",
      "C:\\Program Files\\JetBrains\\PyCharm 2022.2.3\\plugins\\python\\helpers\\pydev\\_pydevd_bundle\\pydevd_utils.py:605: FutureWarning: The behavior of `series[i:j]` with an integer-dtype index is deprecated. In a future version, this will be treated as *label-based* indexing, consistent with e.g. `series[i]` lookups. To retain the old behavior, use `series.iloc[i:j]`. To get the future behavior, use `series.loc[i:j]`.\n",
      "  s = s[:max_items]\n",
      "C:\\Program Files\\JetBrains\\PyCharm 2022.2.3\\plugins\\python\\helpers\\pydev\\_pydevd_bundle\\pydevd_utils.py:606: FutureWarning: iteritems is deprecated and will be removed in a future version. Use .items instead.\n",
      "  for item in s.iteritems():\n",
      "C:\\Program Files\\JetBrains\\PyCharm 2022.2.3\\plugins\\python\\helpers\\pydev\\_pydevd_bundle\\pydevd_utils.py:606: FutureWarning: iteritems is deprecated and will be removed in a future version. Use .items instead.\n",
      "  for item in s.iteritems():\n",
      "C:\\Program Files\\JetBrains\\PyCharm 2022.2.3\\plugins\\python\\helpers\\pydev\\_pydevd_bundle\\pydevd_utils.py:605: FutureWarning: The behavior of `series[i:j]` with an integer-dtype index is deprecated. In a future version, this will be treated as *label-based* indexing, consistent with e.g. `series[i]` lookups. To retain the old behavior, use `series.iloc[i:j]`. To get the future behavior, use `series.loc[i:j]`.\n",
      "  s = s[:max_items]\n",
      "C:\\Program Files\\JetBrains\\PyCharm 2022.2.3\\plugins\\python\\helpers\\pydev\\_pydevd_bundle\\pydevd_utils.py:606: FutureWarning: iteritems is deprecated and will be removed in a future version. Use .items instead.\n",
      "  for item in s.iteritems():\n",
      "C:\\Program Files\\JetBrains\\PyCharm 2022.2.3\\plugins\\python\\helpers\\pydev\\_pydevd_bundle\\pydevd_utils.py:605: FutureWarning: The behavior of `series[i:j]` with an integer-dtype index is deprecated. In a future version, this will be treated as *label-based* indexing, consistent with e.g. `series[i]` lookups. To retain the old behavior, use `series.iloc[i:j]`. To get the future behavior, use `series.loc[i:j]`.\n",
      "  s = s[:max_items]\n",
      "C:\\Program Files\\JetBrains\\PyCharm 2022.2.3\\plugins\\python\\helpers\\pydev\\_pydevd_bundle\\pydevd_utils.py:606: FutureWarning: iteritems is deprecated and will be removed in a future version. Use .items instead.\n",
      "  for item in s.iteritems():\n",
      "C:\\Program Files\\JetBrains\\PyCharm 2022.2.3\\plugins\\python\\helpers\\pydev\\_pydevd_bundle\\pydevd_utils.py:605: FutureWarning: The behavior of `series[i:j]` with an integer-dtype index is deprecated. In a future version, this will be treated as *label-based* indexing, consistent with e.g. `series[i]` lookups. To retain the old behavior, use `series.iloc[i:j]`. To get the future behavior, use `series.loc[i:j]`.\n",
      "  s = s[:max_items]\n",
      "C:\\Program Files\\JetBrains\\PyCharm 2022.2.3\\plugins\\python\\helpers\\pydev\\_pydevd_bundle\\pydevd_utils.py:606: FutureWarning: iteritems is deprecated and will be removed in a future version. Use .items instead.\n",
      "  for item in s.iteritems():\n",
      "C:\\Program Files\\JetBrains\\PyCharm 2022.2.3\\plugins\\python\\helpers\\pydev\\_pydevd_bundle\\pydevd_utils.py:606: FutureWarning: iteritems is deprecated and will be removed in a future version. Use .items instead.\n",
      "  for item in s.iteritems():\n",
      "C:\\Program Files\\JetBrains\\PyCharm 2022.2.3\\plugins\\python\\helpers\\pydev\\_pydevd_bundle\\pydevd_utils.py:605: FutureWarning: The behavior of `series[i:j]` with an integer-dtype index is deprecated. In a future version, this will be treated as *label-based* indexing, consistent with e.g. `series[i]` lookups. To retain the old behavior, use `series.iloc[i:j]`. To get the future behavior, use `series.loc[i:j]`.\n",
      "  s = s[:max_items]\n",
      "C:\\Program Files\\JetBrains\\PyCharm 2022.2.3\\plugins\\python\\helpers\\pydev\\_pydevd_bundle\\pydevd_utils.py:606: FutureWarning: iteritems is deprecated and will be removed in a future version. Use .items instead.\n",
      "  for item in s.iteritems():\n",
      "C:\\Program Files\\JetBrains\\PyCharm 2022.2.3\\plugins\\python\\helpers\\pydev\\_pydevd_bundle\\pydevd_utils.py:605: FutureWarning: The behavior of `series[i:j]` with an integer-dtype index is deprecated. In a future version, this will be treated as *label-based* indexing, consistent with e.g. `series[i]` lookups. To retain the old behavior, use `series.iloc[i:j]`. To get the future behavior, use `series.loc[i:j]`.\n",
      "  s = s[:max_items]\n",
      "C:\\Program Files\\JetBrains\\PyCharm 2022.2.3\\plugins\\python\\helpers\\pydev\\_pydevd_bundle\\pydevd_utils.py:606: FutureWarning: iteritems is deprecated and will be removed in a future version. Use .items instead.\n",
      "  for item in s.iteritems():\n",
      "C:\\Program Files\\JetBrains\\PyCharm 2022.2.3\\plugins\\python\\helpers\\pydev\\_pydevd_bundle\\pydevd_utils.py:605: FutureWarning: The behavior of `series[i:j]` with an integer-dtype index is deprecated. In a future version, this will be treated as *label-based* indexing, consistent with e.g. `series[i]` lookups. To retain the old behavior, use `series.iloc[i:j]`. To get the future behavior, use `series.loc[i:j]`.\n",
      "  s = s[:max_items]\n",
      "C:\\Program Files\\JetBrains\\PyCharm 2022.2.3\\plugins\\python\\helpers\\pydev\\_pydevd_bundle\\pydevd_utils.py:606: FutureWarning: iteritems is deprecated and will be removed in a future version. Use .items instead.\n",
      "  for item in s.iteritems():\n",
      "C:\\Program Files\\JetBrains\\PyCharm 2022.2.3\\plugins\\python\\helpers\\pydev\\_pydevd_bundle\\pydevd_utils.py:606: FutureWarning: iteritems is deprecated and will be removed in a future version. Use .items instead.\n",
      "  for item in s.iteritems():\n",
      "C:\\Program Files\\JetBrains\\PyCharm 2022.2.3\\plugins\\python\\helpers\\pydev\\_pydevd_bundle\\pydevd_utils.py:605: FutureWarning: The behavior of `series[i:j]` with an integer-dtype index is deprecated. In a future version, this will be treated as *label-based* indexing, consistent with e.g. `series[i]` lookups. To retain the old behavior, use `series.iloc[i:j]`. To get the future behavior, use `series.loc[i:j]`.\n",
      "  s = s[:max_items]\n",
      "C:\\Program Files\\JetBrains\\PyCharm 2022.2.3\\plugins\\python\\helpers\\pydev\\_pydevd_bundle\\pydevd_utils.py:606: FutureWarning: iteritems is deprecated and will be removed in a future version. Use .items instead.\n",
      "  for item in s.iteritems():\n",
      "C:\\Program Files\\JetBrains\\PyCharm 2022.2.3\\plugins\\python\\helpers\\pydev\\_pydevd_bundle\\pydevd_utils.py:605: FutureWarning: The behavior of `series[i:j]` with an integer-dtype index is deprecated. In a future version, this will be treated as *label-based* indexing, consistent with e.g. `series[i]` lookups. To retain the old behavior, use `series.iloc[i:j]`. To get the future behavior, use `series.loc[i:j]`.\n",
      "  s = s[:max_items]\n",
      "C:\\Program Files\\JetBrains\\PyCharm 2022.2.3\\plugins\\python\\helpers\\pydev\\_pydevd_bundle\\pydevd_utils.py:606: FutureWarning: iteritems is deprecated and will be removed in a future version. Use .items instead.\n",
      "  for item in s.iteritems():\n",
      "C:\\Program Files\\JetBrains\\PyCharm 2022.2.3\\plugins\\python\\helpers\\pydev\\_pydevd_bundle\\pydevd_utils.py:605: FutureWarning: The behavior of `series[i:j]` with an integer-dtype index is deprecated. In a future version, this will be treated as *label-based* indexing, consistent with e.g. `series[i]` lookups. To retain the old behavior, use `series.iloc[i:j]`. To get the future behavior, use `series.loc[i:j]`.\n",
      "  s = s[:max_items]\n",
      "C:\\Program Files\\JetBrains\\PyCharm 2022.2.3\\plugins\\python\\helpers\\pydev\\_pydevd_bundle\\pydevd_utils.py:606: FutureWarning: iteritems is deprecated and will be removed in a future version. Use .items instead.\n",
      "  for item in s.iteritems():\n",
      "C:\\Program Files\\JetBrains\\PyCharm 2022.2.3\\plugins\\python\\helpers\\pydev\\_pydevd_bundle\\pydevd_utils.py:606: FutureWarning: iteritems is deprecated and will be removed in a future version. Use .items instead.\n",
      "  for item in s.iteritems():\n",
      "C:\\Program Files\\JetBrains\\PyCharm 2022.2.3\\plugins\\python\\helpers\\pydev\\_pydevd_bundle\\pydevd_utils.py:605: FutureWarning: The behavior of `series[i:j]` with an integer-dtype index is deprecated. In a future version, this will be treated as *label-based* indexing, consistent with e.g. `series[i]` lookups. To retain the old behavior, use `series.iloc[i:j]`. To get the future behavior, use `series.loc[i:j]`.\n",
      "  s = s[:max_items]\n",
      "C:\\Program Files\\JetBrains\\PyCharm 2022.2.3\\plugins\\python\\helpers\\pydev\\_pydevd_bundle\\pydevd_utils.py:606: FutureWarning: iteritems is deprecated and will be removed in a future version. Use .items instead.\n",
      "  for item in s.iteritems():\n",
      "C:\\Program Files\\JetBrains\\PyCharm 2022.2.3\\plugins\\python\\helpers\\pydev\\_pydevd_bundle\\pydevd_utils.py:605: FutureWarning: The behavior of `series[i:j]` with an integer-dtype index is deprecated. In a future version, this will be treated as *label-based* indexing, consistent with e.g. `series[i]` lookups. To retain the old behavior, use `series.iloc[i:j]`. To get the future behavior, use `series.loc[i:j]`.\n",
      "  s = s[:max_items]\n",
      "C:\\Program Files\\JetBrains\\PyCharm 2022.2.3\\plugins\\python\\helpers\\pydev\\_pydevd_bundle\\pydevd_utils.py:606: FutureWarning: iteritems is deprecated and will be removed in a future version. Use .items instead.\n",
      "  for item in s.iteritems():\n",
      "C:\\Program Files\\JetBrains\\PyCharm 2022.2.3\\plugins\\python\\helpers\\pydev\\_pydevd_bundle\\pydevd_utils.py:605: FutureWarning: The behavior of `series[i:j]` with an integer-dtype index is deprecated. In a future version, this will be treated as *label-based* indexing, consistent with e.g. `series[i]` lookups. To retain the old behavior, use `series.iloc[i:j]`. To get the future behavior, use `series.loc[i:j]`.\n",
      "  s = s[:max_items]\n",
      "C:\\Program Files\\JetBrains\\PyCharm 2022.2.3\\plugins\\python\\helpers\\pydev\\_pydevd_bundle\\pydevd_utils.py:606: FutureWarning: iteritems is deprecated and will be removed in a future version. Use .items instead.\n",
      "  for item in s.iteritems():\n"
     ]
    },
    {
     "ename": "KeyboardInterrupt",
     "evalue": "",
     "output_type": "error",
     "traceback": [
      "\u001B[1;31m---------------------------------------------------------------------------\u001B[0m",
      "\u001B[1;31mKeyboardInterrupt\u001B[0m                         Traceback (most recent call last)",
      "Cell \u001B[1;32mIn [21], line 2\u001B[0m\n\u001B[0;32m      1\u001B[0m val_sequences \u001B[38;5;241m=\u001B[39m tokenizer\u001B[38;5;241m.\u001B[39mtexts_to_sequences(X_val)\n\u001B[1;32m----> 2\u001B[0m val_padded \u001B[38;5;241m=\u001B[39m \u001B[43mpad_sequences\u001B[49m(val_sequences, maxlen\u001B[38;5;241m=\u001B[39mmax_len, padding\u001B[38;5;241m=\u001B[39m\u001B[38;5;124m'\u001B[39m\u001B[38;5;124mpost\u001B[39m\u001B[38;5;124m'\u001B[39m, truncating\u001B[38;5;241m=\u001B[39m\u001B[38;5;124m'\u001B[39m\u001B[38;5;124mpost\u001B[39m\u001B[38;5;124m'\u001B[39m)\n",
      "Cell \u001B[1;32mIn [21], line 2\u001B[0m\n\u001B[0;32m      1\u001B[0m val_sequences \u001B[38;5;241m=\u001B[39m tokenizer\u001B[38;5;241m.\u001B[39mtexts_to_sequences(X_val)\n\u001B[1;32m----> 2\u001B[0m val_padded \u001B[38;5;241m=\u001B[39m \u001B[43mpad_sequences\u001B[49m(val_sequences, maxlen\u001B[38;5;241m=\u001B[39mmax_len, padding\u001B[38;5;241m=\u001B[39m\u001B[38;5;124m'\u001B[39m\u001B[38;5;124mpost\u001B[39m\u001B[38;5;124m'\u001B[39m, truncating\u001B[38;5;241m=\u001B[39m\u001B[38;5;124m'\u001B[39m\u001B[38;5;124mpost\u001B[39m\u001B[38;5;124m'\u001B[39m)\n",
      "File \u001B[1;32m_pydevd_bundle\\pydevd_cython_win32_39_64.pyx:1179\u001B[0m, in \u001B[0;36m_pydevd_bundle.pydevd_cython_win32_39_64.SafeCallWrapper.__call__\u001B[1;34m()\u001B[0m\n",
      "File \u001B[1;32m_pydevd_bundle\\pydevd_cython_win32_39_64.pyx:620\u001B[0m, in \u001B[0;36m_pydevd_bundle.pydevd_cython_win32_39_64.PyDBFrame.trace_dispatch\u001B[1;34m()\u001B[0m\n",
      "File \u001B[1;32m_pydevd_bundle\\pydevd_cython_win32_39_64.pyx:929\u001B[0m, in \u001B[0;36m_pydevd_bundle.pydevd_cython_win32_39_64.PyDBFrame.trace_dispatch\u001B[1;34m()\u001B[0m\n",
      "File \u001B[1;32m_pydevd_bundle\\pydevd_cython_win32_39_64.pyx:920\u001B[0m, in \u001B[0;36m_pydevd_bundle.pydevd_cython_win32_39_64.PyDBFrame.trace_dispatch\u001B[1;34m()\u001B[0m\n",
      "File \u001B[1;32m_pydevd_bundle\\pydevd_cython_win32_39_64.pyx:317\u001B[0m, in \u001B[0;36m_pydevd_bundle.pydevd_cython_win32_39_64.PyDBFrame.do_wait_suspend\u001B[1;34m()\u001B[0m\n",
      "File \u001B[1;32mC:\\Program Files\\JetBrains\\PyCharm 2022.2.3\\plugins\\python\\helpers\\pydev\\pydevd.py:1160\u001B[0m, in \u001B[0;36mPyDB.do_wait_suspend\u001B[1;34m(self, thread, frame, event, arg, send_suspend_message, is_unhandled_exception)\u001B[0m\n\u001B[0;32m   1157\u001B[0m         from_this_thread\u001B[38;5;241m.\u001B[39mappend(frame_id)\n\u001B[0;32m   1159\u001B[0m \u001B[38;5;28;01mwith\u001B[39;00m \u001B[38;5;28mself\u001B[39m\u001B[38;5;241m.\u001B[39m_threads_suspended_single_notification\u001B[38;5;241m.\u001B[39mnotify_thread_suspended(thread_id, stop_reason):\n\u001B[1;32m-> 1160\u001B[0m     \u001B[38;5;28;43mself\u001B[39;49m\u001B[38;5;241;43m.\u001B[39;49m\u001B[43m_do_wait_suspend\u001B[49m\u001B[43m(\u001B[49m\u001B[43mthread\u001B[49m\u001B[43m,\u001B[49m\u001B[43m \u001B[49m\u001B[43mframe\u001B[49m\u001B[43m,\u001B[49m\u001B[43m \u001B[49m\u001B[43mevent\u001B[49m\u001B[43m,\u001B[49m\u001B[43m \u001B[49m\u001B[43marg\u001B[49m\u001B[43m,\u001B[49m\u001B[43m \u001B[49m\u001B[43msuspend_type\u001B[49m\u001B[43m,\u001B[49m\u001B[43m \u001B[49m\u001B[43mfrom_this_thread\u001B[49m\u001B[43m)\u001B[49m\n",
      "File \u001B[1;32mC:\\Program Files\\JetBrains\\PyCharm 2022.2.3\\plugins\\python\\helpers\\pydev\\pydevd.py:1175\u001B[0m, in \u001B[0;36mPyDB._do_wait_suspend\u001B[1;34m(self, thread, frame, event, arg, suspend_type, from_this_thread)\u001B[0m\n\u001B[0;32m   1172\u001B[0m             \u001B[38;5;28mself\u001B[39m\u001B[38;5;241m.\u001B[39m_call_mpl_hook()\n\u001B[0;32m   1174\u001B[0m         \u001B[38;5;28mself\u001B[39m\u001B[38;5;241m.\u001B[39mprocess_internal_commands()\n\u001B[1;32m-> 1175\u001B[0m         \u001B[43mtime\u001B[49m\u001B[38;5;241;43m.\u001B[39;49m\u001B[43msleep\u001B[49m\u001B[43m(\u001B[49m\u001B[38;5;241;43m0.01\u001B[39;49m\u001B[43m)\u001B[49m\n\u001B[0;32m   1177\u001B[0m \u001B[38;5;28mself\u001B[39m\u001B[38;5;241m.\u001B[39mcancel_async_evaluation(get_current_thread_id(thread), \u001B[38;5;28mstr\u001B[39m(\u001B[38;5;28mid\u001B[39m(frame)))\n\u001B[0;32m   1179\u001B[0m \u001B[38;5;66;03m# process any stepping instructions\u001B[39;00m\n",
      "\u001B[1;31mKeyboardInterrupt\u001B[0m: "
     ]
    }
   ],
   "source": [
    "val_sequences = tokenizer.texts_to_sequences(X_val)\n",
    "val_padded = pad_sequences(val_sequences, maxlen=max_len, padding='post', truncating='post')"
   ],
   "metadata": {
    "collapsed": false
   }
  },
  {
   "cell_type": "code",
   "execution_count": 22,
   "outputs": [],
   "source": [
    "embeddings_dict = {}\n",
    "with open('../../Assets/glove.twitter.27B.25d.txt','r',encoding=\"utf8\") as f:\n",
    "    for line in f:\n",
    "        values = line.split()\n",
    "        word = values[0]\n",
    "        vectors = np.asarray(values[1:], \"float32\")\n",
    "        embeddings_dict[word] = vectors\n",
    "f.close()"
   ],
   "metadata": {
    "collapsed": false
   }
  },
  {
   "cell_type": "code",
   "execution_count": 23,
   "outputs": [],
   "source": [
    "embeddings_matrix = np.zeros((vocab_size+1,25))\n",
    "for word, i in word_index.items():\n",
    "    embeddings_vector = embeddings_dict.get(word)\n",
    "    if embeddings_vector is not None:\n",
    "        embeddings_matrix[i-1] = embeddings_vector\n"
   ],
   "metadata": {
    "collapsed": false
   }
  },
  {
   "cell_type": "code",
   "execution_count": 24,
   "outputs": [
    {
     "data": {
      "text/plain": "730"
     },
     "execution_count": 24,
     "metadata": {},
     "output_type": "execute_result"
    }
   ],
   "source": [
    "word_index['reason']"
   ],
   "metadata": {
    "collapsed": false
   }
  },
  {
   "cell_type": "code",
   "execution_count": 25,
   "outputs": [
    {
     "data": {
      "text/plain": "array([0., 0., 0., 0., 0., 0., 0., 0., 0., 0., 0., 0., 0., 0., 0., 0., 0.,\n       0., 0., 0., 0., 0., 0., 0., 0.])"
     },
     "execution_count": 25,
     "metadata": {},
     "output_type": "execute_result"
    }
   ],
   "source": [
    "embeddings_matrix[1796]"
   ],
   "metadata": {
    "collapsed": false
   }
  },
  {
   "cell_type": "code",
   "execution_count": 26,
   "outputs": [
    {
     "data": {
      "text/plain": "array([ 0.43525  ,  0.41565  , -0.0049016,  0.33494  , -0.093569 ,\n        0.0231   ,  1.8699   , -0.57324  , -0.61937  ,  0.11542  ,\n       -0.90317  ,  0.59846  , -4.3689   ,  0.15006  ,  0.03712  ,\n        0.52517  ,  0.052408 , -0.22282  ,  0.57383  , -0.55142  ,\n        0.65294  ,  0.43788  ,  0.37033  ,  0.12756  , -0.73918  ],\n      dtype=float32)"
     },
     "execution_count": 26,
     "metadata": {},
     "output_type": "execute_result"
    }
   ],
   "source": [
    "embeddings_dict['reason']"
   ],
   "metadata": {
    "collapsed": false
   }
  },
  {
   "cell_type": "markdown",
   "source": [
    "### RNN model"
   ],
   "metadata": {
    "collapsed": false
   }
  },
  {
   "cell_type": "code",
   "execution_count": 27,
   "outputs": [],
   "source": [
    "from keras.models import Sequential\n",
    "from keras.layers import Embedding, LSTM, Dense, Dropout, Bidirectional\n",
    "from keras.optimizers import Adam\n",
    "from keras.losses import BinaryCrossentropy\n",
    "from keras.initializers.initializers_v2 import Constant\n"
   ],
   "metadata": {
    "collapsed": false
   }
  },
  {
   "cell_type": "code",
   "execution_count": 35,
   "outputs": [
    {
     "name": "stdout",
     "output_type": "stream",
     "text": [
      "Model: \"sequential_5\"\n",
      "_________________________________________________________________\n",
      " Layer (type)                Output Shape              Param #   \n",
      "=================================================================\n",
      " embedding_5 (Embedding)     (None, 25, 25)            335875    \n",
      "                                                                 \n",
      " lstm_5 (LSTM)               (None, 25, 256)           288768    \n",
      "                                                                 \n",
      " dense_5 (Dense)             (None, 25, 1)             257       \n",
      "                                                                 \n",
      "=================================================================\n",
      "Total params: 624,900\n",
      "Trainable params: 289,025\n",
      "Non-trainable params: 335,875\n",
      "_________________________________________________________________\n"
     ]
    }
   ],
   "source": [
    "model = Sequential([\n",
    "    Embedding(input_dim=vocab_size+1, output_dim= 25,embeddings_initializer=Constant(embeddings_matrix), input_length=max_len,trainable=False),\n",
    "    LSTM(256, dropout=0.1,return_sequences=True),\n",
    "    Dense(1, activation='sigmoid')\n",
    "])\n",
    "model.summary()"
   ],
   "metadata": {
    "collapsed": false
   }
  },
  {
   "cell_type": "code",
   "execution_count": 36,
   "outputs": [
    {
     "name": "stdout",
     "output_type": "stream",
     "text": [
      "Epoch 1/20\n",
      "153/153 - 11s - loss: 0.6763 - accuracy: 0.5770 - val_loss: 0.6928 - val_accuracy: 0.5621 - 11s/epoch - 71ms/step\n",
      "Epoch 2/20\n",
      "153/153 - 9s - loss: 0.6699 - accuracy: 0.5930 - val_loss: 0.6717 - val_accuracy: 0.5894 - 9s/epoch - 58ms/step\n",
      "Epoch 3/20\n",
      "153/153 - 9s - loss: 0.6654 - accuracy: 0.5991 - val_loss: 0.6778 - val_accuracy: 0.5783 - 9s/epoch - 58ms/step\n",
      "Epoch 4/20\n",
      "153/153 - 9s - loss: 0.6604 - accuracy: 0.6097 - val_loss: 0.6952 - val_accuracy: 0.5511 - 9s/epoch - 58ms/step\n",
      "Epoch 5/20\n",
      "153/153 - 9s - loss: 0.6504 - accuracy: 0.6200 - val_loss: 0.7010 - val_accuracy: 0.5582 - 9s/epoch - 58ms/step\n",
      "Epoch 6/20\n",
      "153/153 - 9s - loss: 0.6433 - accuracy: 0.6315 - val_loss: 0.7210 - val_accuracy: 0.5445 - 9s/epoch - 58ms/step\n",
      "Epoch 7/20\n",
      "153/153 - 9s - loss: 0.6303 - accuracy: 0.6411 - val_loss: 0.6587 - val_accuracy: 0.6173 - 9s/epoch - 58ms/step\n",
      "Epoch 8/20\n",
      "153/153 - 9s - loss: 0.6211 - accuracy: 0.6531 - val_loss: 0.6696 - val_accuracy: 0.5962 - 9s/epoch - 58ms/step\n",
      "Epoch 9/20\n",
      "153/153 - 9s - loss: 0.6083 - accuracy: 0.6734 - val_loss: 0.6559 - val_accuracy: 0.6319 - 9s/epoch - 58ms/step\n",
      "Epoch 10/20\n",
      "153/153 - 9s - loss: 0.5923 - accuracy: 0.6816 - val_loss: 0.6464 - val_accuracy: 0.6242 - 9s/epoch - 58ms/step\n",
      "Epoch 11/20\n",
      "153/153 - 11s - loss: 0.5810 - accuracy: 0.6949 - val_loss: 0.6587 - val_accuracy: 0.6136 - 11s/epoch - 70ms/step\n",
      "Epoch 12/20\n",
      "153/153 - 9s - loss: 0.5620 - accuracy: 0.7077 - val_loss: 0.6435 - val_accuracy: 0.6542 - 9s/epoch - 61ms/step\n",
      "Epoch 13/20\n",
      "153/153 - 10s - loss: 0.5369 - accuracy: 0.7313 - val_loss: 0.6741 - val_accuracy: 0.6296 - 10s/epoch - 63ms/step\n",
      "Epoch 14/20\n",
      "153/153 - 9s - loss: 0.5146 - accuracy: 0.7450 - val_loss: 0.6484 - val_accuracy: 0.6475 - 9s/epoch - 58ms/step\n",
      "Epoch 15/20\n",
      "153/153 - 9s - loss: 0.5058 - accuracy: 0.7503 - val_loss: 0.6451 - val_accuracy: 0.6495 - 9s/epoch - 60ms/step\n",
      "Epoch 16/20\n",
      "153/153 - 9s - loss: 0.4822 - accuracy: 0.7663 - val_loss: 0.6365 - val_accuracy: 0.6702 - 9s/epoch - 58ms/step\n",
      "Epoch 17/20\n",
      "153/153 - 9s - loss: 0.4533 - accuracy: 0.7840 - val_loss: 0.7192 - val_accuracy: 0.6177 - 9s/epoch - 58ms/step\n",
      "Epoch 18/20\n",
      "153/153 - 9s - loss: 0.4253 - accuracy: 0.8007 - val_loss: 0.7007 - val_accuracy: 0.6613 - 9s/epoch - 57ms/step\n",
      "Epoch 19/20\n",
      "153/153 - 9s - loss: 0.4108 - accuracy: 0.8087 - val_loss: 0.8027 - val_accuracy: 0.6212 - 9s/epoch - 57ms/step\n",
      "Epoch 20/20\n",
      "153/153 - 9s - loss: 0.3737 - accuracy: 0.8249 - val_loss: 0.8198 - val_accuracy: 0.6215 - 9s/epoch - 57ms/step\n"
     ]
    }
   ],
   "source": [
    "loss = BinaryCrossentropy(from_logits=False)\n",
    "optim = Adam(learning_rate=0.001)\n",
    "metrics = ['accuracy']\n",
    "model.compile(loss=loss, optimizer=optim, metrics=metrics)\n",
    "history = model.fit(train_padded, y_train, epochs=20, validation_data=(val_padded, y_val),verbose=2)"
   ],
   "metadata": {
    "collapsed": false
   }
  },
  {
   "cell_type": "code",
   "execution_count": 37,
   "outputs": [],
   "source": [
    "import matplotlib.pyplot as plt"
   ],
   "metadata": {
    "collapsed": false
   }
  },
  {
   "cell_type": "code",
   "execution_count": 38,
   "outputs": [
    {
     "data": {
      "text/plain": "<Figure size 1500x500 with 2 Axes>",
      "image/png": "[encoded data removed]"
     },
     "metadata": {},
     "output_type": "display_data"
    }
   ],
   "source": [
    "fig, (ax1, ax2) = plt.subplots(1, 2, figsize=(15, 5))\n",
    "ax1.plot(history.history['accuracy'])\n",
    "ax1.plot(history.history['val_accuracy'])\n",
    "ax1.set_title('Model Accuracy')\n",
    "ax1.set_ylabel('Accuracy')\n",
    "ax1.set_xlabel('Epoch')\n",
    "ax1.legend(['Train', 'Validation'], loc='upper left')\n",
    "\n",
    "ax2.plot(history.history['loss'])\n",
    "ax2.plot(history.history['val_loss'])\n",
    "ax2.set_title('Model Loss')\n",
    "ax2.set_ylabel('Loss')\n",
    "ax2.set_xlabel('Epoch')\n",
    "ax2.legend(['Train', 'Validation'], loc='upper left')\n",
    "plt.show()"
   ],
   "metadata": {
    "collapsed": false
   }
  },
  {
   "cell_type": "markdown",
   "source": [
    "### Predictions"
   ],
   "metadata": {
    "collapsed": false
   }
  },
  {
   "cell_type": "code",
   "execution_count": 39,
   "outputs": [],
   "source": [
    "test_sequences = tokenizer.texts_to_sequences(X_test)\n",
    "test_padded = pad_sequences(test_sequences, maxlen=max_len, padding='post', truncating='post')"
   ],
   "metadata": {
    "collapsed": false
   }
  },
  {
   "cell_type": "code",
   "execution_count": 40,
   "outputs": [],
   "source": [
    "index_word = nlp_utils.index2word(word_index)"
   ],
   "metadata": {
    "collapsed": false
   }
  },
  {
   "cell_type": "code",
   "execution_count": 41,
   "outputs": [
    {
     "name": "stdout",
     "output_type": "stream",
     "text": [
      "48/48 [==============================] - 2s 27ms/step\n"
     ]
    }
   ],
   "source": [
    "pred_prob = model.predict(test_padded)"
   ],
   "metadata": {
    "collapsed": false
   }
  },
  {
   "cell_type": "code",
   "execution_count": 46,
   "outputs": [
    {
     "data": {
      "text/plain": "(1523, 25, 1)"
     },
     "execution_count": 46,
     "metadata": {},
     "output_type": "execute_result"
    }
   ],
   "source": [
    "pred_prob.shape()"
   ],
   "metadata": {
    "collapsed": false
   }
  },
  {
   "cell_type": "code",
   "execution_count": 43,
   "outputs": [
    {
     "ename": "ValueError",
     "evalue": "The truth value of an array with more than one element is ambiguous. Use a.any() or a.all()",
     "output_type": "error",
     "traceback": [
      "\u001B[1;31m---------------------------------------------------------------------------\u001B[0m",
      "\u001B[1;31mValueError\u001B[0m                                Traceback (most recent call last)",
      "Cell \u001B[1;32mIn [43], line 1\u001B[0m\n\u001B[1;32m----> 1\u001B[0m y_pred \u001B[38;5;241m=\u001B[39m [\u001B[38;5;241m1\u001B[39m \u001B[38;5;28;01mif\u001B[39;00m p \u001B[38;5;241m>\u001B[39m \u001B[38;5;241m0.5\u001B[39m \u001B[38;5;28;01melse\u001B[39;00m \u001B[38;5;241m0\u001B[39m \u001B[38;5;28;01mfor\u001B[39;00m p \u001B[38;5;129;01min\u001B[39;00m pred_prob]\n",
      "Cell \u001B[1;32mIn [43], line 1\u001B[0m, in \u001B[0;36m<listcomp>\u001B[1;34m(.0)\u001B[0m\n\u001B[1;32m----> 1\u001B[0m y_pred \u001B[38;5;241m=\u001B[39m [\u001B[38;5;241m1\u001B[39m \u001B[38;5;28;01mif\u001B[39;00m \u001B[43mp\u001B[49m\u001B[43m \u001B[49m\u001B[38;5;241;43m>\u001B[39;49m\u001B[43m \u001B[49m\u001B[38;5;241;43m0.5\u001B[39;49m \u001B[38;5;28;01melse\u001B[39;00m \u001B[38;5;241m0\u001B[39m \u001B[38;5;28;01mfor\u001B[39;00m p \u001B[38;5;129;01min\u001B[39;00m pred_prob]\n",
      "\u001B[1;31mValueError\u001B[0m: The truth value of an array with more than one element is ambiguous. Use a.any() or a.all()"
     ]
    }
   ],
   "source": [
    "y_pred = [1 if p > 0.5 else 0 for p in pred_prob]"
   ],
   "metadata": {
    "collapsed": false
   }
  },
  {
   "cell_type": "code",
   "execution_count": null,
   "outputs": [],
   "source": [
    "df_results = pd.DataFrame()\n",
    "X_test = list(X_test)\n",
    "y_test = list(y_test)\n",
    "df_results['sequence'] = test_sequences\n",
    "df_results['X_test'] = X_test\n",
    "df_results['seq2text'] = df_results['sequence'].apply(lambda x: nlp_utils.seq2text(x, index_word))\n",
    "df_results['y_pred'] = y_pred\n",
    "df_results['y_true'] = y_test\n",
    "df_results"
   ],
   "metadata": {
    "collapsed": false
   }
  },
  {
   "cell_type": "markdown",
   "source": [
    "### Evaluating Model"
   ],
   "metadata": {
    "collapsed": false
   }
  },
  {
   "cell_type": "code",
   "execution_count": null,
   "outputs": [],
   "source": [
    "from sklearn.metrics import accuracy_score, precision_score, recall_score, f1_score, confusion_matrix, classification_report\n",
    "import matplotlib.pyplot as plt\n",
    "import seaborn as sns"
   ],
   "metadata": {
    "collapsed": false
   }
  },
  {
   "cell_type": "code",
   "execution_count": null,
   "outputs": [],
   "source": [
    "accuracy = accuracy_score(y_test,y_pred)\n",
    "precision = precision_score(y_test,y_pred)\n",
    "recall = recall_score(y_test,y_pred)\n",
    "f1score = f1_score(y_test,y_pred)\n",
    "cm = confusion_matrix(y_test,y_pred)\n"
   ],
   "metadata": {
    "collapsed": false
   }
  },
  {
   "cell_type": "code",
   "execution_count": null,
   "outputs": [],
   "source": [
    "def show_confusion_matrix(cm):\n",
    "        print(\"Confusion Matrix\")\n",
    "        plt.figure(figsize=(10, 7))\n",
    "\n",
    "        sns.heatmap(cm, annot=True, fmt='d', cmap='Blues', xticklabels=['Negative', 'Positive'],\n",
    "                    yticklabels=['Negative', 'Positive'])\n",
    "        plt.xlabel('Predicted')\n",
    "        plt.ylabel('Truth')\n",
    "        plt.title('Confusion Matrix')\n",
    "        plt.show()"
   ],
   "metadata": {
    "collapsed": false
   }
  },
  {
   "cell_type": "code",
   "execution_count": null,
   "outputs": [],
   "source": [
    "print(classification_report(y_test,y_pred))\n",
    "show_confusion_matrix(cm)"
   ],
   "metadata": {
    "collapsed": false
   }
  },
  {
   "cell_type": "code",
   "execution_count": null,
   "outputs": [],
   "source": [
    "# pattern = re.compile(r'https?://\\S+|www\\.\\S+')\n",
    "# for t in df_train.text:\n",
    "#     matches = pattern.findall(t)\n",
    "#     for match in matches:\n",
    "#         print(t)\n",
    "#         print(match)\n",
    "#         print(pattern.sub())\n"
   ],
   "metadata": {
    "collapsed": false
   }
  }
 ],
 "metadata": {
  "kernelspec": {
   "display_name": "Python 3",
   "language": "python",
   "name": "python3"
  },
  "language_info": {
   "codemirror_mode": {
    "name": "ipython",
    "version": 2
   },
   "file_extension": ".py",
   "mimetype": "text/x-python",
   "name": "python",
   "nbconvert_exporter": "python",
   "pygments_lexer": "ipython2",
   "version": "2.7.6"
  }
 },
 "nbformat": 4,
 "nbformat_minor": 0
}
